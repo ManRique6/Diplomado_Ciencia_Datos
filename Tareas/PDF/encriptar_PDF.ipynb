{
 "cells": [
  {
   "cell_type": "markdown",
   "id": "1ecb10db-05a1-4b9e-8c4f-27852c3a3f3d",
   "metadata": {},
   "source": [
    "# <span style=\"color:#3182bd\"><center>**Encriptar PDF**</center></span>"
   ]
  },
  {
   "cell_type": "markdown",
   "id": "1ae538ee-8605-4796-a676-0f28d7b6c805",
   "metadata": {},
   "source": [
    "## **Pasos**\n",
    "\n",
    "**1** Cargar los PDF en una carpeta y modificar la ruta **carpeta_origen**.\\\n",
    "**2** Crear una carpta donde van a quedar los archivos encriptados y copiar la ruta en **carpeta_destino**.\\\n",
    "**3** Crear un archivo de excel y copiar la ruta en **ruta_excel**.\\\n",
    "**3.1** En el archivo de Excel, nombrar la hoja como **Hoja1**.\\\n",
    "**3.2** En la **Hoja1** colocar desde la celda **A1** las contraseñas y en la celda **B2** colocar el nombre final de cada PDF.\\\n",
    "${}$"
   ]
  },
  {
   "cell_type": "code",
   "execution_count": 48,
   "id": "cb10c286-1b4a-4265-8f9d-88e9a4ef31dc",
   "metadata": {
    "tags": []
   },
   "outputs": [
    {
     "name": "stdout",
     "output_type": "stream",
     "text": [
      "Archivo encriptado y guardado en: ..//..//..//..//../pc/OneDrive/Escritorio/Nueva carpeta\\1_f.pdf\n",
      "Archivo encriptado y guardado en: ..//..//..//..//../pc/OneDrive/Escritorio/Nueva carpeta\\2_FORMATO SEGURO DE VUDA OBSEQUIO - copia.pdf\n",
      "Archivo encriptado y guardado en: ..//..//..//..//../pc/OneDrive/Escritorio/Nueva carpeta\\3_FORMATO SEGURO DE VUDA OBSEQUIO.pdf\n",
      "Archivo encriptado y guardado en: ..//..//..//..//../pc/OneDrive/Escritorio/Nueva carpeta\\4_hvandresmanriquecv - copia.pdf\n",
      "Archivo encriptado y guardado en: ..//..//..//..//../pc/OneDrive/Escritorio/Nueva carpeta\\5_hvandresmanriquecv.pdf\n"
     ]
    }
   ],
   "source": [
    "import os\n",
    "import aspose.pdf as ap\n",
    "import openpyxl\n",
    "import pandas as pd\n",
    "\n",
    "# Carpeta que contiene los archivos PDF a encriptar\n",
    "carpeta_origen = \"C:\\\\Users\\\\pc\\\\OneDrive\\\\Escritorio\\\\Certificados\"\n",
    "\n",
    "# Carpeta donde guardar los PDF encriptados\n",
    "carpeta_destino = \"..//..//..//..//../pc/OneDrive/Escritorio/Nueva carpeta\"\n",
    "\n",
    "# Ruta del archivo Excel que contiene las contraseñas\n",
    "ruta_excel = \"C:\\\\Users\\\\pc\\\\OneDrive\\\\Escritorio\\\\contra.xlsx\"\n",
    "\n",
    "# Cargar el archivo Excel\n",
    "workbook = openpyxl.load_workbook(ruta_excel)\n",
    "\n",
    "# Seleccionar la hoja de cálculo\n",
    "hoja_excel = workbook[\"Hoja1\"]\n",
    "\n",
    "# Obtener las contraseñas de la columna \"Contraseña\"\n",
    "\n",
    "df_id = pd.read_excel(ruta_excel)\n",
    "contrasenas = [str(i) for i in df_id[\"id\"]]\n",
    "nombre = [str(i) for i in df_id[\"nombre\"]]\n",
    "\n",
    "# Obtener la lista de archivos PDF en la carpeta de origen\n",
    "archivos_pdf = [archivo for archivo in os.listdir(carpeta_origen) if archivo.endswith(\".pdf\")]\n",
    "\n",
    "# Iterar sobre los archivos PDF y encriptarlos con las contraseñas\n",
    "for i, archivo_pdf in enumerate(archivos_pdf):\n",
    "    # Construir la ruta completa de entrada y salida\n",
    "    ruta_pdf_entrada = os.path.join(carpeta_origen, archivo_pdf)\n",
    "    ruta_pdf_salida = os.path.join(carpeta_destino, f\"{i+1}_{nombre[i]}.pdf\")\n",
    "\n",
    "    # Cargar el archivo PDF\n",
    "    document = ap.Document(ruta_pdf_entrada)\n",
    "\n",
    "    # Encriptar el PDF con la contraseña correspondiente\n",
    "    if i < len(contrasenas):\n",
    "        document.encrypt(\"user_password\", contrasenas[i], ap.facades.DocumentPrivilege.forbid_all, ap.CryptoAlgorithm.RC4X128, False)\n",
    "    else:\n",
    "        print(f\"No se encontró una contraseña para el archivo {archivo_pdf}\")\n",
    "\n",
    "    # Guardar el PDF encriptado en la carpeta de destino\n",
    "    document.save(ruta_pdf_salida)\n",
    "\n",
    "    print(f\"Archivo encriptado y guardado en: {ruta_pdf_salida}\")\n",
    "\n",
    "# Cerrar el archivo Excel\n",
    "workbook.close()\n"
   ]
  },
  {
   "cell_type": "code",
   "execution_count": null,
   "id": "1920dbac-297b-4648-9e17-d917c0c1aa0c",
   "metadata": {},
   "outputs": [],
   "source": []
  }
 ],
 "metadata": {
  "kernelspec": {
   "display_name": "Python 3 (ipykernel)",
   "language": "python",
   "name": "python3"
  },
  "language_info": {
   "codemirror_mode": {
    "name": "ipython",
    "version": 3
   },
   "file_extension": ".py",
   "mimetype": "text/x-python",
   "name": "python",
   "nbconvert_exporter": "python",
   "pygments_lexer": "ipython3",
   "version": "3.11.3"
  }
 },
 "nbformat": 4,
 "nbformat_minor": 5
}
