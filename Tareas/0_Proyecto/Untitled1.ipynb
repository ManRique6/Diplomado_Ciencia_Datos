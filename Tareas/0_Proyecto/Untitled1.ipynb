{
 "cells": [
  {
   "cell_type": "code",
   "execution_count": 2,
   "id": "3b812b04-498d-4ef9-a5e8-516a05b8b0c3",
   "metadata": {
    "tags": []
   },
   "outputs": [],
   "source": [
    "# Pasando pdf a imagenes:"
   ]
  },
  {
   "cell_type": "code",
   "execution_count": null,
   "id": "d6f86c0c-f953-4e75-897d-a80b92f1726b",
   "metadata": {},
   "outputs": [],
   "source": [
    "#convertir pdf a imagen\n",
    "    from wand.image import Image\n",
    "    #estableciendo resolucion a imagen\n",
    "    with Image(filename=path_absoluta, resolution=400) as img:\n",
    "        #estableciendo ancho y alto\n",
    "        img.resize(1850,1850)\n",
    "        img.save(filename=\"media/normas/temp.jpg\")"
   ]
  },
  {
   "cell_type": "code",
   "execution_count": null,
   "id": "61c1fd54-c8aa-42fd-a6b9-acdf226c4955",
   "metadata": {},
   "outputs": [],
   "source": [
    "# Pasando pdf a imagenes:"
   ]
  },
  {
   "cell_type": "code",
   "execution_count": null,
   "id": "f6540256-9e33-43fa-9047-4792fe98ed97",
   "metadata": {},
   "outputs": [],
   "source": [
    "import pytesseract\n",
    "    from PIL import ImageEnhance, ImageFilter\n",
    "    from PIL import Image as Img\n",
    "    im = Img.open(\"media/normas/temp.jpg\")\n",
    "    im = im.filter(ImageFilter.MedianFilter())\n",
    "\n",
    "    enhancer = ImageEnhance.Contrast(im)\n",
    "    #aplicando filtro para mejorar la convercion de imagen->txt\n",
    "    im = enhancer.enhance(15)\n",
    "    im = im.convert('1')\n",
    "    im.save('sample.jpeg')\n",
    "\n",
    "    text = pytesseract.image_to_string(Img.open('sample.jpeg'), lang='spa')"
   ]
  },
  {
   "cell_type": "code",
   "execution_count": null,
   "id": "abb9e530-c85a-44a3-9c78-0ba1cd9b88b5",
   "metadata": {},
   "outputs": [],
   "source": [
    "startmark = \"\\xff\\xd8\"\n",
    "startfix = 0\n",
    "endmark = \"\\xff\\xd9\"\n",
    "endfix = 2\n",
    "i = 0\n",
    "\n",
    "njpg = 0\n",
    "while True:\n",
    "    istream = pdf.find(\"stream\", i)\n",
    "    if istream < 0:\n",
    "        break\n",
    "    istart = pdf.find(startmark, istream, istream+20)\n",
    "    if istart < 0:\n",
    "        i = istream+20\n",
    "        continue\n",
    "    iend = pdf.find(\"endstream\", istart)\n",
    "    if iend < 0:\n",
    "        raise Exception(\"no se encontro el fin de stream!\")\n",
    "    iend = pdf.find(endmark, iend-20)\n",
    "    if iend < 0:\n",
    "        raise Exception(\"no se encontro el fin de  JPG!\")\n",
    "\n",
    "    istart += startfix\n",
    "    iend += endfix\n",
    "\n",
    "\n",
    "    jpg = pdf[istart:iend]\n",
    "    jpgfile = file(\"jpg%d.jpg\" % njpg, \"wb\")\n",
    "    jpgfile.write(jpg)\n",
    "    jpgfile.close()\n",
    "\n",
    "    njpg += 1\n",
    "    i = iend    \n",
    "print (\"finalizado\")"
   ]
  }
 ],
 "metadata": {
  "kernelspec": {
   "display_name": "Python 3 (ipykernel)",
   "language": "python",
   "name": "python3"
  },
  "language_info": {
   "codemirror_mode": {
    "name": "ipython",
    "version": 3
   },
   "file_extension": ".py",
   "mimetype": "text/x-python",
   "name": "python",
   "nbconvert_exporter": "python",
   "pygments_lexer": "ipython3",
   "version": "3.11.3"
  }
 },
 "nbformat": 4,
 "nbformat_minor": 5
}
