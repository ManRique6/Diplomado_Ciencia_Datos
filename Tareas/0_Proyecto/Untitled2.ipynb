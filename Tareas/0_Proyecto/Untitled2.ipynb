{
 "cells": [
  {
   "cell_type": "markdown",
   "id": "dc4b1de0-28e2-4639-8901-7723abdd8a1a",
   "metadata": {},
   "source": [
    "# Reconocer texto de PDF con OCR en Python"
   ]
  },
  {
   "cell_type": "code",
   "execution_count": 2,
   "id": "06fdafe3-97bb-40fc-b610-d61eb7462bcf",
   "metadata": {
    "tags": []
   },
   "outputs": [
    {
     "name": "stdout",
     "output_type": "stream",
     "text": [
      "Requirement already satisfied: aspose-ocr-python-net in c:\\users\\pc\\anaconda3\\lib\\site-packages (23.8.1)\n",
      "Note: you may need to restart the kernel to use updated packages.\n"
     ]
    }
   ],
   "source": [
    "pip install aspose-ocr-python-net"
   ]
  },
  {
   "cell_type": "code",
   "execution_count": 10,
   "id": "3d5cb9dd-6b70-4416-954a-2b4798faa4f3",
   "metadata": {
    "tags": []
   },
   "outputs": [
    {
     "ename": "RuntimeError",
     "evalue": "Proxy error(NotImplementedException): Not supported image type",
     "output_type": "error",
     "traceback": [
      "\u001b[1;31m---------------------------------------------------------------------------\u001b[0m",
      "\u001b[1;31mRuntimeError\u001b[0m                              Traceback (most recent call last)",
      "Cell \u001b[1;32mIn[10], line 15\u001b[0m\n\u001b[0;32m     12\u001b[0m \u001b[38;5;28minput\u001b[39m\u001b[38;5;241m.\u001b[39madd(\u001b[38;5;124m\"\u001b[39m\u001b[38;5;124mC:\u001b[39m\u001b[38;5;130;01m\\\\\u001b[39;00m\u001b[38;5;124mUsers\u001b[39m\u001b[38;5;130;01m\\\\\u001b[39;00m\u001b[38;5;124mpc\u001b[39m\u001b[38;5;130;01m\\\\\u001b[39;00m\u001b[38;5;124mOneDrive\u001b[39m\u001b[38;5;130;01m\\\\\u001b[39;00m\u001b[38;5;124mEscritorio\u001b[39m\u001b[38;5;130;01m\\\\\u001b[39;00m\u001b[38;5;124mOC_pdf\u001b[39m\u001b[38;5;130;01m\\\\\u001b[39;00m\u001b[38;5;124mSEGURO EXEQUIAL Ortiz Carreño Edwin Alejandro.pdf\u001b[39m\u001b[38;5;124m\"\u001b[39m)\n\u001b[0;32m     14\u001b[0m \u001b[38;5;66;03m# Realiza el reconocimiento de texto en el archivo PDF utilizando el método \"recognize\" en el objeto \"api\".\u001b[39;00m\n\u001b[1;32m---> 15\u001b[0m result \u001b[38;5;241m=\u001b[39m api\u001b[38;5;241m.\u001b[39mrecognize(\u001b[38;5;28minput\u001b[39m)\n\u001b[0;32m     17\u001b[0m \u001b[38;5;66;03m# Imprime el texto reconocido en la consola.\u001b[39;00m\n\u001b[0;32m     18\u001b[0m \u001b[38;5;66;03m# El resultado se accede a través del índice 0 en el objeto \"result\",\u001b[39;00m\n\u001b[0;32m     19\u001b[0m \u001b[38;5;66;03m# y el texto reconocido se encuentra en la propiedad \"recognition_text\" del resultado.\u001b[39;00m\n\u001b[0;32m     20\u001b[0m \u001b[38;5;28mprint\u001b[39m(result[\u001b[38;5;241m1\u001b[39m]\u001b[38;5;241m.\u001b[39mrecognition_text)\n",
      "\u001b[1;31mRuntimeError\u001b[0m: Proxy error(NotImplementedException): Not supported image type"
     ]
    }
   ],
   "source": [
    "# Importa la biblioteca Aspose.OCR como \"ocr\".\n",
    "import aspose.ocr as ocr\n",
    "\n",
    "# Inicializa un objeto de la clase \"AsposeOcr\" llamado \"api\".\n",
    "api = ocr.AsposeOcr()\n",
    "\n",
    "# Crea un objeto de entrada de OCR llamado \"input\" utilizando la clase \"OcrInput\".\n",
    "# Establece el tipo de entrada en \"PDF\" utilizando \"ocr.InputType.PDF\".\n",
    "input = ocr.OcrInput(ocr.InputType.PDF)\n",
    "\n",
    "# Agrega el archivo PDF \"source.pdf\" como entrada para el proceso de OCR.\n",
    "input.add(\"C:\\\\Users\\\\pc\\\\OneDrive\\\\Escritorio\\\\OC_pdf\\\\SEGURO EXEQUIAL Ortiz Carreño Edwin Alejandro.pdf\")\n",
    "\n",
    "# Realiza el reconocimiento de texto en el archivo PDF utilizando el método \"recognize\" en el objeto \"api\".\n",
    "result = api.recognize(input)\n",
    "\n",
    "# Imprime el texto reconocido en la consola.\n",
    "# El resultado se accede a través del índice 0 en el objeto \"result\",\n",
    "# y el texto reconocido se encuentra en la propiedad \"recognition_text\" del resultado.\n",
    "print(result[1].recognition_text)"
   ]
  },
  {
   "cell_type": "code",
   "execution_count": null,
   "id": "1e4e0b7a-5d2b-4b33-90e0-b1799ef64ff3",
   "metadata": {},
   "outputs": [],
   "source": []
  },
  {
   "cell_type": "markdown",
   "id": "183e0d99-a091-441b-9ebc-48d8eda117a8",
   "metadata": {},
   "source": [
    "# Convierta un PDF escaneado en un PDF editable o con capacidad de búsqueda con OCR en Python"
   ]
  },
  {
   "cell_type": "code",
   "execution_count": 7,
   "id": "3347553e-4d07-44a8-95d1-4f4d59b50a1c",
   "metadata": {
    "tags": []
   },
   "outputs": [],
   "source": [
    "# Importa la biblioteca Aspose.OCR como \"ocr\".\n",
    "import aspose.ocr as ocr\n",
    "\n",
    "# Inicializa un objeto de la clase \"AsposeOcr\" llamado \"api\".\n",
    "api = ocr.AsposeOcr()\n",
    "\n",
    "# Inicializa un objeto de configuración de reconocimiento llamado \"settings\".\n",
    "settings = ocr.RecognitionSettings()\n",
    "\n",
    "# Configura algunas opciones de reconocimiento en \"settings\".\n",
    "settings.auto_denoising = True  # Aplicar denoising automático.\n",
    "settings.auto_contrast = True    # Aplicar contraste automático.\n",
    "\n",
    "# Crea un objeto de entrada de OCR llamado \"input\" utilizando la clase \"OcrInput\".\n",
    "# Se especifica que se procesará un archivo PDF.\n",
    "input = ocr.OcrInput(ocr.InputType.PDF)\n",
    "\n",
    "# Agrega el archivo PDF que se va a procesar. También se especifica la página inicial (0) y la cantidad total de páginas (1).\n",
    "input.add(\"C:\\\\Users\\\\pc\\\\OneDrive\\\\Escritorio\\\\OC_pdf\\\\SEGURO EXEQUIAL Vallejo Arango Juliana.pdf\", 0, 2)\n",
    "\n",
    "# Procesa el archivo PDF para reconocimiento de texto con OCR, utilizando la configuración definida en \"settings\".\n",
    "result = api.recognize(input, settings)\n",
    "\n",
    "# Guarda el resultado en un archivo PDF searchable (donde el texto reconocido es buscable).\n",
    "api.save_multipage_document(\"C:\\\\Users\\\\pc\\\\OneDrive\\\\Escritorio\\\\OC_pdf\\\\Nueva carpeta\\\\SEGURO EXEQUIAL Vallejo Arango Juliana.pdf\", ocr.SaveFormat.PDF, result)\n"
   ]
  },
  {
   "cell_type": "code",
   "execution_count": 24,
   "id": "bef43b5b-87aa-4c4c-a475-896cf7fc143c",
   "metadata": {
    "tags": []
   },
   "outputs": [
    {
     "name": "stdout",
     "output_type": "stream",
     "text": [
      "Coordenadas: (86, 359)\n",
      "Coordenadas: (379, 382)\n"
     ]
    }
   ],
   "source": [
    "import cv2\n",
    "\n",
    "# Carga la imagen\n",
    "image = cv2.imread(\"C:\\\\Users\\\\pc\\\\OneDrive\\\\Escritorio\\\\OC_pdf\\\\Captura de pantalla 2023-09-07 003530.png\")\n",
    "\n",
    "# Muestra la imagen en una ventana\n",
    "cv2.imshow('Imagen', image)\n",
    "\n",
    "# Función para manejar los clics del mouse\n",
    "def obtener_coordenadas(event, x, y, flags, param):\n",
    "    if event == cv2.EVENT_LBUTTONDOWN:\n",
    "        print(f'Coordenadas: ({x}, {y})')\n",
    "\n",
    "# Asigna la función de manejo de clics al evento del mouse\n",
    "cv2.setMouseCallback('Imagen', obtener_coordenadas)\n",
    "\n",
    "# Espera a que el usuario haga clic en la imagen\n",
    "cv2.waitKey(0)\n",
    "\n",
    "# Cierra la ventana\n",
    "cv2.destroyAllWindows()"
   ]
  },
  {
   "cell_type": "code",
   "execution_count": 14,
   "id": "35283bd2-a88b-45ba-9a33-51c656d01a23",
   "metadata": {
    "tags": []
   },
   "outputs": [
    {
     "name": "stdout",
     "output_type": "stream",
     "text": [
      "Requirement already satisfied: pdfplumber in c:\\users\\pc\\anaconda3\\lib\\site-packages (0.10.2)\n",
      "Requirement already satisfied: pdfminer.six==20221105 in c:\\users\\pc\\anaconda3\\lib\\site-packages (from pdfplumber) (20221105)\n",
      "Requirement already satisfied: Pillow>=9.1 in c:\\users\\pc\\anaconda3\\lib\\site-packages (from pdfplumber) (9.4.0)\n",
      "Requirement already satisfied: pypdfium2>=4.18.0 in c:\\users\\pc\\anaconda3\\lib\\site-packages (from pdfplumber) (4.19.0)\n",
      "Requirement already satisfied: charset-normalizer>=2.0.0 in c:\\users\\pc\\anaconda3\\lib\\site-packages (from pdfminer.six==20221105->pdfplumber) (2.0.4)\n",
      "Requirement already satisfied: cryptography>=36.0.0 in c:\\users\\pc\\anaconda3\\lib\\site-packages (from pdfminer.six==20221105->pdfplumber) (39.0.1)\n",
      "Requirement already satisfied: cffi>=1.12 in c:\\users\\pc\\anaconda3\\lib\\site-packages (from cryptography>=36.0.0->pdfminer.six==20221105->pdfplumber) (1.15.1)\n",
      "Requirement already satisfied: pycparser in c:\\users\\pc\\anaconda3\\lib\\site-packages (from cffi>=1.12->cryptography>=36.0.0->pdfminer.six==20221105->pdfplumber) (2.21)\n",
      "Note: you may need to restart the kernel to use updated packages.\n"
     ]
    }
   ],
   "source": [
    "pip install pdfplumber"
   ]
  },
  {
   "cell_type": "code",
   "execution_count": 19,
   "id": "b35fa914-1ede-4816-92ae-ad2328953458",
   "metadata": {
    "tags": []
   },
   "outputs": [
    {
     "ename": "PDFSyntaxError",
     "evalue": "No /Root object! - Is this really a PDF?",
     "output_type": "error",
     "traceback": [
      "\u001b[1;31m---------------------------------------------------------------------------\u001b[0m",
      "\u001b[1;31mPDFSyntaxError\u001b[0m                            Traceback (most recent call last)",
      "Cell \u001b[1;32mIn[19], line 4\u001b[0m\n\u001b[0;32m      1\u001b[0m \u001b[38;5;28;01mimport\u001b[39;00m \u001b[38;5;21;01mpdfplumber\u001b[39;00m\n\u001b[0;32m      3\u001b[0m \u001b[38;5;66;03m# Abre el archivo PDF\u001b[39;00m\n\u001b[1;32m----> 4\u001b[0m \u001b[38;5;28;01mwith\u001b[39;00m pdfplumber\u001b[38;5;241m.\u001b[39mopen(\u001b[38;5;124m\"\u001b[39m\u001b[38;5;124mC:\u001b[39m\u001b[38;5;130;01m\\\\\u001b[39;00m\u001b[38;5;124mUsers\u001b[39m\u001b[38;5;130;01m\\\\\u001b[39;00m\u001b[38;5;124mpc\u001b[39m\u001b[38;5;130;01m\\\\\u001b[39;00m\u001b[38;5;124mOneDrive\u001b[39m\u001b[38;5;130;01m\\\\\u001b[39;00m\u001b[38;5;124mEscritorio\u001b[39m\u001b[38;5;130;01m\\\\\u001b[39;00m\u001b[38;5;124mOC_pdf\u001b[39m\u001b[38;5;130;01m\\\\\u001b[39;00m\u001b[38;5;124mCaptura de pantalla 2023-09-07 003530.png\u001b[39m\u001b[38;5;124m\"\u001b[39m) \u001b[38;5;28;01mas\u001b[39;00m pdf:\n\u001b[0;32m      5\u001b[0m     \n\u001b[0;32m      6\u001b[0m     \u001b[38;5;66;03m# Selecciona la página que deseas procesar (por ejemplo, la primera página)\u001b[39;00m\n\u001b[0;32m      7\u001b[0m     page \u001b[38;5;241m=\u001b[39m pdf\u001b[38;5;241m.\u001b[39mpages[\u001b[38;5;241m0\u001b[39m]\n\u001b[0;32m      9\u001b[0m     \u001b[38;5;66;03m# Define las coordenadas de la región que deseas extraer\u001b[39;00m\n\u001b[0;32m     10\u001b[0m     \u001b[38;5;66;03m# Los valores están en puntos (1 pulgada = 72 puntos)\u001b[39;00m\n",
      "File \u001b[1;32m~\\anaconda3\\Lib\\site-packages\\pdfplumber\\pdf.py:93\u001b[0m, in \u001b[0;36mPDF.open\u001b[1;34m(cls, path_or_fp, pages, laparams, password, strict_metadata, repair)\u001b[0m\n\u001b[0;32m     90\u001b[0m     path \u001b[38;5;241m=\u001b[39m \u001b[38;5;28;01mNone\u001b[39;00m\n\u001b[0;32m     92\u001b[0m \u001b[38;5;28;01mtry\u001b[39;00m:\n\u001b[1;32m---> 93\u001b[0m     \u001b[38;5;28;01mreturn\u001b[39;00m \u001b[38;5;28mcls\u001b[39m(\n\u001b[0;32m     94\u001b[0m         stream,\n\u001b[0;32m     95\u001b[0m         path\u001b[38;5;241m=\u001b[39mpath,\n\u001b[0;32m     96\u001b[0m         pages\u001b[38;5;241m=\u001b[39mpages,\n\u001b[0;32m     97\u001b[0m         laparams\u001b[38;5;241m=\u001b[39mlaparams,\n\u001b[0;32m     98\u001b[0m         password\u001b[38;5;241m=\u001b[39mpassword,\n\u001b[0;32m     99\u001b[0m         strict_metadata\u001b[38;5;241m=\u001b[39mstrict_metadata,\n\u001b[0;32m    100\u001b[0m         stream_is_external\u001b[38;5;241m=\u001b[39mstream_is_external,\n\u001b[0;32m    101\u001b[0m     )\n\u001b[0;32m    103\u001b[0m \u001b[38;5;28;01mexcept\u001b[39;00m PSException:\n\u001b[0;32m    104\u001b[0m     \u001b[38;5;28;01mif\u001b[39;00m \u001b[38;5;129;01mnot\u001b[39;00m stream_is_external:\n",
      "File \u001b[1;32m~\\anaconda3\\Lib\\site-packages\\pdfplumber\\pdf.py:44\u001b[0m, in \u001b[0;36mPDF.__init__\u001b[1;34m(self, stream, stream_is_external, path, pages, laparams, password, strict_metadata)\u001b[0m\n\u001b[0;32m     41\u001b[0m \u001b[38;5;28mself\u001b[39m\u001b[38;5;241m.\u001b[39mlaparams \u001b[38;5;241m=\u001b[39m \u001b[38;5;28;01mNone\u001b[39;00m \u001b[38;5;28;01mif\u001b[39;00m laparams \u001b[38;5;129;01mis\u001b[39;00m \u001b[38;5;28;01mNone\u001b[39;00m \u001b[38;5;28;01melse\u001b[39;00m LAParams(\u001b[38;5;241m*\u001b[39m\u001b[38;5;241m*\u001b[39mlaparams)\n\u001b[0;32m     42\u001b[0m \u001b[38;5;28mself\u001b[39m\u001b[38;5;241m.\u001b[39mpassword \u001b[38;5;241m=\u001b[39m password\n\u001b[1;32m---> 44\u001b[0m \u001b[38;5;28mself\u001b[39m\u001b[38;5;241m.\u001b[39mdoc \u001b[38;5;241m=\u001b[39m PDFDocument(PDFParser(stream), password\u001b[38;5;241m=\u001b[39mpassword \u001b[38;5;129;01mor\u001b[39;00m \u001b[38;5;124m\"\u001b[39m\u001b[38;5;124m\"\u001b[39m)\n\u001b[0;32m     45\u001b[0m \u001b[38;5;28mself\u001b[39m\u001b[38;5;241m.\u001b[39mrsrcmgr \u001b[38;5;241m=\u001b[39m PDFResourceManager()\n\u001b[0;32m     46\u001b[0m \u001b[38;5;28mself\u001b[39m\u001b[38;5;241m.\u001b[39mmetadata \u001b[38;5;241m=\u001b[39m {}\n",
      "File \u001b[1;32m~\\anaconda3\\Lib\\site-packages\\pdfminer\\pdfdocument.py:752\u001b[0m, in \u001b[0;36mPDFDocument.__init__\u001b[1;34m(self, parser, password, caching, fallback)\u001b[0m\n\u001b[0;32m    750\u001b[0m         \u001b[38;5;28;01mbreak\u001b[39;00m\n\u001b[0;32m    751\u001b[0m \u001b[38;5;28;01melse\u001b[39;00m:\n\u001b[1;32m--> 752\u001b[0m     \u001b[38;5;28;01mraise\u001b[39;00m PDFSyntaxError(\u001b[38;5;124m\"\u001b[39m\u001b[38;5;124mNo /Root object! - Is this really a PDF?\u001b[39m\u001b[38;5;124m\"\u001b[39m)\n\u001b[0;32m    753\u001b[0m \u001b[38;5;28;01mif\u001b[39;00m \u001b[38;5;28mself\u001b[39m\u001b[38;5;241m.\u001b[39mcatalog\u001b[38;5;241m.\u001b[39mget(\u001b[38;5;124m\"\u001b[39m\u001b[38;5;124mType\u001b[39m\u001b[38;5;124m\"\u001b[39m) \u001b[38;5;129;01mis\u001b[39;00m \u001b[38;5;129;01mnot\u001b[39;00m LITERAL_CATALOG:\n\u001b[0;32m    754\u001b[0m     \u001b[38;5;28;01mif\u001b[39;00m settings\u001b[38;5;241m.\u001b[39mSTRICT:\n",
      "\u001b[1;31mPDFSyntaxError\u001b[0m: No /Root object! - Is this really a PDF?"
     ]
    }
   ],
   "source": [
    "import pdfplumber\n",
    "\n",
    "# Abre el archivo PDF\n",
    "with pdfplumber.open(\"C:\\\\Users\\\\pc\\\\OneDrive\\\\Escritorio\\\\OC_pdf\\\\Captura de pantalla 2023-09-07 003530.png\") as pdf:\n",
    "    \n",
    "    # Selecciona la página que deseas procesar (por ejemplo, la primera página)\n",
    "    page = pdf.pages[0]\n",
    "\n",
    "    # Define las coordenadas de la región que deseas extraer\n",
    "    # Los valores están en puntos (1 pulgada = 72 puntos)\n",
    "    left_x = 100  # Coordenada X izquierda\n",
    "    top_y = 200   # Coordenada Y superior\n",
    "    right_x = 400 # Coordenada X derecha\n",
    "    bottom_y = 300 # Coordenada Y inferior\n",
    "\n",
    "    # Extrae el texto de la región específica\n",
    "    region_text = page.crop((left_x, top_y, right_x, bottom_y)).extract_text()\n",
    "\n",
    "# Imprime el texto extraído\n",
    "print(region_text)\n"
   ]
  },
  {
   "cell_type": "code",
   "execution_count": 22,
   "id": "afdfde1a-67f5-4429-83e1-67e1731b6e16",
   "metadata": {
    "tags": []
   },
   "outputs": [
    {
     "ename": "TesseractNotFoundError",
     "evalue": "tesseract is not installed or it's not in your PATH. See README file for more information.",
     "output_type": "error",
     "traceback": [
      "\u001b[1;31m---------------------------------------------------------------------------\u001b[0m",
      "\u001b[1;31mFileNotFoundError\u001b[0m                         Traceback (most recent call last)",
      "File \u001b[1;32m~\\anaconda3\\Lib\\site-packages\\pytesseract\\pytesseract.py:255\u001b[0m, in \u001b[0;36mrun_tesseract\u001b[1;34m(input_filename, output_filename_base, extension, lang, config, nice, timeout)\u001b[0m\n\u001b[0;32m    254\u001b[0m \u001b[38;5;28;01mtry\u001b[39;00m:\n\u001b[1;32m--> 255\u001b[0m     proc \u001b[38;5;241m=\u001b[39m subprocess\u001b[38;5;241m.\u001b[39mPopen(cmd_args, \u001b[38;5;241m*\u001b[39m\u001b[38;5;241m*\u001b[39msubprocess_args())\n\u001b[0;32m    256\u001b[0m \u001b[38;5;28;01mexcept\u001b[39;00m \u001b[38;5;167;01mOSError\u001b[39;00m \u001b[38;5;28;01mas\u001b[39;00m e:\n",
      "File \u001b[1;32m~\\anaconda3\\Lib\\subprocess.py:1024\u001b[0m, in \u001b[0;36mPopen.__init__\u001b[1;34m(self, args, bufsize, executable, stdin, stdout, stderr, preexec_fn, close_fds, shell, cwd, env, universal_newlines, startupinfo, creationflags, restore_signals, start_new_session, pass_fds, user, group, extra_groups, encoding, errors, text, umask, pipesize, process_group)\u001b[0m\n\u001b[0;32m   1021\u001b[0m             \u001b[38;5;28mself\u001b[39m\u001b[38;5;241m.\u001b[39mstderr \u001b[38;5;241m=\u001b[39m io\u001b[38;5;241m.\u001b[39mTextIOWrapper(\u001b[38;5;28mself\u001b[39m\u001b[38;5;241m.\u001b[39mstderr,\n\u001b[0;32m   1022\u001b[0m                     encoding\u001b[38;5;241m=\u001b[39mencoding, errors\u001b[38;5;241m=\u001b[39merrors)\n\u001b[1;32m-> 1024\u001b[0m     \u001b[38;5;28mself\u001b[39m\u001b[38;5;241m.\u001b[39m_execute_child(args, executable, preexec_fn, close_fds,\n\u001b[0;32m   1025\u001b[0m                         pass_fds, cwd, env,\n\u001b[0;32m   1026\u001b[0m                         startupinfo, creationflags, shell,\n\u001b[0;32m   1027\u001b[0m                         p2cread, p2cwrite,\n\u001b[0;32m   1028\u001b[0m                         c2pread, c2pwrite,\n\u001b[0;32m   1029\u001b[0m                         errread, errwrite,\n\u001b[0;32m   1030\u001b[0m                         restore_signals,\n\u001b[0;32m   1031\u001b[0m                         gid, gids, uid, umask,\n\u001b[0;32m   1032\u001b[0m                         start_new_session, process_group)\n\u001b[0;32m   1033\u001b[0m \u001b[38;5;28;01mexcept\u001b[39;00m:\n\u001b[0;32m   1034\u001b[0m     \u001b[38;5;66;03m# Cleanup if the child failed starting.\u001b[39;00m\n",
      "File \u001b[1;32m~\\anaconda3\\Lib\\subprocess.py:1509\u001b[0m, in \u001b[0;36mPopen._execute_child\u001b[1;34m(self, args, executable, preexec_fn, close_fds, pass_fds, cwd, env, startupinfo, creationflags, shell, p2cread, p2cwrite, c2pread, c2pwrite, errread, errwrite, unused_restore_signals, unused_gid, unused_gids, unused_uid, unused_umask, unused_start_new_session, unused_process_group)\u001b[0m\n\u001b[0;32m   1508\u001b[0m \u001b[38;5;28;01mtry\u001b[39;00m:\n\u001b[1;32m-> 1509\u001b[0m     hp, ht, pid, tid \u001b[38;5;241m=\u001b[39m _winapi\u001b[38;5;241m.\u001b[39mCreateProcess(executable, args,\n\u001b[0;32m   1510\u001b[0m                              \u001b[38;5;66;03m# no special security\u001b[39;00m\n\u001b[0;32m   1511\u001b[0m                              \u001b[38;5;28;01mNone\u001b[39;00m, \u001b[38;5;28;01mNone\u001b[39;00m,\n\u001b[0;32m   1512\u001b[0m                              \u001b[38;5;28mint\u001b[39m(\u001b[38;5;129;01mnot\u001b[39;00m close_fds),\n\u001b[0;32m   1513\u001b[0m                              creationflags,\n\u001b[0;32m   1514\u001b[0m                              env,\n\u001b[0;32m   1515\u001b[0m                              cwd,\n\u001b[0;32m   1516\u001b[0m                              startupinfo)\n\u001b[0;32m   1517\u001b[0m \u001b[38;5;28;01mfinally\u001b[39;00m:\n\u001b[0;32m   1518\u001b[0m     \u001b[38;5;66;03m# Child is launched. Close the parent's copy of those pipe\u001b[39;00m\n\u001b[0;32m   1519\u001b[0m     \u001b[38;5;66;03m# handles that only the child should have open.  You need\u001b[39;00m\n\u001b[1;32m   (...)\u001b[0m\n\u001b[0;32m   1522\u001b[0m     \u001b[38;5;66;03m# pipe will not close when the child process exits and the\u001b[39;00m\n\u001b[0;32m   1523\u001b[0m     \u001b[38;5;66;03m# ReadFile will hang.\u001b[39;00m\n",
      "\u001b[1;31mFileNotFoundError\u001b[0m: [WinError 2] El sistema no puede encontrar el archivo especificado",
      "\nDuring handling of the above exception, another exception occurred:\n",
      "\u001b[1;31mTesseractNotFoundError\u001b[0m                    Traceback (most recent call last)",
      "Cell \u001b[1;32mIn[22], line 22\u001b[0m\n\u001b[0;32m     19\u001b[0m gray_image \u001b[38;5;241m=\u001b[39m cv2\u001b[38;5;241m.\u001b[39mcvtColor(cropped_image, cv2\u001b[38;5;241m.\u001b[39mCOLOR_BGR2GRAY)\n\u001b[0;32m     21\u001b[0m \u001b[38;5;66;03m# Extrae el texto de la imagen recortada\u001b[39;00m\n\u001b[1;32m---> 22\u001b[0m extracted_text \u001b[38;5;241m=\u001b[39m pytesseract\u001b[38;5;241m.\u001b[39mimage_to_string(gray_image)\n\u001b[0;32m     24\u001b[0m \u001b[38;5;66;03m# Crea un archivo PDF y guarda el texto extraído en él\u001b[39;00m\n\u001b[0;32m     25\u001b[0m pdf_file \u001b[38;5;241m=\u001b[39m \u001b[38;5;124m'\u001b[39m\u001b[38;5;124mtexto_extraido.pdf\u001b[39m\u001b[38;5;124m'\u001b[39m\n",
      "File \u001b[1;32m~\\anaconda3\\Lib\\site-packages\\pytesseract\\pytesseract.py:423\u001b[0m, in \u001b[0;36mimage_to_string\u001b[1;34m(image, lang, config, nice, output_type, timeout)\u001b[0m\n\u001b[0;32m    418\u001b[0m \u001b[38;5;250m\u001b[39m\u001b[38;5;124;03m\"\"\"\u001b[39;00m\n\u001b[0;32m    419\u001b[0m \u001b[38;5;124;03mReturns the result of a Tesseract OCR run on the provided image to string\u001b[39;00m\n\u001b[0;32m    420\u001b[0m \u001b[38;5;124;03m\"\"\"\u001b[39;00m\n\u001b[0;32m    421\u001b[0m args \u001b[38;5;241m=\u001b[39m [image, \u001b[38;5;124m'\u001b[39m\u001b[38;5;124mtxt\u001b[39m\u001b[38;5;124m'\u001b[39m, lang, config, nice, timeout]\n\u001b[1;32m--> 423\u001b[0m \u001b[38;5;28;01mreturn\u001b[39;00m {\n\u001b[0;32m    424\u001b[0m     Output\u001b[38;5;241m.\u001b[39mBYTES: \u001b[38;5;28;01mlambda\u001b[39;00m: run_and_get_output(\u001b[38;5;241m*\u001b[39m(args \u001b[38;5;241m+\u001b[39m [\u001b[38;5;28;01mTrue\u001b[39;00m])),\n\u001b[0;32m    425\u001b[0m     Output\u001b[38;5;241m.\u001b[39mDICT: \u001b[38;5;28;01mlambda\u001b[39;00m: {\u001b[38;5;124m'\u001b[39m\u001b[38;5;124mtext\u001b[39m\u001b[38;5;124m'\u001b[39m: run_and_get_output(\u001b[38;5;241m*\u001b[39margs)},\n\u001b[0;32m    426\u001b[0m     Output\u001b[38;5;241m.\u001b[39mSTRING: \u001b[38;5;28;01mlambda\u001b[39;00m: run_and_get_output(\u001b[38;5;241m*\u001b[39margs),\n\u001b[0;32m    427\u001b[0m }[output_type]()\n",
      "File \u001b[1;32m~\\anaconda3\\Lib\\site-packages\\pytesseract\\pytesseract.py:426\u001b[0m, in \u001b[0;36mimage_to_string.<locals>.<lambda>\u001b[1;34m()\u001b[0m\n\u001b[0;32m    418\u001b[0m \u001b[38;5;250m\u001b[39m\u001b[38;5;124;03m\"\"\"\u001b[39;00m\n\u001b[0;32m    419\u001b[0m \u001b[38;5;124;03mReturns the result of a Tesseract OCR run on the provided image to string\u001b[39;00m\n\u001b[0;32m    420\u001b[0m \u001b[38;5;124;03m\"\"\"\u001b[39;00m\n\u001b[0;32m    421\u001b[0m args \u001b[38;5;241m=\u001b[39m [image, \u001b[38;5;124m'\u001b[39m\u001b[38;5;124mtxt\u001b[39m\u001b[38;5;124m'\u001b[39m, lang, config, nice, timeout]\n\u001b[0;32m    423\u001b[0m \u001b[38;5;28;01mreturn\u001b[39;00m {\n\u001b[0;32m    424\u001b[0m     Output\u001b[38;5;241m.\u001b[39mBYTES: \u001b[38;5;28;01mlambda\u001b[39;00m: run_and_get_output(\u001b[38;5;241m*\u001b[39m(args \u001b[38;5;241m+\u001b[39m [\u001b[38;5;28;01mTrue\u001b[39;00m])),\n\u001b[0;32m    425\u001b[0m     Output\u001b[38;5;241m.\u001b[39mDICT: \u001b[38;5;28;01mlambda\u001b[39;00m: {\u001b[38;5;124m'\u001b[39m\u001b[38;5;124mtext\u001b[39m\u001b[38;5;124m'\u001b[39m: run_and_get_output(\u001b[38;5;241m*\u001b[39margs)},\n\u001b[1;32m--> 426\u001b[0m     Output\u001b[38;5;241m.\u001b[39mSTRING: \u001b[38;5;28;01mlambda\u001b[39;00m: run_and_get_output(\u001b[38;5;241m*\u001b[39margs),\n\u001b[0;32m    427\u001b[0m }[output_type]()\n",
      "File \u001b[1;32m~\\anaconda3\\Lib\\site-packages\\pytesseract\\pytesseract.py:288\u001b[0m, in \u001b[0;36mrun_and_get_output\u001b[1;34m(image, extension, lang, config, nice, timeout, return_bytes)\u001b[0m\n\u001b[0;32m    277\u001b[0m \u001b[38;5;28;01mwith\u001b[39;00m save(image) \u001b[38;5;28;01mas\u001b[39;00m (temp_name, input_filename):\n\u001b[0;32m    278\u001b[0m     kwargs \u001b[38;5;241m=\u001b[39m {\n\u001b[0;32m    279\u001b[0m         \u001b[38;5;124m'\u001b[39m\u001b[38;5;124minput_filename\u001b[39m\u001b[38;5;124m'\u001b[39m: input_filename,\n\u001b[0;32m    280\u001b[0m         \u001b[38;5;124m'\u001b[39m\u001b[38;5;124moutput_filename_base\u001b[39m\u001b[38;5;124m'\u001b[39m: temp_name,\n\u001b[1;32m   (...)\u001b[0m\n\u001b[0;32m    285\u001b[0m         \u001b[38;5;124m'\u001b[39m\u001b[38;5;124mtimeout\u001b[39m\u001b[38;5;124m'\u001b[39m: timeout,\n\u001b[0;32m    286\u001b[0m     }\n\u001b[1;32m--> 288\u001b[0m     run_tesseract(\u001b[38;5;241m*\u001b[39m\u001b[38;5;241m*\u001b[39mkwargs)\n\u001b[0;32m    289\u001b[0m     filename \u001b[38;5;241m=\u001b[39m \u001b[38;5;124mf\u001b[39m\u001b[38;5;124m\"\u001b[39m\u001b[38;5;132;01m{\u001b[39;00mkwargs[\u001b[38;5;124m'\u001b[39m\u001b[38;5;124moutput_filename_base\u001b[39m\u001b[38;5;124m'\u001b[39m]\u001b[38;5;132;01m}\u001b[39;00m\u001b[38;5;132;01m{\u001b[39;00mextsep\u001b[38;5;132;01m}\u001b[39;00m\u001b[38;5;132;01m{\u001b[39;00mextension\u001b[38;5;132;01m}\u001b[39;00m\u001b[38;5;124m\"\u001b[39m\n\u001b[0;32m    290\u001b[0m     \u001b[38;5;28;01mwith\u001b[39;00m \u001b[38;5;28mopen\u001b[39m(filename, \u001b[38;5;124m'\u001b[39m\u001b[38;5;124mrb\u001b[39m\u001b[38;5;124m'\u001b[39m) \u001b[38;5;28;01mas\u001b[39;00m output_file:\n",
      "File \u001b[1;32m~\\anaconda3\\Lib\\site-packages\\pytesseract\\pytesseract.py:260\u001b[0m, in \u001b[0;36mrun_tesseract\u001b[1;34m(input_filename, output_filename_base, extension, lang, config, nice, timeout)\u001b[0m\n\u001b[0;32m    258\u001b[0m         \u001b[38;5;28;01mraise\u001b[39;00m\n\u001b[0;32m    259\u001b[0m     \u001b[38;5;28;01melse\u001b[39;00m:\n\u001b[1;32m--> 260\u001b[0m         \u001b[38;5;28;01mraise\u001b[39;00m TesseractNotFoundError()\n\u001b[0;32m    262\u001b[0m \u001b[38;5;28;01mwith\u001b[39;00m timeout_manager(proc, timeout) \u001b[38;5;28;01mas\u001b[39;00m error_string:\n\u001b[0;32m    263\u001b[0m     \u001b[38;5;28;01mif\u001b[39;00m proc\u001b[38;5;241m.\u001b[39mreturncode:\n",
      "\u001b[1;31mTesseractNotFoundError\u001b[0m: tesseract is not installed or it's not in your PATH. See README file for more information."
     ]
    }
   ],
   "source": [
    "import cv2\n",
    "import pytesseract\n",
    "from reportlab.lib.pagesizes import letter\n",
    "from reportlab.pdfgen import canvas\n",
    "\n",
    "# Carga la imagen\n",
    "image = cv2.imread(\"C:\\\\Users\\\\pc\\\\OneDrive\\\\Escritorio\\\\OC_pdf\\\\Captura de pantalla 2023-09-07 003530.png\")\n",
    "\n",
    "# Define las coordenadas de la región de la imagen que deseas extraer\n",
    "left_x = 100\n",
    "top_y = 200\n",
    "right_x = 400\n",
    "bottom_y = 300\n",
    "\n",
    "# Recorta la región de la imagen según las coordenadas\n",
    "cropped_image = image[top_y:bottom_y, left_x:right_x]\n",
    "\n",
    "# Convierte la imagen recortada a escala de grises\n",
    "gray_image = cv2.cvtColor(cropped_image, cv2.COLOR_BGR2GRAY)\n",
    "\n",
    "# Extrae el texto de la imagen recortada\n",
    "extracted_text = pytesseract.image_to_string(gray_image)\n",
    "\n",
    "# Crea un archivo PDF y guarda el texto extraído en él\n",
    "pdf_file = 'texto_extraido.pdf'\n",
    "c = canvas.Canvas(pdf_file, pagesize=letter)\n",
    "c.drawString(100, 700, \"Texto Extraído:\")\n",
    "c.drawString(100, 680, extracted_text)\n",
    "c.save()\n",
    "\n",
    "print(f'Texto extraído guardado en {pdf_file}')\n"
   ]
  },
  {
   "cell_type": "code",
   "execution_count": 21,
   "id": "d121473c-e029-483a-b5f3-4998971c2288",
   "metadata": {
    "tags": []
   },
   "outputs": [
    {
     "name": "stdout",
     "output_type": "stream",
     "text": [
      "Collecting reportlab\n",
      "  Using cached reportlab-4.0.4-py3-none-any.whl (1.9 MB)\n",
      "Requirement already satisfied: pillow>=9.0.0 in c:\\users\\pc\\anaconda3\\lib\\site-packages (from reportlab) (9.4.0)\n",
      "Installing collected packages: reportlab\n",
      "Successfully installed reportlab-4.0.4\n",
      "Note: you may need to restart the kernel to use updated packages.\n"
     ]
    }
   ],
   "source": [
    "pip install reportlab\n"
   ]
  }
 ],
 "metadata": {
  "kernelspec": {
   "display_name": "Python 3 (ipykernel)",
   "language": "python",
   "name": "python3"
  },
  "language_info": {
   "codemirror_mode": {
    "name": "ipython",
    "version": 3
   },
   "file_extension": ".py",
   "mimetype": "text/x-python",
   "name": "python",
   "nbconvert_exporter": "python",
   "pygments_lexer": "ipython3",
   "version": "3.11.3"
  }
 },
 "nbformat": 4,
 "nbformat_minor": 5
}
