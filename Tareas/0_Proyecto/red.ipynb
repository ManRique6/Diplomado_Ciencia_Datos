{
 "cells": [
  {
   "cell_type": "code",
   "execution_count": null,
   "id": "d62691c7-38b9-4eff-8fd0-c67dc93ff0c7",
   "metadata": {},
   "outputs": [],
   "source": [
    "red neuronal para extraer texto escrito a mano "
   ]
  },
  {
   "cell_type": "code",
   "execution_count": 4,
   "id": "5892d568-baa9-4eca-9847-f9b4679f48f7",
   "metadata": {
    "tags": []
   },
   "outputs": [],
   "source": [
    "#pip install tensorflow"
   ]
  },
  {
   "cell_type": "code",
   "execution_count": 243,
   "id": "9c6bde42-43ee-4c67-8bda-4ab9db00044f",
   "metadata": {
    "tags": []
   },
   "outputs": [
    {
     "name": "stdout",
     "output_type": "stream",
     "text": [
      "Epoch 1/50\n"
     ]
    },
    {
     "ename": "ValueError",
     "evalue": "in user code:\n\n    File \"C:\\Users\\pc\\anaconda3\\envs\\marsh1\\lib\\site-packages\\keras\\src\\engine\\training.py\", line 1338, in train_function  *\n        return step_function(self, iterator)\n    File \"C:\\Users\\pc\\anaconda3\\envs\\marsh1\\lib\\site-packages\\keras\\src\\engine\\training.py\", line 1322, in step_function  **\n        outputs = model.distribute_strategy.run(run_step, args=(data,))\n    File \"C:\\Users\\pc\\anaconda3\\envs\\marsh1\\lib\\site-packages\\keras\\src\\engine\\training.py\", line 1303, in run_step  **\n        outputs = model.train_step(data)\n    File \"C:\\Users\\pc\\anaconda3\\envs\\marsh1\\lib\\site-packages\\keras\\src\\engine\\training.py\", line 1080, in train_step\n        y_pred = self(x, training=True)\n    File \"C:\\Users\\pc\\anaconda3\\envs\\marsh1\\lib\\site-packages\\keras\\src\\utils\\traceback_utils.py\", line 70, in error_handler\n        raise e.with_traceback(filtered_tb) from None\n    File \"C:\\Users\\pc\\anaconda3\\envs\\marsh1\\lib\\site-packages\\keras\\src\\engine\\input_spec.py\", line 280, in assert_input_compatibility\n        raise ValueError(\n\n    ValueError: Exception encountered when calling layer 'sequential_74' (type Sequential).\n    \n    Input 0 of layer \"dense_230\" is incompatible with the layer: expected axis -1 of input shape to have value 1, but received input with shape (None, 28, 28)\n    \n    Call arguments received by layer 'sequential_74' (type Sequential):\n      • inputs=tf.Tensor(shape=(None, 28, 28), dtype=float32)\n      • training=True\n      • mask=None\n",
     "output_type": "error",
     "traceback": [
      "\u001b[1;31m---------------------------------------------------------------------------\u001b[0m",
      "\u001b[1;31mValueError\u001b[0m                                Traceback (most recent call last)",
      "Cell \u001b[1;32mIn[243], line 80\u001b[0m\n\u001b[0;32m     77\u001b[0m model \u001b[38;5;241m=\u001b[39m construir_modelo()\n\u001b[0;32m     79\u001b[0m \u001b[38;5;66;03m# Entrenar el modelo con datos de entrenamiento y validación\u001b[39;00m\n\u001b[1;32m---> 80\u001b[0m model \u001b[38;5;241m=\u001b[39m \u001b[43mentrenar_modelo\u001b[49m\u001b[43m(\u001b[49m\u001b[43mx_train\u001b[49m\u001b[43m,\u001b[49m\u001b[43m \u001b[49m\u001b[43my_train\u001b[49m\u001b[43m,\u001b[49m\u001b[43m \u001b[49m\u001b[43mx_val\u001b[49m\u001b[43m,\u001b[49m\u001b[43m \u001b[49m\u001b[43my_val\u001b[49m\u001b[43m)\u001b[49m\n\u001b[0;32m     82\u001b[0m \u001b[38;5;66;03m# Guardar el modelo entrenado\u001b[39;00m\n\u001b[0;32m     83\u001b[0m model\u001b[38;5;241m.\u001b[39msave(model_filename)\n",
      "Cell \u001b[1;32mIn[243], line 67\u001b[0m, in \u001b[0;36mentrenar_modelo\u001b[1;34m(x_train, y_train, x_val, y_val)\u001b[0m\n\u001b[0;32m     65\u001b[0m \u001b[38;5;28;01mdef\u001b[39;00m \u001b[38;5;21mentrenar_modelo\u001b[39m(x_train, y_train, x_val, y_val):\n\u001b[0;32m     66\u001b[0m     \u001b[38;5;66;03m# Entrena el modelo con los datos de entrenamiento y valida en los datos de validación\u001b[39;00m\n\u001b[1;32m---> 67\u001b[0m     \u001b[43mmodel\u001b[49m\u001b[38;5;241;43m.\u001b[39;49m\u001b[43mfit\u001b[49m\u001b[43m(\u001b[49m\u001b[43mx_train\u001b[49m\u001b[43m,\u001b[49m\u001b[43m \u001b[49m\u001b[43my_train\u001b[49m\u001b[43m,\u001b[49m\u001b[43m \u001b[49m\u001b[43mepochs\u001b[49m\u001b[38;5;241;43m=\u001b[39;49m\u001b[43mepochs\u001b[49m\u001b[43m,\u001b[49m\u001b[43m \u001b[49m\u001b[43mbatch_size\u001b[49m\u001b[38;5;241;43m=\u001b[39;49m\u001b[43mbatch_size\u001b[49m\u001b[43m,\u001b[49m\u001b[43m \u001b[49m\u001b[43mvalidation_data\u001b[49m\u001b[38;5;241;43m=\u001b[39;49m\u001b[43m(\u001b[49m\u001b[43mx_val\u001b[49m\u001b[43m,\u001b[49m\u001b[43m \u001b[49m\u001b[43my_val\u001b[49m\u001b[43m)\u001b[49m\u001b[43m)\u001b[49m\n\u001b[0;32m     69\u001b[0m     \u001b[38;5;28;01mreturn\u001b[39;00m model\n",
      "File \u001b[1;32m~\\anaconda3\\envs\\marsh1\\lib\\site-packages\\keras\\src\\utils\\traceback_utils.py:70\u001b[0m, in \u001b[0;36mfilter_traceback.<locals>.error_handler\u001b[1;34m(*args, **kwargs)\u001b[0m\n\u001b[0;32m     67\u001b[0m     filtered_tb \u001b[38;5;241m=\u001b[39m _process_traceback_frames(e\u001b[38;5;241m.\u001b[39m__traceback__)\n\u001b[0;32m     68\u001b[0m     \u001b[38;5;66;03m# To get the full stack trace, call:\u001b[39;00m\n\u001b[0;32m     69\u001b[0m     \u001b[38;5;66;03m# `tf.debugging.disable_traceback_filtering()`\u001b[39;00m\n\u001b[1;32m---> 70\u001b[0m     \u001b[38;5;28;01mraise\u001b[39;00m e\u001b[38;5;241m.\u001b[39mwith_traceback(filtered_tb) \u001b[38;5;28;01mfrom\u001b[39;00m \u001b[38;5;28;01mNone\u001b[39;00m\n\u001b[0;32m     71\u001b[0m \u001b[38;5;28;01mfinally\u001b[39;00m:\n\u001b[0;32m     72\u001b[0m     \u001b[38;5;28;01mdel\u001b[39;00m filtered_tb\n",
      "File \u001b[1;32m~\\AppData\\Local\\Temp\\__autograph_generated_filewjmdw2w4.py:15\u001b[0m, in \u001b[0;36mouter_factory.<locals>.inner_factory.<locals>.tf__train_function\u001b[1;34m(iterator)\u001b[0m\n\u001b[0;32m     13\u001b[0m \u001b[38;5;28;01mtry\u001b[39;00m:\n\u001b[0;32m     14\u001b[0m     do_return \u001b[38;5;241m=\u001b[39m \u001b[38;5;28;01mTrue\u001b[39;00m\n\u001b[1;32m---> 15\u001b[0m     retval_ \u001b[38;5;241m=\u001b[39m ag__\u001b[38;5;241m.\u001b[39mconverted_call(ag__\u001b[38;5;241m.\u001b[39mld(step_function), (ag__\u001b[38;5;241m.\u001b[39mld(\u001b[38;5;28mself\u001b[39m), ag__\u001b[38;5;241m.\u001b[39mld(iterator)), \u001b[38;5;28;01mNone\u001b[39;00m, fscope)\n\u001b[0;32m     16\u001b[0m \u001b[38;5;28;01mexcept\u001b[39;00m:\n\u001b[0;32m     17\u001b[0m     do_return \u001b[38;5;241m=\u001b[39m \u001b[38;5;28;01mFalse\u001b[39;00m\n",
      "\u001b[1;31mValueError\u001b[0m: in user code:\n\n    File \"C:\\Users\\pc\\anaconda3\\envs\\marsh1\\lib\\site-packages\\keras\\src\\engine\\training.py\", line 1338, in train_function  *\n        return step_function(self, iterator)\n    File \"C:\\Users\\pc\\anaconda3\\envs\\marsh1\\lib\\site-packages\\keras\\src\\engine\\training.py\", line 1322, in step_function  **\n        outputs = model.distribute_strategy.run(run_step, args=(data,))\n    File \"C:\\Users\\pc\\anaconda3\\envs\\marsh1\\lib\\site-packages\\keras\\src\\engine\\training.py\", line 1303, in run_step  **\n        outputs = model.train_step(data)\n    File \"C:\\Users\\pc\\anaconda3\\envs\\marsh1\\lib\\site-packages\\keras\\src\\engine\\training.py\", line 1080, in train_step\n        y_pred = self(x, training=True)\n    File \"C:\\Users\\pc\\anaconda3\\envs\\marsh1\\lib\\site-packages\\keras\\src\\utils\\traceback_utils.py\", line 70, in error_handler\n        raise e.with_traceback(filtered_tb) from None\n    File \"C:\\Users\\pc\\anaconda3\\envs\\marsh1\\lib\\site-packages\\keras\\src\\engine\\input_spec.py\", line 280, in assert_input_compatibility\n        raise ValueError(\n\n    ValueError: Exception encountered when calling layer 'sequential_74' (type Sequential).\n    \n    Input 0 of layer \"dense_230\" is incompatible with the layer: expected axis -1 of input shape to have value 1, but received input with shape (None, 28, 28)\n    \n    Call arguments received by layer 'sequential_74' (type Sequential):\n      • inputs=tf.Tensor(shape=(None, 28, 28), dtype=float32)\n      • training=True\n      • mask=None\n"
     ]
    }
   ],
   "source": [
    "import tensorflow as tf\n",
    "from tensorflow import keras\n",
    "import numpy as np\n",
    "import pandas as pd\n",
    "from PIL import Image\n",
    "from sklearn.model_selection import train_test_split\n",
    "\n",
    "# Definir parámetros configurables\n",
    "epochs = 50\n",
    "batch_size = 90\n",
    "model_filename = 'modelo_reconocimiento_texto.keras'\n",
    "\n",
    "# Función para cargar tus datos de entrenamiento y validación\n",
    "def cargar_datos_entrenamiento():\n",
    "    # Cargar datos de entrenamiento desde un archivo CSV (ajusta la ruta y el formato según tus datos)\n",
    "    df = pd.read_excel(r\"C:\\Users\\pc\\OneDrive\\Escritorio\\OC_pdf\\entrenamiento.xlsx\")\n",
    "    \n",
    "    # Redimensionar todas las imágenes a 28x28 píxeles\n",
    "    imagenes = [np.array(Image.open(imagen_path).resize((28, 28))) for imagen_path in df['ruta'].values]\n",
    "    \n",
    "    # Convertir las imágenes en matrices NumPy y normalizarlas\n",
    "    imagenes = np.array(imagenes) / 255.0\n",
    "    \n",
    "    etiquetas = df['etiqueta'].values\n",
    "    \n",
    "    return imagenes, etiquetas\n",
    "\n",
    "def cargar_datos_validacion():\n",
    "    # Cargar datos de validación desde un archivo CSV (ajusta la ruta y el formato según tus datos)\n",
    "    df = pd.read_excel(r\"C:\\Users\\pc\\OneDrive\\Escritorio\\OC_pdf\\entrenamiento.xlsx\")\n",
    "    \n",
    "    # Redimensionar todas las imágenes a 28x28 píxeles\n",
    "    imagenes = [np.array(Image.open(imagen_path).resize((28, 28))) for imagen_path in df['ruta'].values]\n",
    "    \n",
    "    # Convertir las imágenes en matrices NumPy y normalizarlas\n",
    "    imagenes = np.array(imagenes) / 255.0\n",
    "    \n",
    "    etiquetas = df['etiqueta'].values\n",
    "    \n",
    "    return imagenes, etiquetas\n",
    "\n",
    "# Función para construir el modelo\n",
    "def construir_modelo():\n",
    "    # Define un modelo secuencial\n",
    "    model = keras.Sequential()\n",
    "\n",
    "    # Capa de entrada: aplanar la imagen de 28x28 píxeles\n",
    "    model.add(keras.layers.Flatten(input_shape=(28, 28)))\n",
    "\n",
    "    \n",
    "    # Capa oculta 3: 32 neuronas, función de activación ReLU\n",
    "    model.add(keras.layers.Dense(10, activation='relu'))\n",
    "\n",
    "    \n",
    "\n",
    "    # Capa oculta 3: 32 neuronas, función de activación ReLU\n",
    "    model.add(keras.layers.Dense(32, activation='relu'))\n",
    "\n",
    "    # Capa de salida: 10 neuronas (una para cada posible dígito), función de activación softmax\n",
    "    model.add(keras.layers.Dense(4, activation='softmax'))\n",
    "\n",
    "    # Compilar el modelo\n",
    "    model.compile(optimizer='adam',\n",
    "                  loss='sparse_categorical_crossentropy',\n",
    "                  metrics=['accuracy'])\n",
    "\n",
    "    return model\n",
    "\n",
    "# Función para entrenar el modelo\n",
    "def entrenar_modelo(x_train, y_train, x_val, y_val):\n",
    "    # Entrena el modelo con los datos de entrenamiento y valida en los datos de validación\n",
    "    model.fit(x_train, y_train, epochs=epochs, batch_size=batch_size, validation_data=(x_val, y_val))\n",
    "    \n",
    "    return model\n",
    "\n",
    "if __name__ == \"__main__\":\n",
    "    # Cargar tus datos de entrenamiento y validación\n",
    "    x_train, y_train = cargar_datos_entrenamiento()\n",
    "    x_val, y_val = cargar_datos_validacion()\n",
    "\n",
    "    # Construir el modelo\n",
    "    model = construir_modelo()\n",
    "\n",
    "    # Entrenar el modelo con datos de entrenamiento y validación\n",
    "    model = entrenar_modelo(x_train, y_train, x_val, y_val)\n",
    "\n",
    "    # Guardar el modelo entrenado\n",
    "    model.save(model_filename)\n",
    "\n",
    "    # Realizar predicciones en una imagen de prueba\n",
    "   # imagen_prueba = Image.open(r\"C:\\Users\\pc\\OneDrive\\Escritorio\\OC_pdf\\entrenamiento2\\B\\B_1310995782319.png\")\n",
    "   # imagen_prueba = imagen_prueba.resize((28, 28))  # Redimensionar la imagen a (28, 28)\n",
    "   # imagen_prueba = np.array(imagen_prueba) / 255.0  # Normalizar la imagen\n",
    "  #  etiqueta_predicha = np.argmax(model.predict(np.expand_dims(imagen_prueba, axis=0)))\n",
    "\n",
    "   # print(f'Etiqueta predicha: {etiqueta_predicha}')\n"
   ]
  },
  {
   "cell_type": "code",
   "execution_count": 242,
   "id": "30e048e0-62cb-441c-9f6d-d0580be9891b",
   "metadata": {
    "tags": []
   },
   "outputs": [
    {
     "name": "stdout",
     "output_type": "stream",
     "text": [
      "1/1 [==============================] - 0s 26ms/step\n",
      "Etiqueta predicha: 2\n"
     ]
    }
   ],
   "source": [
    "from PIL import Image\n",
    "import numpy as np\n",
    "\n",
    "# Cargar la imagen que deseas clasificar\n",
    "#imagen_prueba = Image.open(r\"C:\\Users\\pc\\OneDrive\\Escritorio\\OC_pdf\\entrenamiento2\\B\\B_1310995782319.png\")  # Reemplaza con la ruta de tu imagen\n",
    "#imagen_prueba = Image.open(r\"C:\\Users\\pc\\OneDrive\\Escritorio\\OC_pdf\\entrenamiento2\\A\\A_1310995379423.png\")  # Reemplaza con la ruta de tu imagen\n",
    "imagen_prueba = Image.open(r\"C:\\Users\\pc\\OneDrive\\Escritorio\\OC_pdf\\entrenamiento2\\C\\C_1311019615311.png\")  # Reemplaza con la ruta de tu imagen\n",
    "\n",
    "\n",
    "imagen_prueba = imagen_prueba.resize((28, 28))  # Redimensionar la imagen a (28x28)\n",
    "imagen_prueba = np.array(imagen_prueba) / 255.0  # Normalizar la imagen\n",
    "\n",
    "# Utilizar el modelo entrenado para hacer una predicción en la imagen\n",
    "etiqueta_predicha = np.argmax(model.predict(np.expand_dims(imagen_prueba, axis=0)))\n",
    "\n",
    "print(f'Etiqueta predicha: {etiqueta_predicha}')\n"
   ]
  },
  {
   "cell_type": "code",
   "execution_count": null,
   "id": "c3fd4cf2-47eb-4c0c-a68c-d14a37681835",
   "metadata": {},
   "outputs": [],
   "source": [
    "### otro proyecto"
   ]
  },
  {
   "cell_type": "code",
   "execution_count": 315,
   "id": "773c1536-e609-4c8e-9d07-70670a7c7439",
   "metadata": {
    "tags": []
   },
   "outputs": [
    {
     "data": {
      "text/plain": [
       "'| jdheuna Vallejo Range\\n'"
      ]
     },
     "execution_count": 315,
     "metadata": {},
     "output_type": "execute_result"
    }
   ],
   "source": [
    "from PIL import Image\n",
    "import pytesseract\n",
    "\n",
    "pytesseract.pytesseract.tesseract_cmd = r\"C:\\Users\\pc\\Documents\\tesseract.exe\" \n",
    "# Abre la imagen\n",
    "img = Image.open(r\"C:\\Users\\pc\\OneDrive\\Escritorio\\OC_pdf\\entrenamiento\\1.png\")\n",
    "\n",
    "# Utiliza Tesseract para extraer texto\n",
    "texto_extraido = pytesseract.image_to_string(img)\n",
    "\n",
    "# Imprime el texto extraído\n",
    "texto_extraido\n"
   ]
  },
  {
   "cell_type": "code",
   "execution_count": 315,
   "id": "296a78ab",
   "metadata": {
    "tags": []
   },
   "outputs": [
    {
     "data": {
      "text/plain": [
       "'| jdheuna Vallejo Range\\n'"
      ]
     },
     "execution_count": 315,
     "metadata": {},
     "output_type": "execute_result"
    }
   ],
   "source": [
    "from PIL import Image\n",
    "import pytesseract\n",
    "\n",
    "pytesseract.pytesseract.tesseract_cmd = r\"C:\\Users\\pc\\Documents\\tesseract.exe\" \n",
    "# Abre la imagen\n",
    "img = Image.open(r\"C:\\Users\\pc\\OneDrive\\Escritorio\\OC_pdf\\entrenamiento\\1.png\")\n",
    "\n",
    "# Utiliza Tesseract para extraer texto\n",
    "texto_extraido = pytesseract.image_to_string(img)\n",
    "\n",
    "# Imprime el texto extraído\n",
    "texto_extraido\n"
   ]
  },
  {
   "cell_type": "code",
   "execution_count": 323,
   "id": "191ecfd2-c41e-44e2-a793-b043fe6ed28d",
   "metadata": {
    "tags": []
   },
   "outputs": [
    {
     "data": {
      "image/png": "[encoded data removed]",
      "text/plain": [
       "<Figure size 640x480 with 1 Axes>"
      ]
     },
     "metadata": {},
     "output_type": "display_data"
    }
   ],
   "source": [
    "import cv2\n",
    "import matplotlib.pyplot as plt\n",
    "\n",
    "# Carga la imagen original\n",
    "img = cv2.imread(r\"C:\\Users\\pc\\OneDrive\\Escritorio\\OC_pdf\\entrenamiento\\1.png\")\n",
    "\n",
    "# Realiza las operaciones de preprocesamiento\n",
    "img_grayscale = cv2.cvtColor(img, cv2.COLOR_BGR2GRAY)\n",
    "img_smooth = cv2.GaussianBlur(img_grayscale, (5, 5), 0)\n",
    "_, img_binary = cv2.threshold(img_smooth, 4, 55, cv2.THRESH_BINARY + cv2.THRESH_OTSU)\n",
    "\n",
    "# Muestra la imagen en la celda de la notebook\n",
    "plt.imshow(img_binary, cmap='gray')\n",
    "plt.axis('off')  # Desactiva los ejes si lo deseas\n",
    "plt.show()\n",
    "\n"
   ]
  },
  {
   "cell_type": "code",
   "execution_count": 404,
   "id": "66218bc5-eb4e-4f1e-94b6-f74a96aa786d",
   "metadata": {
    "tags": []
   },
   "outputs": [
    {
     "data": {
      "text/plain": [
       "'jhe \\\\ alle ie Range\\n'"
      ]
     },
     "execution_count": 404,
     "metadata": {},
     "output_type": "execute_result"
    }
   ],
   "source": [
    "from PIL import Image\n",
    "import pytesseract\n",
    "\n",
    "pytesseract.pytesseract.tesseract_cmd = r\"C:\\Users\\pc\\Documents\\tesseract.exe\" \n",
    "# Abre la imagen\n",
    "img = img_dilated\n",
    "\n",
    "# Utiliza Tesseract para extraer texto\n",
    "texto_extraido = pytesseract.image_to_string(img)\n",
    "\n",
    "# Imprime el texto extraído\n",
    "texto_extraido"
   ]
  },
  {
   "cell_type": "code",
   "execution_count": 403,
   "id": "f0b42c9b-df99-455a-a290-69521b1f7441",
   "metadata": {
    "tags": []
   },
   "outputs": [
    {
     "data": {
      "image/png": "[encoded data removed]",
      "text/plain": [
       "<Figure size 640x480 with 1 Axes>"
      ]
     },
     "metadata": {},
     "output_type": "display_data"
    }
   ],
   "source": [
    "import cv2\n",
    "import matplotlib.pyplot as plt\n",
    "import numpy as np\n",
    "\n",
    "# Carga la imagen original\n",
    "img = cv2.imread(r\"C:\\Users\\pc\\OneDrive\\Escritorio\\OC_pdf\\entrenamiento\\1.png\", cv2.IMREAD_GRAYSCALE)\n",
    "\n",
    "# Realiza las operaciones de preprocesamiento\n",
    "_, img_binary = cv2.threshold(img, 150, 99000, cv2.THRESH_BINARY)\n",
    "\n",
    "# Aplicar operación de dilatación para rellenar áreas vacías de las letras\n",
    "kernel = np.ones((1, 1), np.uint8)\n",
    "img_dilated = cv2.dilate(img_binary, kernel, iterations=1)\n",
    "\n",
    "# Muestra la imagen dilatada en la celda de la notebook\n",
    "plt.imshow(img_dilated, cmap='gray')\n",
    "plt.axis('off')  # Desactiva los ejes si lo deseas\n",
    "plt.show()\n"
   ]
  },
  {
   "cell_type": "code",
   "execution_count": 1,
   "id": "c1fefa9d-4df1-4ebe-93e3-8a5e017e17d6",
   "metadata": {
    "tags": []
   },
   "outputs": [],
   "source": [
    "#pip install easyocr"
   ]
  },
  {
   "cell_type": "code",
   "execution_count": null,
   "id": "972a421c-d769-40c1-aaa6-1396bd35429a",
   "metadata": {
    "tags": []
   },
   "outputs": [],
   "source": [
    "import easyocr"
   ]
  },
  {
   "cell_type": "code",
   "execution_count": 1,
   "id": "9265c485-c3c6-4ba0-99a2-8bf19eccc0af",
   "metadata": {
    "tags": []
   },
   "outputs": [
    {
     "ename": "IndentationError",
     "evalue": "unexpected indent (587747395.py, line 13)",
     "output_type": "error",
     "traceback": [
      "\u001b[1;36m  Cell \u001b[1;32mIn[1], line 13\u001b[1;36m\u001b[0m\n\u001b[1;33m    print(results)\u001b[0m\n\u001b[1;37m    ^\u001b[0m\n\u001b[1;31mIndentationError\u001b[0m\u001b[1;31m:\u001b[0m unexpected indent\n"
     ]
    }
   ],
   "source": [
    "import easyocr\n",
    "\n",
    "# Configura EasyOCR con los idiomas que deseas reconocer\n",
    "reader = easyocr.Reader(['en'])  # Reconocimiento en inglés\n",
    "\n",
    "# Carga una imagen con texto escrito a mano\n",
    "image_path = r\"C:\\Users\\pc\\OneDrive\\Escritorio\\OC_pdf\\entrenamiento\\1.png\"\n",
    "results = reader.readtext(image_path)\n",
    "\n",
    "# Itera a través de los resultados y muestra el texto y la ubicación\n",
    "#for (bbox, text, prob) in results:\n",
    "    \n",
    "    print(results)\n",
    "\n"
   ]
  },
  {
   "cell_type": "code",
   "execution_count": null,
   "id": "073fa36a-ecd6-4241-a454-97d8a4584b94",
   "metadata": {
    "tags": []
   },
   "outputs": [],
   "source": [
    "import easyocr\n",
    "\n",
    "# Configura EasyOCR con los idiomas que deseas reconocer\n",
    "reader = easyocr.Reader(['en'])  # Reconocimiento en inglés\n",
    "\n",
    "# Carga una imagen con texto escrito a mano\n",
    "image_path = r\"C:\\Users\\pc\\OneDrive\\Escritorio\\OC_pdf\\entrenamiento\\1.png\"\n",
    "results = reader.readtext(image_path)\n",
    "\n",
    "# Crear una lista para almacenar el texto extraído\n",
    "extracted_text = []\n",
    "\n",
    "# Itera a través de los resultados y agrega el texto a la lista\n",
    "for (bbox, text, prob) in results:\n",
    "    extracted_text.append(text)\n",
    "\n",
    "# Convierte la lista en una cadena\n",
    "extracted_text_str = ' '.join(extracted_text)\n",
    "\n",
    "# Muestra el texto extraído en una celda de Jupyter Notebook\n",
    "from IPython.display import display, Markdown\n",
    "display(Markdown(f'Texto Extraído: {extracted_text_str}'))\n"
   ]
  }
 ],
 "metadata": {
  "kernelspec": {
   "display_name": "Python 3 (ipykernel)",
   "language": "python",
   "name": "python3"
  },
  "language_info": {
   "codemirror_mode": {
    "name": "ipython",
    "version": 3
   },
   "file_extension": ".py",
   "mimetype": "text/x-python",
   "name": "python",
   "nbconvert_exporter": "python",
   "pygments_lexer": "ipython3",
   "version": "3.11.3"
  }
 },
 "nbformat": 4,
 "nbformat_minor": 5
}
