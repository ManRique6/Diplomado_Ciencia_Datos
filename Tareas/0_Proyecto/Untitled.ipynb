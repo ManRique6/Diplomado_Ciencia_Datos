{
 "cells": [
  {
   "cell_type": "code",
   "execution_count": 26,
   "id": "a19f94f3-3a6b-4f2b-96d3-a017ee5b87a9",
   "metadata": {
    "tags": []
   },
   "outputs": [],
   "source": [
    "import cv2\n",
    "import io\n",
    "import pytesseract\n",
    "from skimage import io as ioski\n",
    "from skimage.color import rgb2gray\n",
    "from skimage.transform import rotate\n",
    "import os\n",
    "from deskew import determine_skew\n",
    "import numpy as np"
   ]
  },
  {
   "cell_type": "code",
   "execution_count": 85,
   "id": "40f36ac7-88f0-4848-87c9-f2b2af5d1ffb",
   "metadata": {
    "tags": []
   },
   "outputs": [
    {
     "name": "stdout",
     "output_type": "stream",
     "text": [
      "Proceso completado.\n"
     ]
    }
   ],
   "source": [
    "import cv2\n",
    "import os\n",
    "\n",
    "# Directorio de entrada y salida\n",
    "input_directory = \"C:\\\\Users\\\\pc\\\\OneDrive\\\\Escritorio\\\\OC_pdf\\\\entrenamiento\"  # Carpeta de entrada con las imágenes en escala de grises\n",
    "output_directory = \"C:\\\\Users\\\\pc\\\\OneDrive\\\\Escritorio\\\\OC_pdf\\\\entrenamiento\"  # Carpeta de salida donde se guardarán las imágenes en formato RGB\n",
    "\n",
    "# Lista todos los archivos en el directorio de entrada\n",
    "for filename in os.listdir(input_directory):\n",
    "    if filename.endswith(\".png\"):  # Filtra solo los archivos con extensión .png (ajusta esto según tus necesidades)\n",
    "        # Ruta completa del archivo de entrada\n",
    "        input_path = os.path.join(input_directory, filename)\n",
    "        \n",
    "        # Cargar la imagen en escala de grises\n",
    "        gray_image = cv2.imread(input_path, cv2.IMREAD_GRAYSCALE)\n",
    "        \n",
    "        # Convertir la imagen en escala de grises a formato RGB\n",
    "        rgb_image = cv2.cvtColor(gray_image, cv2.COLOR_GRAY2RGB)\n",
    "        \n",
    "        # Ruta completa del archivo de salida (con el mismo nombre)\n",
    "        output_path = os.path.join(output_directory, filename)\n",
    "        \n",
    "        # Guardar la imagen resultante en formato RGB\n",
    "        cv2.imwrite(output_path, rgb_image)\n",
    "\n",
    "print(\"Proceso completado.\")\n"
   ]
  },
  {
   "cell_type": "code",
   "execution_count": 44,
   "id": "58777ec3-cc48-4361-a33f-81e05678b8c5",
   "metadata": {
    "tags": []
   },
   "outputs": [
    {
     "name": "stdout",
     "output_type": "stream",
     "text": [
      "Texto extraído:\n",
      "| jdheuna Vallejo Range\n",
      "\n"
     ]
    }
   ],
   "source": [
    "import pytesseract\n",
    "from PIL import Image\n",
    "\n",
    "# Ruta de la imagen de muestra\n",
    "sample_img = \"C:\\\\Users\\\\pc\\\\OneDrive\\\\Escritorio\\\\OC_pdf\\\\juliana2.png\"\n",
    "\n",
    "export TESSDATA_PREFIX=\"C:\\\\Users\\\\pc\\\\Documents\\\\Ciencia de datos\\\\Diplomado_Ciencia_Datos\\\\Tareas\\\\0_Proyecto\\\\spa.traineddata\"\n",
    "\n",
    "hypothesis4 = pytesseract.image_to_string(\"output_processed.png\", lang=\"esp\")\n",
    "\n",
    "# Realizar OCR en la imagen\n",
    "try:\n",
    "    # Abrir la imagen con PIL (Pillow)\n",
    "    img = Image.open(sample_img)\n",
    "\n",
    "    # Realizar OCR en la imagen\n",
    "    text = pytesseract.image_to_string(img)\n",
    "\n",
    "    # Imprimir el texto extraído\n",
    "    print(\"Texto extraído:\")\n",
    "    print(text)\n",
    "except Exception as e:\n",
    "    print(f\"Ocurrió un error: {str(e)}\")\n"
   ]
  },
  {
   "cell_type": "code",
   "execution_count": 47,
   "id": "5204d67c-e6f6-49ed-8318-4ffbe6139cb5",
   "metadata": {
    "tags": []
   },
   "outputs": [
    {
     "name": "stdout",
     "output_type": "stream",
     "text": [
      "Collecting python-dotenvNote: you may need to restart the kernel to use updated packages.\n"
     ]
    },
    {
     "name": "stderr",
     "output_type": "stream",
     "text": [
      "WARNING: Ignoring invalid distribution -illow (c:\\users\\pc\\anaconda3\\envs\\marsh1\\lib\\site-packages)\n",
      "WARNING: Ignoring invalid distribution -illow (c:\\users\\pc\\anaconda3\\envs\\marsh1\\lib\\site-packages)\n"
     ]
    },
    {
     "name": "stdout",
     "output_type": "stream",
     "text": [
      "\n",
      "  Downloading python_dotenv-1.0.0-py3-none-any.whl (19 kB)\n",
      "Installing collected packages: python-dotenv\n",
      "Successfully installed python-dotenv-1.0.0\n"
     ]
    }
   ],
   "source": [
    "pip install python-dotenv"
   ]
  },
  {
   "cell_type": "code",
   "execution_count": 77,
   "id": "d6abbf3b-1a70-4971-b340-7a4bc5971588",
   "metadata": {
    "tags": []
   },
   "outputs": [],
   "source": [
    "#pip install fuzzywuzzy"
   ]
  },
  {
   "cell_type": "code",
   "execution_count": 171,
   "id": "f9998576-73ba-4335-aa72-1f633ca1ef34",
   "metadata": {
    "tags": []
   },
   "outputs": [
    {
     "name": "stdout",
     "output_type": "stream",
     "text": [
      "Índice fuera de rango: i = 0\n",
      "Índice fuera de rango: i = 1\n",
      "Índice fuera de rango: i = 2\n",
      "Índice fuera de rango: i = 3\n",
      "Índice fuera de rango: i = 4\n",
      "Índice fuera de rango: i = 5\n"
     ]
    },
    {
     "data": {
      "text/plain": [
       "<Figure size 1500x1000 with 0 Axes>"
      ]
     },
     "metadata": {},
     "output_type": "display_data"
    },
    {
     "data": {
      "text/plain": [
       "<Figure size 1500x1000 with 0 Axes>"
      ]
     },
     "metadata": {},
     "output_type": "display_data"
    }
   ],
   "source": [
    "import os\n",
    "import cv2\n",
    "import random\n",
    "import numpy as np\n",
    "import pandas as pd\n",
    "import matplotlib.pyplot as plt\n",
    "\n",
    "import tensorflow as tf\n",
    "from keras import backend as K\n",
    "from keras.models import Model\n",
    "from keras.layers import Input, Conv2D, MaxPooling2D, Reshape, Bidirectional, LSTM, Dense, Lambda, Activation, BatchNormalization, Dropout\n",
    "from keras.optimizers import Adam\n",
    "\n",
    "# Carga de datos\n",
    "train = pd.read_excel(\"C:\\\\Users\\\\pc\\\\OneDrive\\\\Escritorio\\\\OC_pdf\\\\entrenamiento.xlsx\")# ruta dela rchivo con la información y las imagenes para entrenar\n",
    "valid = pd.read_excel(\"C:\\\\Users\\\\pc\\\\OneDrive\\\\Escritorio\\\\OC_pdf\\\\entrenamiento.xlsx\")\n",
    "\n",
    "# Visualización de datos de entrenamiento\n",
    "plt.figure(figsize=(15, 10))\n",
    "\n",
    "plt.figure(figsize=(15, 10))\n",
    "\n",
    "for i in range(6):\n",
    "    if 0 <= i < len(unreadable):\n",
    "        img_dir = \"C:\\\\Users\\\\pc\\\\OneDrive\\\\Escritorio\\\\OC_pdf\\\\entrenamiento\\\\\" + unreadable.loc[i, 'FILENAME']\n",
    "        image = cv2.imread(img_dir, cv2.IMREAD_GRAYSCALE)\n",
    "\n",
    "        if image is not None:\n",
    "            plt.imshow(image, cmap='gray')\n",
    "            plt.title(unreadable.loc[i, 'IDENTITY'], fontsize=12)\n",
    "            plt.axis('off')\n",
    "            plt.show()\n",
    "        else:\n",
    "            print(\"Error al cargar la imagen:\", img_dir)\n",
    "    else:\n",
    "        print(\"Índice fuera de rango: i =\", i)\n",
    "\n",
    "    \n",
    "    \n",
    "plt.subplots_adjust(wspace=0.2, hspace=-0.8)"
   ]
  },
  {
   "cell_type": "code",
   "execution_count": 168,
   "id": "1f3f11c4-06b9-4087-b288-2759d3d78d91",
   "metadata": {
    "tags": []
   },
   "outputs": [
    {
     "name": "stdout",
     "output_type": "stream",
     "text": [
      "Índice fuera de rango: i = 0\n",
      "Índice fuera de rango: i = 1\n",
      "Índice fuera de rango: i = 2\n",
      "Índice fuera de rango: i = 3\n",
      "Índice fuera de rango: i = 4\n",
      "Índice fuera de rango: i = 5\n",
      "Number of NaNs in train set      :  0\n",
      "Number of NaNs in validation set :  0\n"
     ]
    },
    {
     "ename": "KeyError",
     "evalue": "0",
     "output_type": "error",
     "traceback": [
      "\u001b[1;31m---------------------------------------------------------------------------\u001b[0m",
      "\u001b[1;31mValueError\u001b[0m                                Traceback (most recent call last)",
      "File \u001b[1;32m~\\anaconda3\\envs\\marsh1\\lib\\site-packages\\pandas\\core\\indexes\\range.py:345\u001b[0m, in \u001b[0;36mRangeIndex.get_loc\u001b[1;34m(self, key)\u001b[0m\n\u001b[0;32m    344\u001b[0m \u001b[38;5;28;01mtry\u001b[39;00m:\n\u001b[1;32m--> 345\u001b[0m     \u001b[38;5;28;01mreturn\u001b[39;00m \u001b[38;5;28;43mself\u001b[39;49m\u001b[38;5;241;43m.\u001b[39;49m\u001b[43m_range\u001b[49m\u001b[38;5;241;43m.\u001b[39;49m\u001b[43mindex\u001b[49m\u001b[43m(\u001b[49m\u001b[43mnew_key\u001b[49m\u001b[43m)\u001b[49m\n\u001b[0;32m    346\u001b[0m \u001b[38;5;28;01mexcept\u001b[39;00m \u001b[38;5;167;01mValueError\u001b[39;00m \u001b[38;5;28;01mas\u001b[39;00m err:\n",
      "\u001b[1;31mValueError\u001b[0m: 0 is not in range",
      "\nThe above exception was the direct cause of the following exception:\n",
      "\u001b[1;31mKeyError\u001b[0m                                  Traceback (most recent call last)",
      "Cell \u001b[1;32mIn[168], line 53\u001b[0m\n\u001b[0;32m     51\u001b[0m \u001b[38;5;28;01mfor\u001b[39;00m i \u001b[38;5;129;01min\u001b[39;00m \u001b[38;5;28mrange\u001b[39m(\u001b[38;5;241m6\u001b[39m):\n\u001b[0;32m     52\u001b[0m     ax \u001b[38;5;241m=\u001b[39m plt\u001b[38;5;241m.\u001b[39msubplot(\u001b[38;5;241m2\u001b[39m, \u001b[38;5;241m3\u001b[39m, i\u001b[38;5;241m+\u001b[39m\u001b[38;5;241m1\u001b[39m)\n\u001b[1;32m---> 53\u001b[0m     img_dir \u001b[38;5;241m=\u001b[39m \u001b[38;5;124m\"\u001b[39m\u001b[38;5;124mC:\u001b[39m\u001b[38;5;130;01m\\\\\u001b[39;00m\u001b[38;5;124mUsers\u001b[39m\u001b[38;5;130;01m\\\\\u001b[39;00m\u001b[38;5;124mpc\u001b[39m\u001b[38;5;130;01m\\\\\u001b[39;00m\u001b[38;5;124mOneDrive\u001b[39m\u001b[38;5;130;01m\\\\\u001b[39;00m\u001b[38;5;124mEscritorio\u001b[39m\u001b[38;5;130;01m\\\\\u001b[39;00m\u001b[38;5;124mOC_pdf\u001b[39m\u001b[38;5;130;01m\\\\\u001b[39;00m\u001b[38;5;124mentrenamiento\u001b[39m\u001b[38;5;124m\"\u001b[39m\u001b[38;5;241m+\u001b[39m\u001b[43munreadable\u001b[49m\u001b[38;5;241;43m.\u001b[39;49m\u001b[43mloc\u001b[49m\u001b[43m[\u001b[49m\u001b[43mi\u001b[49m\u001b[43m,\u001b[49m\u001b[43m \u001b[49m\u001b[38;5;124;43m'\u001b[39;49m\u001b[38;5;124;43mFILENAME\u001b[39;49m\u001b[38;5;124;43m'\u001b[39;49m\u001b[43m]\u001b[49m\n\u001b[0;32m     54\u001b[0m     image \u001b[38;5;241m=\u001b[39m cv2\u001b[38;5;241m.\u001b[39mimread(img_dir, cv2\u001b[38;5;241m.\u001b[39mIMREAD_GRAYSCALE)\n\u001b[0;32m     55\u001b[0m     plt\u001b[38;5;241m.\u001b[39mimshow(image, cmap\u001b[38;5;241m=\u001b[39m\u001b[38;5;124m'\u001b[39m\u001b[38;5;124mgray\u001b[39m\u001b[38;5;124m'\u001b[39m)\n",
      "File \u001b[1;32m~\\anaconda3\\envs\\marsh1\\lib\\site-packages\\pandas\\core\\indexing.py:1096\u001b[0m, in \u001b[0;36m_LocationIndexer.__getitem__\u001b[1;34m(self, key)\u001b[0m\n\u001b[0;32m   1094\u001b[0m     key \u001b[38;5;241m=\u001b[39m \u001b[38;5;28mtuple\u001b[39m(com\u001b[38;5;241m.\u001b[39mapply_if_callable(x, \u001b[38;5;28mself\u001b[39m\u001b[38;5;241m.\u001b[39mobj) \u001b[38;5;28;01mfor\u001b[39;00m x \u001b[38;5;129;01min\u001b[39;00m key)\n\u001b[0;32m   1095\u001b[0m     \u001b[38;5;28;01mif\u001b[39;00m \u001b[38;5;28mself\u001b[39m\u001b[38;5;241m.\u001b[39m_is_scalar_access(key):\n\u001b[1;32m-> 1096\u001b[0m         \u001b[38;5;28;01mreturn\u001b[39;00m \u001b[38;5;28;43mself\u001b[39;49m\u001b[38;5;241;43m.\u001b[39;49m\u001b[43mobj\u001b[49m\u001b[38;5;241;43m.\u001b[39;49m\u001b[43m_get_value\u001b[49m\u001b[43m(\u001b[49m\u001b[38;5;241;43m*\u001b[39;49m\u001b[43mkey\u001b[49m\u001b[43m,\u001b[49m\u001b[43m \u001b[49m\u001b[43mtakeable\u001b[49m\u001b[38;5;241;43m=\u001b[39;49m\u001b[38;5;28;43mself\u001b[39;49m\u001b[38;5;241;43m.\u001b[39;49m\u001b[43m_takeable\u001b[49m\u001b[43m)\u001b[49m\n\u001b[0;32m   1097\u001b[0m     \u001b[38;5;28;01mreturn\u001b[39;00m \u001b[38;5;28mself\u001b[39m\u001b[38;5;241m.\u001b[39m_getitem_tuple(key)\n\u001b[0;32m   1098\u001b[0m \u001b[38;5;28;01melse\u001b[39;00m:\n\u001b[0;32m   1099\u001b[0m     \u001b[38;5;66;03m# we by definition only have the 0th axis\u001b[39;00m\n",
      "File \u001b[1;32m~\\anaconda3\\envs\\marsh1\\lib\\site-packages\\pandas\\core\\frame.py:3877\u001b[0m, in \u001b[0;36mDataFrame._get_value\u001b[1;34m(self, index, col, takeable)\u001b[0m\n\u001b[0;32m   3871\u001b[0m engine \u001b[38;5;241m=\u001b[39m \u001b[38;5;28mself\u001b[39m\u001b[38;5;241m.\u001b[39mindex\u001b[38;5;241m.\u001b[39m_engine\n\u001b[0;32m   3873\u001b[0m \u001b[38;5;28;01mif\u001b[39;00m \u001b[38;5;129;01mnot\u001b[39;00m \u001b[38;5;28misinstance\u001b[39m(\u001b[38;5;28mself\u001b[39m\u001b[38;5;241m.\u001b[39mindex, MultiIndex):\n\u001b[0;32m   3874\u001b[0m     \u001b[38;5;66;03m# CategoricalIndex: Trying to use the engine fastpath may give incorrect\u001b[39;00m\n\u001b[0;32m   3875\u001b[0m     \u001b[38;5;66;03m#  results if our categories are integers that dont match our codes\u001b[39;00m\n\u001b[0;32m   3876\u001b[0m     \u001b[38;5;66;03m# IntervalIndex: IntervalTree has no get_loc\u001b[39;00m\n\u001b[1;32m-> 3877\u001b[0m     row \u001b[38;5;241m=\u001b[39m \u001b[38;5;28;43mself\u001b[39;49m\u001b[38;5;241;43m.\u001b[39;49m\u001b[43mindex\u001b[49m\u001b[38;5;241;43m.\u001b[39;49m\u001b[43mget_loc\u001b[49m\u001b[43m(\u001b[49m\u001b[43mindex\u001b[49m\u001b[43m)\u001b[49m\n\u001b[0;32m   3878\u001b[0m     \u001b[38;5;28;01mreturn\u001b[39;00m series\u001b[38;5;241m.\u001b[39m_values[row]\n\u001b[0;32m   3880\u001b[0m \u001b[38;5;66;03m# For MultiIndex going through engine effectively restricts us to\u001b[39;00m\n\u001b[0;32m   3881\u001b[0m \u001b[38;5;66;03m#  same-length tuples; see test_get_set_value_no_partial_indexing\u001b[39;00m\n",
      "File \u001b[1;32m~\\anaconda3\\envs\\marsh1\\lib\\site-packages\\pandas\\core\\indexes\\range.py:347\u001b[0m, in \u001b[0;36mRangeIndex.get_loc\u001b[1;34m(self, key)\u001b[0m\n\u001b[0;32m    345\u001b[0m         \u001b[38;5;28;01mreturn\u001b[39;00m \u001b[38;5;28mself\u001b[39m\u001b[38;5;241m.\u001b[39m_range\u001b[38;5;241m.\u001b[39mindex(new_key)\n\u001b[0;32m    346\u001b[0m     \u001b[38;5;28;01mexcept\u001b[39;00m \u001b[38;5;167;01mValueError\u001b[39;00m \u001b[38;5;28;01mas\u001b[39;00m err:\n\u001b[1;32m--> 347\u001b[0m         \u001b[38;5;28;01mraise\u001b[39;00m \u001b[38;5;167;01mKeyError\u001b[39;00m(key) \u001b[38;5;28;01mfrom\u001b[39;00m \u001b[38;5;21;01merr\u001b[39;00m\n\u001b[0;32m    348\u001b[0m \u001b[38;5;28;01mif\u001b[39;00m \u001b[38;5;28misinstance\u001b[39m(key, Hashable):\n\u001b[0;32m    349\u001b[0m     \u001b[38;5;28;01mraise\u001b[39;00m \u001b[38;5;167;01mKeyError\u001b[39;00m(key)\n",
      "\u001b[1;31mKeyError\u001b[0m: 0"
     ]
    },
    {
     "data": {
      "text/plain": [
       "<Figure size 1500x1000 with 0 Axes>"
      ]
     },
     "metadata": {},
     "output_type": "display_data"
    },
    {
     "data": {
      "image/png": "[encoded data removed]",
      "text/plain": [
       "<Figure size 1500x1000 with 1 Axes>"
      ]
     },
     "metadata": {},
     "output_type": "display_data"
    }
   ],
   "source": [
    "import os\n",
    "import cv2\n",
    "import random\n",
    "import numpy as np\n",
    "import pandas as pd\n",
    "import matplotlib.pyplot as plt\n",
    "\n",
    "import tensorflow as tf\n",
    "from keras import backend as K\n",
    "from keras.models import Model\n",
    "from keras.layers import Input, Conv2D, MaxPooling2D, Reshape, Bidirectional, LSTM, Dense, Lambda, Activation, BatchNormalization, Dropout\n",
    "from keras.optimizers import Adam\n",
    "\n",
    "# Carga de datos\n",
    "train = pd.read_excel(\"C:\\\\Users\\\\pc\\\\OneDrive\\\\Escritorio\\\\OC_pdf\\\\entrenamiento.xlsx\")# ruta dela rchivo con la información y las imagenes para entrenar\n",
    "valid = pd.read_excel(\"C:\\\\Users\\\\pc\\\\OneDrive\\\\Escritorio\\\\OC_pdf\\\\entrenamiento.xlsx\")\n",
    "\n",
    "\n",
    "# Visualización de datos de entrenamiento\n",
    "plt.figure(figsize=(15, 10))\n",
    "\n",
    "for i in range(6):\n",
    "    if 0 <= i < len(unreadable):\n",
    "        img_dir = \"C:\\\\Users\\\\pc\\\\OneDrive\\\\Escritorio\\\\OC_pdf\\\\entrenamiento\\\\\" + unreadable.loc[i, 'FILENAME']\n",
    "        image = cv2.imread(img_dir, cv2.IMREAD_GRAYSCALE)\n",
    "\n",
    "        if image is not None:\n",
    "            plt.imshow(image, cmap='gray')\n",
    "            plt.title(unreadable.loc[i, 'IDENTITY'], fontsize=12)\n",
    "            plt.axis('off')\n",
    "            plt.show()\n",
    "        else:\n",
    "            print(\"Error al cargar la imagen:\", img_dir)\n",
    "    else:\n",
    "        print(\"Índice fuera de rango: i =\", i)\n",
    "\n",
    "    \n",
    "    \n",
    "plt.subplots_adjust(wspace=0.2, hspace=-0.8)\n",
    "\n",
    "# Limpieza de datos\n",
    "print(\"Number of NaNs in train set      : \", train['IDENTITY'].isnull().sum())\n",
    "print(\"Number of NaNs in validation set : \", valid['IDENTITY'].isnull().sum())\n",
    "train.dropna(axis=0, inplace=True)\n",
    "valid.dropna(axis=0, inplace=True)\n",
    "\n",
    "unreadable = train[train['IDENTITY'] == 'UNREADABLE']\n",
    "unreadable.reset_index(inplace=True, drop=True)\n",
    "\n",
    "plt.figure(figsize=(15, 10))\n",
    "for i in range(6):\n",
    "    ax = plt.subplot(2, 3, i+1)\n",
    "    img_dir = \"C:\\\\Users\\\\pc\\\\OneDrive\\\\Escritorio\\\\OC_pdf\\\\entrenamiento\"+unreadable.loc[i, 'FILENAME']\n",
    "    image = cv2.imread(img_dir, cv2.IMREAD_GRAYSCALE)\n",
    "    plt.imshow(image, cmap='gray')\n",
    "    plt.title(unreadable.loc[i, 'IDENTITY'], fontsize=12)\n",
    "    plt.axis('off')\n",
    "\n",
    "train = train[train['IDENTITY'] != 'UNREADABLE']\n",
    "valid = valid[valid['IDENTITY'] != 'UNREADABLE']\n",
    "\n",
    "train['IDENTITY'] = train['IDENTITY'].str.upper()\n",
    "valid['IDENTITY'] = valid['IDENTITY'].str.upper()\n",
    "\n",
    "train.reset_index(inplace=True, drop=True)\n",
    "valid.reset_index(inplace=True, drop=True)\n",
    "\n",
    "# Preprocesamiento de imágenes\n",
    "def preprocess(img):\n",
    "    (h, w) = img.shape\n",
    "    final_img = np.ones([64, 256]) * 255  # blank white image\n",
    "    \n",
    "    if w > 256:\n",
    "        img = img[:, :256]\n",
    "        \n",
    "    if h > 64:\n",
    "        img = img[:64, :]\n",
    "    \n",
    "    final_img[:h, :w] = img\n",
    "    return cv2.rotate(final_img, cv2.ROTATE_90_CLOCKWISE)\n",
    "\n",
    "train_size = 30000\n",
    "valid_size = 3000\n",
    "train_x = []\n",
    "\n",
    "for i in range(train_size):\n",
    "    img_dir = \"C:\\\\Users\\\\pc\\\\OneDrive\\\\Escritorio\\\\OC_pdf\\\\entrenamiento\\\\\"+train.loc[i, 'FILENAME']\n",
    "    image = cv2.imread(img_dir, cv2.IMREAD_GRAYSCALE)\n",
    "    image = preprocess(image)\n",
    "    image = image / 255.\n",
    "    train_x.append(image)\n",
    "\n",
    "valid_x = []\n",
    "\n",
    "for i in range(valid_size):\n",
    "    img_dir = \"C:\\\\Users\\\\pc\\\\OneDrive\\\\Escritorio\\\\OC_pdf\\\\entrenamiento\\\\\"+valid.loc[i, 'FILENAME']\n",
    "    image = cv2.imread(img_dir, cv2.IMREAD_GRAYSCALE)\n",
    "    image = preprocess(image)\n",
    "    image = image / 255.\n",
    "    valid_x.append(image)\n",
    "\n",
    "train_x = np.array(train_x).reshape(-1, 256, 64, 1)\n",
    "valid_x = np.array(valid_x).reshape(-1, 256, 64, 1)\n",
    "\n",
    "# Preparación de etiquetas para CTC Loss\n",
    "alphabets = u\"ABCDEFGHIJKLMNOPQRSTUVWXYZ-' \"\n",
    "max_str_len = 24\n",
    "num_of_characters = len(alphabets) + 1\n",
    "num_of_timestamps = 64\n",
    "\n",
    "def label_to_num(label):\n",
    "    label_num = []\n",
    "    for ch in label:\n",
    "        label_num.append(alphabets.find(ch))\n",
    "    return np.array(label_num)\n",
    "\n",
    "def num_to_label(num):\n",
    "    ret = \"\"\n",
    "    for ch in num:\n",
    "        if ch == -1:\n",
    "            break\n",
    "        else:\n",
    "            ret += alphabets[ch]\n",
    "    return ret\n",
    "\n",
    "train_y = np.ones([train_size, max_str_len]) * -1\n",
    "train_label_len = np.zeros([train_size, 1])\n",
    "train_input_len = np.ones([train_size, 1]) * (num_of_timestamps-2)\n",
    "train_output = np.zeros([train_size])\n",
    "\n",
    "for i in range(train_size):\n",
    "    train_label_len[i] = len(train.loc[i, 'IDENTITY'])\n",
    "    train_y[i, 0:len(train.loc[i, 'IDENTITY'])] = label_to_num(train.loc[i, 'IDENTITY'])    \n",
    "\n",
    "valid_y = np.ones([valid_size, max_str_len]) * -1\n",
    "valid_label_len = np.zeros([valid_size, 1])\n",
    "valid_input_len = np.ones([valid_size, 1]) * (num_of_timestamps-2)\n",
    "valid_output = np.zeros([valid_size])\n",
    "\n",
    "for i in range(valid_size):\n",
    "    valid_label_len[i] = len(valid.loc[i, 'IDENTITY'])\n",
    "    valid_y[i, 0:len(valid.loc[i, 'IDENTITY'])] = label_to_num(valid.loc[i, 'IDENTITY'])\n"
   ]
  },
  {
   "cell_type": "code",
   "execution_count": 131,
   "id": "9819f6dc-d206-4bf7-ad98-b81fb42a0018",
   "metadata": {
    "tags": []
   },
   "outputs": [
    {
     "data": {
      "text/html": [
       "<div>\n",
       "<style scoped>\n",
       "    .dataframe tbody tr th:only-of-type {\n",
       "        vertical-align: middle;\n",
       "    }\n",
       "\n",
       "    .dataframe tbody tr th {\n",
       "        vertical-align: top;\n",
       "    }\n",
       "\n",
       "    .dataframe thead th {\n",
       "        text-align: right;\n",
       "    }\n",
       "</style>\n",
       "<table border=\"1\" class=\"dataframe\">\n",
       "  <thead>\n",
       "    <tr style=\"text-align: right;\">\n",
       "      <th></th>\n",
       "      <th>FILENAME</th>\n",
       "      <th>IDENTITY</th>\n",
       "    </tr>\n",
       "  </thead>\n",
       "  <tbody>\n",
       "  </tbody>\n",
       "</table>\n",
       "</div>"
      ],
      "text/plain": [
       "Empty DataFrame\n",
       "Columns: [FILENAME, IDENTITY]\n",
       "Index: []"
      ]
     },
     "execution_count": 131,
     "metadata": {},
     "output_type": "execute_result"
    }
   ],
   "source": [
    "unreadable"
   ]
  },
  {
   "cell_type": "code",
   "execution_count": 117,
   "id": "3ddf8b3c-a2c5-47ae-884f-8592641b9bd9",
   "metadata": {
    "tags": []
   },
   "outputs": [
    {
     "name": "stdout",
     "output_type": "stream",
     "text": [
      "No hay datos en la variable 'unreadable'.\n"
     ]
    }
   ],
   "source": [
    "if not unreadable.empty:\n",
    "    for i in range(6):\n",
    "        if i < len(unreadable):\n",
    "            img_dir = \"C:\\\\Users\\\\pc\\\\OneDrive\\\\Escritorio\\\\OC_pdf\\\\entrenamiento\\\\\" + unreadable.loc[i, 'FILENAME']\n",
    "            image = cv2.imread(img_dir, cv2.IMREAD_GRAYSCALE)\n",
    "\n",
    "            if image is not None:\n",
    "                plt.imshow(image, cmap='gray')\n",
    "                plt.title(unreadable.loc[i, 'IDENTITY'], fontsize=12)\n",
    "                plt.axis('off')\n",
    "                plt.show()\n",
    "            else:\n",
    "                print(\"Error al cargar la imagen:\", img_dir)\n",
    "        else:\n",
    "            print(\"Índice fuera de rango: i =\", i)\n",
    "else:\n",
    "    print(\"No hay datos en la variable 'unreadable'.\")\n"
   ]
  },
  {
   "cell_type": "code",
   "execution_count": 1,
   "id": "a68597c6-8b4a-4644-97ab-666e8af97d37",
   "metadata": {
    "tags": []
   },
   "outputs": [
    {
     "ename": "NameError",
     "evalue": "name 'image' is not defined",
     "output_type": "error",
     "traceback": [
      "\u001b[1;31m---------------------------------------------------------------------------\u001b[0m",
      "\u001b[1;31mNameError\u001b[0m                                 Traceback (most recent call last)",
      "Cell \u001b[1;32mIn[1], line 1\u001b[0m\n\u001b[1;32m----> 1\u001b[0m \u001b[38;5;28;01mif\u001b[39;00m \u001b[43mimage\u001b[49m \u001b[38;5;129;01mis\u001b[39;00m \u001b[38;5;129;01mnot\u001b[39;00m \u001b[38;5;28;01mNone\u001b[39;00m:\n\u001b[0;32m      2\u001b[0m     plt\u001b[38;5;241m.\u001b[39mimshow(image, cmap\u001b[38;5;241m=\u001b[39m\u001b[38;5;124m'\u001b[39m\u001b[38;5;124mgray\u001b[39m\u001b[38;5;124m'\u001b[39m)\n\u001b[0;32m      3\u001b[0m     plt\u001b[38;5;241m.\u001b[39mtitle(train\u001b[38;5;241m.\u001b[39mloc[i, \u001b[38;5;124m'\u001b[39m\u001b[38;5;124mIDENTITY\u001b[39m\u001b[38;5;124m'\u001b[39m], fontsize\u001b[38;5;241m=\u001b[39m\u001b[38;5;241m12\u001b[39m)\n",
      "\u001b[1;31mNameError\u001b[0m: name 'image' is not defined"
     ]
    }
   ],
   "source": [
    "if image is not None:\n",
    "    plt.imshow(image, cmap='gray')\n",
    "    plt.title(train.loc[i, 'IDENTITY'], fontsize=12)\n",
    "    plt.axis('off')\n",
    "    plt.show()\n",
    "else:\n",
    "    print(\"Error al cargar la imagen:\", img_dir)"
   ]
  },
  {
   "cell_type": "code",
   "execution_count": 135,
   "id": "38cd2a8e-bf05-479b-9fbe-9204faf072a3",
   "metadata": {
    "tags": []
   },
   "outputs": [
    {
     "data": {
      "image/png": "[encoded data removed]",
      "text/plain": [
       "<Figure size 640x480 with 1 Axes>"
      ]
     },
     "metadata": {},
     "output_type": "display_data"
    }
   ],
   "source": [
    "import cv2\n",
    "import matplotlib.pyplot as plt\n",
    "\n",
    "# Ruta de la carpeta que contiene las imágenes de entrenamiento\n",
    "folder_path = \"C:\\\\Users\\\\pc\\\\OneDrive\\\\Escritorio\\\\OC_pdf\\\\entrenamiento\\\\\"\n",
    "\n",
    "# Nombre del archivo de la imagen\n",
    "image_filename = train.loc[i, 'FILENAME']\n",
    "\n",
    "# Ruta completa de la imagen\n",
    "img_dir = folder_path + image_filename\n",
    "\n",
    "# Intenta cargar la imagen en escala de grises\n",
    "image = cv2.imread(img_dir, cv2.IMREAD_GRAYSCALE)\n",
    "\n",
    "if image is not None:\n",
    "    # La imagen se cargó correctamente en escala de grises\n",
    "    plt.imshow(image, cmap='gray')\n",
    "    plt.title(train.loc[i, 'IDENTITY'], fontsize=12)\n",
    "    plt.axis('off')\n",
    "    plt.show()\n",
    "else:\n",
    "    # La imagen no se cargó correctamente\n",
    "    print(\"Error al cargar la imagen:\", img_dir)"
   ]
  }
 ],
 "metadata": {
  "kernelspec": {
   "display_name": "Python 3 (ipykernel)",
   "language": "python",
   "name": "python3"
  },
  "language_info": {
   "codemirror_mode": {
    "name": "ipython",
    "version": 3
   },
   "file_extension": ".py",
   "mimetype": "text/x-python",
   "name": "python",
   "nbconvert_exporter": "python",
   "pygments_lexer": "ipython3",
   "version": "3.8.18"
  }
 },
 "nbformat": 4,
 "nbformat_minor": 5
}
