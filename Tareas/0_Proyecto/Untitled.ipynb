{
 "cells": [
  {
   "cell_type": "code",
   "execution_count": 2,
   "id": "9f0b6fca-6843-47b2-b691-6eff4f7e9f4b",
   "metadata": {
    "tags": []
   },
   "outputs": [],
   "source": [
    "import sys, pathlib, fitz"
   ]
  },
  {
   "cell_type": "code",
   "execution_count": null,
   "id": "415b7277-c0a4-4309-92a7-dcb4bcd6edbe",
   "metadata": {},
   "outputs": [],
   "source": []
  },
  {
   "cell_type": "code",
   "execution_count": null,
   "id": "e6f477d1-8c4c-4a55-8960-bd177058b58b",
   "metadata": {},
   "outputs": [],
   "source": [
    "#El siguiente codigo extrae toda la infromación del docuemnto"
   ]
  },
  {
   "cell_type": "code",
   "execution_count": 58,
   "id": "af704b20-33a5-4944-83fa-f113de067cab",
   "metadata": {
    "tags": []
   },
   "outputs": [
    {
     "data": {
      "text/plain": [
       "10122"
      ]
     },
     "execution_count": 58,
     "metadata": {},
     "output_type": "execute_result"
    }
   ],
   "source": [
    "\n",
    "fname = \"C:\\\\Users\\\\pc\\OneDrive\\\\Escritorio\\\\OC_pdf\\\\andres manrique.pdf\"  \n",
    "with fitz.open(fname) as doc:\n",
    "     text = chr(12).join([page.get_text() for page in doc])\n",
    "\n",
    "pathlib.Path(fname + \".txt\").write_bytes(text.encode())"
   ]
  },
  {
   "cell_type": "code",
   "execution_count": null,
   "id": "bb45925f-d560-4baf-9594-2227392ce33c",
   "metadata": {},
   "outputs": [],
   "source": [
    "# el siguiente codigo estrae información particular del pdf"
   ]
  },
  {
   "cell_type": "code",
   "execution_count": 54,
   "id": "0dfc7686-1969-42d1-bb8a-747b442d923e",
   "metadata": {
    "tags": []
   },
   "outputs": [
    {
     "name": "stdout",
     "output_type": "stream",
     "text": [
      "Invoice date: Número\n",
      "Invoice date: Urgencias\n",
      "Invoice date: 1.\n",
      "Invoice date: Nombre\n",
      "Invoice date: Nombre\n",
      "Invoice date: Nombre\n",
      "Invoice date: SUPERINTENDENCIA\n",
      "Invoice date: Nombre\n"
     ]
    }
   ],
   "source": [
    "import fitz\n",
    "\n",
    "doc = fitz.open(\"C:\\\\Users\\\\pc\\OneDrive\\\\Escritorio\\\\OC_pdf\\\\andres manrique.pdf\") #Ruta del archivo\n",
    "page = doc[0]  # Primera Pagina\n",
    "words = page.get_text(\"words\", sort=True)  # Extraer palabras ordenadas\n",
    "\n",
    "for i, word in enumerate(words):\n",
    "    # information items will be found prefixed with their \"key\"\n",
    "    text = word[4]\n",
    "    if text == \"AAAAMMDD\":  # the following word will be the date!\n",
    "        AAAAMMDD = words[i + 1][4]\n",
    "        print(\"Invoice date:\", AAAAMMDD)"
   ]
  },
  {
   "cell_type": "code",
   "execution_count": 55,
   "id": "9abb61d7-dab3-4617-8dbe-4a4ea508d376",
   "metadata": {
    "tags": []
   },
   "outputs": [],
   "source": [
    "for i, word in enumerate(words):\n",
    "    # information items will be found prefixed with their \"key\"\n",
    "    text = word[4]\n",
    "    if text == \"DATE:\":  # the following word will be the date!\n",
    "        date = words[i + 1][4]\n",
    "        print(\"Invoice date:\", date)\n",
    "    elif text == \"Subtotal\":\n",
    "        subtotal = words[i + 1][4]\n",
    "        print(\"Subtotal:\", subtotal)\n",
    "    elif text == \"Tax\":\n",
    "        tax = words[i + 1][4]\n",
    "        print(\"Tax:\", tax)\n",
    "    elif text == \"INVOICE\":\n",
    "        inv_number = words[i + 2][4]  # skip the \"#\" sign\n",
    "        print(\"Invoice number:\", inv_number)\n",
    "    elif text == \"BALANCE\":\n",
    "        balance = words[i + 2][4]  # skip the word \"DUE\"\n",
    "        print(\"Balance due:\", balance)\n",
    "        "
   ]
  },
  {
   "cell_type": "code",
   "execution_count": 32,
   "id": "9c971dc8-16e9-44e0-ad03-b8c59c8d4877",
   "metadata": {
    "tags": []
   },
   "outputs": [
    {
     "name": "stdout",
     "output_type": "stream",
     "text": [
      "Page 1: Invoice date: Número\n",
      "Page 1: Invoice date: Otra\n"
     ]
    }
   ],
   "source": [
    "import fitz\n",
    "\n",
    "# Abre el documento PDF en la ruta especificada\n",
    "doc = fitz.open(\"C:\\\\Users\\\\pc\\OneDrive\\\\Escritorio\\\\OC_pdf\\\\andres manrique.pdf\")\n",
    "\n",
    "# Itera a través de las páginas del documento\n",
    "for page_number in range(len(doc)):\n",
    "    page = doc[page_number]\n",
    "    words = page.get_text(\"words\", sort=True)  # Extrae y ordena las palabras\n",
    "\n",
    "    for i, word in enumerate(words):\n",
    "        text = word[4]\n",
    "\n",
    "        if text == \"Oficina\":\n",
    "            # Encuentra la coordenada y de la palabra actual\n",
    "            current_y = word[3]\n",
    "\n",
    "            # Busca la siguiente palabra hacia abajo en la página\n",
    "            for j in range(i + 1, len(words)):\n",
    "                next_word = words[j]\n",
    "                if next_word[3] > current_y:\n",
    "                    date = next_word[4]\n",
    "                    print(f\"Page {page_number + 1}: Invoice date:\", date)\n",
    "                    break  # Sale del bucle interno cuando se encuentra la siguiente palabra hacia abajo\n"
   ]
  },
  {
   "cell_type": "code",
   "execution_count": 56,
   "id": "458b7935-9bcb-40e7-b0f6-091a18020504",
   "metadata": {
    "tags": []
   },
   "outputs": [
    {
     "name": "stdout",
     "output_type": "stream",
     "text": [
      "Invoice date: Ingreso\n"
     ]
    }
   ],
   "source": [
    "import fitz\n",
    "\n",
    "# Abre el documento PDF en la ruta especificada\n",
    "doc = fitz.open(\"C:\\\\Users\\\\pc\\OneDrive\\\\Escritorio\\\\OC_pdf\\\\felipe vargas.pdf\")\n",
    "\n",
    "# Primera Página\n",
    "page = doc[0]\n",
    "\n",
    "# Extrae palabras ordenadas de la página\n",
    "words = page.get_text(\"words\", sort=True)\n",
    "\n",
    "# Itera a través de las palabras\n",
    "for i, word in enumerate(words):\n",
    "    text = word[4]\n",
    "    \n",
    "    # Si encuentra la palabra clave \"AAAAMMDD\"\n",
    "    if text == \"Nueva\":\n",
    "        # Encuentra la coordenada Y de la palabra actual\n",
    "        current_y = word[3]\n",
    "        \n",
    "        # Busca la siguiente palabra hacia abajo en la página\n",
    "        for j in range(i + 1, len(words)):\n",
    "            next_word = words[j]\n",
    "            if next_word[3] > current_y:\n",
    "                Nueva = next_word[4]\n",
    "                print(\"Invoice date:\", Nueva)\n",
    "                break  # Sale del bucle interno cuando se encuentra la siguiente palabra hacia abajo\n"
   ]
  },
  {
   "cell_type": "code",
   "execution_count": 51,
   "id": "6f07f231-d95e-4b2c-a0e5-fe09f76a5ab2",
   "metadata": {
    "tags": []
   },
   "outputs": [
    {
     "name": "stdout",
     "output_type": "stream",
     "text": [
      "Invoice date: transformaciones\n"
     ]
    }
   ],
   "source": [
    "import fitz\n",
    "\n",
    "# Abre el documento PDF en la ruta especificada\n",
    "doc = fitz.open(\"C:\\\\Users\\\\pc\\\\OneDrive\\\\Escritorio\\\\Guía de Aprendizaje APICULTURA  COMPT 1.pdf\") \n",
    "\n",
    "# Primera Página\n",
    "page = doc[0]\n",
    "\n",
    "# Extrae palabras ordenadas de la página\n",
    "words = page.get_text(\"words\", sort=True)\n",
    "\n",
    "# Itera a través de las palabras\n",
    "i = 0\n",
    "while i < len(words):\n",
    "    text = words[i][4]\n",
    "    \n",
    "    # Si encuentra la palabra clave \"AAAAMMDD\"\n",
    "    if text == \"través\":\n",
    "        # Encuentra la coordenada Y de la palabra actual\n",
    "        current_y = words[i][3]\n",
    "        \n",
    "        # Inicializa una variable para almacenar la siguiente palabra\n",
    "        next_word = \"\"\n",
    "        \n",
    "        # Busca la siguiente palabra hacia abajo en la página\n",
    "        for j in range(i + 1, len(words)):\n",
    "            if words[j][3] > current_y:\n",
    "                next_word = words[j][4]\n",
    "                break  # Sale del bucle cuando encuentra la siguiente palabra hacia abajo\n",
    "        \n",
    "        if next_word:\n",
    "            print(\"Invoice date:\", next_word)\n",
    "        \n",
    "        # Incrementa el índice para evitar procesar la misma palabra nuevamente\n",
    "        i = j\n",
    "        \n",
    "    i += 1\n"
   ]
  }
 ],
 "metadata": {
  "kernelspec": {
   "display_name": "Python 3 (ipykernel)",
   "language": "python",
   "name": "python3"
  },
  "language_info": {
   "codemirror_mode": {
    "name": "ipython",
    "version": 3
   },
   "file_extension": ".py",
   "mimetype": "text/x-python",
   "name": "python",
   "nbconvert_exporter": "python",
   "pygments_lexer": "ipython3",
   "version": "3.11.3"
  }
 },
 "nbformat": 4,
 "nbformat_minor": 5
}
