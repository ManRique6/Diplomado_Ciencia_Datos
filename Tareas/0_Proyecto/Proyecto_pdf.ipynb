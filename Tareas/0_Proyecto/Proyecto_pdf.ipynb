{
 "cells": [
  {
   "cell_type": "code",
   "execution_count": 32,
   "id": "63703807-0954-4c07-bf30-fde1dcda08fe",
   "metadata": {},
   "outputs": [],
   "source": [
    "\n",
    "#pip install pytesseract\n",
    "#pip install PyPDF2\n",
    "#pip install pdfplumber\n",
    "#pip install ocrmypdf\n",
    "#pip install PyMuPDF"
   ]
  },
  {
   "cell_type": "code",
   "execution_count": null,
   "id": "69e5f9eb-2316-4341-8c5a-5bdd5fe84f4c",
   "metadata": {},
   "outputs": [],
   "source": [
    "#para trabajar con ocrmypdf se debe intalar adicionalmente: Ghostscript y Tesseract OCR\n"
   ]
  },
  {
   "cell_type": "code",
   "execution_count": 14,
   "id": "f6964a65-97ae-4917-a379-3ec80d1e315d",
   "metadata": {
    "tags": []
   },
   "outputs": [],
   "source": [
    "import os\n",
    "import pytesseract\n",
    "from PIL import Image\n",
    "import PyPDF2\n",
    "#import ocrmypdf\n",
    "import cv2\n",
    "import pytesseract\n",
    "import pandas as pd"
   ]
  },
  {
   "cell_type": "markdown",
   "id": "19a18928-5e38-40bb-8043-d774e8e14b50",
   "metadata": {},
   "source": [
    "### pasar pdf a imagen y recortarla"
   ]
  },
  {
   "cell_type": "code",
   "execution_count": 19,
   "id": "a8348356-8fbf-46f5-a284-433d11357860",
   "metadata": {
    "tags": []
   },
   "outputs": [
    {
     "name": "stdout",
     "output_type": "stream",
     "text": [
      "Se ha convertido la página 1 en una imagen y se ha guardado en C:\\Users\\pc\\OneDrive\\Escritorio\\OC_pdf\\Nueva carpeta\\pagina_1.png.\n"
     ]
    }
   ],
   "source": [
    "import fitz  # PyMuPDF\n",
    "import cv2\n",
    "import numpy as np\n",
    "import os\n",
    "\n",
    "# Ruta del archivo PDF de entrada\n",
    "pdf_path = \"C:\\\\Users\\\\pc\\\\OneDrive\\\\Escritorio\\\\OC_pdf\\\\SEGURO DE VIDA Reina Quintana Sergio Ivan.pdf\"\n",
    "\n",
    "# Directorio donde se guardarán las imágenes\n",
    "output_directory = \"C:\\\\Users\\\\pc\\\\OneDrive\\\\Escritorio\\\\OC_pdf\\\\Nueva carpeta\\\\\"\n",
    "\n",
    "# Número de página que deseas convertir (página 0 es la primera página)\n",
    "page_number = 0\n",
    "\n",
    "# Abre el archivo PDF\n",
    "pdf_document = fitz.open(pdf_path)\n",
    "\n",
    "# Asegúrate de que la carpeta de salida exista, o créala si no existe\n",
    "os.makedirs(output_directory, exist_ok=True)\n",
    "\n",
    "# Selecciona la página\n",
    "page = pdf_document.load_page(page_number)\n",
    "\n",
    "# Renderiza la página como una imagen (puedes ajustar la resolución)\n",
    "pix = page.get_pixmap(matrix=fitz.Matrix(300/72, 300/72))\n",
    "\n",
    "# Construye la ruta completa para guardar la imagen\n",
    "image_path = os.path.join(output_directory, f\"pagina_{page_number + 1}.png\")\n",
    "\n",
    "# Guarda la imagen como un archivo PNG en la ruta especificada\n",
    "pix.save(image_path)\n",
    "\n",
    "# Cierra el documento PDF\n",
    "pdf_document.close()\n",
    "\n",
    "print(f\"Se ha convertido la página {page_number + 1} en una imagen y se ha guardado en {image_path}.\")\n",
    "\n",
    "# Carga la imagen convertida\n",
    "image = cv2.imread(image_path)\n",
    "\n",
    "# Convierte la imagen a escala de grises\n",
    "gray = cv2.cvtColor(image, cv2.COLOR_BGR2GRAY)\n",
    "\n",
    "# Aplica la detección de bordes (Canny)\n",
    "edges = cv2.Canny(gray, 50, 150, apertureSize=3)\n",
    "\n",
    "# Aplica la transformada de Hough para detectar líneas\n",
    "lines = cv2.HoughLinesP(edges, 1, np.pi / 180, threshold=100, minLineLength=100, maxLineGap=10)\n",
    "\n",
    "# Encuentra los puntos extremos de las líneas detectadas y recorta la imagen\n",
    "if lines is not None:\n",
    "    # Inicializa una máscara en escala de grises del mismo tamaño que la original\n",
    "    mask = np.zeros(gray.shape, dtype=np.uint8)\n",
    "\n",
    "    for line in lines:\n",
    "        x1, y1, x2, y2 = line[0]\n",
    "        \n",
    "        # Dibuja la línea en la máscara (blanco)\n",
    "        cv2.line(mask, (x1, y1), (x2, y2), 255, 2)\n",
    "\n",
    "    # Encuentra los contornos en la máscara\n",
    "    contours, _ = cv2.findContours(mask, cv2.RETR_EXTERNAL, cv2.CHAIN_APPROX_SIMPLE)\n",
    "    if contours:\n",
    "        largest_contour = max(contours, key=cv2.contourArea)\n",
    "        x, y, w, h = cv2.boundingRect(largest_contour)\n",
    "\n",
    "        # Recorta la región del rectángulo en la imagen original\n",
    "        imagen_recortada = image[y:y + h, x:x + w]\n",
    "\n",
    "        # Redimensiona la imagen recortada al tamaño deseado (por ejemplo, 1629x1236 píxeles)\n",
    "        nuevo_ancho = 1629\n",
    "        nuevo_alto = 1236\n",
    "        imagen_recortada = cv2.resize(imagen_recortada, (nuevo_ancho, nuevo_alto))\n",
    "\n",
    "        # Aplica un filtro de mejora de nitidez a la imagen\n",
    "        imagen_mejorada = cv2.filter2D(imagen_recortada, -1, np.array([[-1, -1, -1],\n",
    "                                                                     [-1,  9, -1],\n",
    "                                                                     [-1, -1, -1]]))\n",
    "\n",
    "        # Ruta y nombre de la imagen recortada y mejorada\n",
    "        nombre_imagen_recortada = os.path.join(output_directory, f\"pagina_{page_number + 1}.png\")\n",
    "        nombre_imagen_mejorada = os.path.join(output_directory, f\"pagina_{page_number + 1}.png\")\n",
    "\n",
    "        # Guarda la imagen recortada y la imagen mejorada en las rutas especificadas\n",
    "        #cv2.imwrite(nombre_imagen_recortada, imagen_recortada)\n",
    "        cv2.imwrite(nombre_imagen_mejorada, imagen_mejorada)\n",
    "\n",
    "        #cv2.imshow(\"Imagen Recortada\", imagen_recortada)\n",
    "        cv2.imshow(\"Imagen Mejorada\", imagen_mejorada)\n",
    "        cv2.waitKey(0)\n",
    "        cv2.destroyAllWindows()\n",
    "    else:\n",
    "        print(\"No se encontraron contornos en la máscara\")\n",
    "else:\n",
    "    print(\"No se encontraron líneas en la imagen\")\n",
    "\n"
   ]
  },
  {
   "cell_type": "code",
   "execution_count": 12,
   "id": "e08dfadf-6987-4644-b762-a12b525b3261",
   "metadata": {},
   "outputs": [
    {
     "name": "stdout",
     "output_type": "stream",
     "text": [
      "Coordenadas: (748, 119)\n",
      "Coordenadas: (1116, 246)\n"
     ]
    }
   ],
   "source": [
    "import cv2\n",
    "\n",
    "# Carga la imagen\n",
    "image = cv2.imread(\"C:\\\\Users\\\\pc\\\\OneDrive\\\\Escritorio\\\\OC_pdf\\\\Nueva carpeta\\\\pagina_1.png\")\n",
    "\n",
    "# Crea una ventana\n",
    "cv2.namedWindow('Imagen', cv2.WINDOW_NORMAL)  # Puedes ajustar el tamaño de la ventana si lo deseas\n",
    "\n",
    "# Muestra la imagen en la ventana\n",
    "cv2.imshow('Imagen', image)\n",
    "\n",
    "# Función para manejar los clics del mouse\n",
    "def obtener_coordenadas(event, x, y, flags, param):\n",
    "    if event == cv2.EVENT_LBUTTONDOWN:\n",
    "        print(f'Coordenadas: ({x}, {y})')\n",
    "\n",
    "# Asigna la función de manejo de clics al evento del mouse\n",
    "cv2.setMouseCallback('Imagen', obtener_coordenadas)\n",
    "\n",
    "# Espera a que el usuario haga clic en la imagen\n",
    "cv2.waitKey(0)\n",
    "\n",
    "# Cierra la ventana\n",
    "cv2.destroyAllWindows()"
   ]
  },
  {
   "cell_type": "code",
   "execution_count": 20,
   "id": "f599da45-e354-4615-8e0b-8ead653a73b4",
   "metadata": {
    "tags": []
   },
   "outputs": [
    {
     "name": "stdout",
     "output_type": "stream",
     "text": [
      "['Angelica Vannessa Ramirez Rubio\\n\\n', '11 | 12 | 92\\n', '1072667399\\n', 'ESPOS@\\n', 'German Reina Bojaca\\n', '11 | 03 |59\\n', '2994376\\n', 'SUEGR@\\nO PADRE\\n']\n"
     ]
    }
   ],
   "source": [
    "import cv2\n",
    "import pytesseract\n",
    "\n",
    "# Carga la imagen\n",
    "pytesseract.pytesseract.tesseract_cmd = r\"C:\\Users\\pc\\Documents\\tesseract.exe\"  # Reemplaza esta ruta con la ubicación real de Tesseract en tu sistema\n",
    "\n",
    "image = cv2.imread(\"C:\\\\Users\\\\pc\\\\OneDrive\\\\Escritorio\\\\OC_pdf\\\\Nueva carpeta\\\\pagina_1.png\")\n",
    "\n",
    "# Define las coordenadas de las regiones de la imagen que deseas extraer\n",
    "regiones = [\n",
    "    {\"left_x\": 5, \"top_y\": 126, \"right_x\": 747, \"bottom_y\": 238},\n",
    "    {\"left_x\": 749, \"top_y\": 139, \"right_x\": 1114, \"bottom_y\": 248},\n",
    "    {\"left_x\": 1115, \"top_y\": 129, \"right_x\": 1505, \"bottom_y\": 239},\n",
    "    {\"left_x\": 1507, \"top_y\": 138, \"right_x\": 1623, \"bottom_y\": 245},\n",
    "    {\"left_x\": 5, \"top_y\": 226, \"right_x\": 747, \"bottom_y\": 338},\n",
    "    {\"left_x\": 749, \"top_y\": 239, \"right_x\": 1115, \"bottom_y\": 349},\n",
    "    {\"left_x\": 1116, \"top_y\": 239, \"right_x\": 1504, \"bottom_y\": 351},\n",
    "    {\"left_x\": 1507, \"top_y\": 243, \"right_x\": 1623, \"bottom_y\": 353},\n",
    "]\n",
    "\n",
    "# Lista para almacenar el texto extraído de cada región\n",
    "beneficiarios = []\n",
    "Beneficiarios =[]\n",
    "for region in regiones:\n",
    "    left_x = region[\"left_x\"]\n",
    "    top_y = region[\"top_y\"]\n",
    "    right_x = region[\"right_x\"]\n",
    "    bottom_y = region[\"bottom_y\"]\n",
    "\n",
    "    # Recorta la región de la imagen según las coordenadas\n",
    "    cropped_image = image[top_y:bottom_y, left_x:right_x]\n",
    "\n",
    "    # Convierte la imagen recortada a escala de grises\n",
    "    gray_image = cv2.cvtColor(cropped_image, cv2.COLOR_BGR2GRAY)\n",
    "\n",
    "    # Extrae el texto de la imagen recortada\n",
    "    extracted_text = pytesseract.image_to_string(gray_image, lang='spa', config='--psm 6')\n",
    "\n",
    "    # Recorta la región de la imagen según las coordenadas\n",
    "    cropped_image = image[top_y:bottom_y, left_x:right_x]\n",
    "\n",
    "    # Convierte la imagen recortada a escala de grises\n",
    "    gray_image = cv2.cvtColor(cropped_image, cv2.COLOR_BGR2GRAY)\n",
    "\n",
    "    # Extrae el texto de la imagen recortada\n",
    "    extracted_text = pytesseract.image_to_string(gray_image)\n",
    "\n",
    "    # Imprime el texto extraído o guárdalo en un archivo, según tus necesidades\n",
    "    #print(f\"Texto extraído de región {idx + 1}:\")\n",
    "\n",
    "    Beneficiarios.append(extracted_text)\n",
    "    \n",
    "print(Beneficiarios)\n",
    "\n"
   ]
  },
  {
   "cell_type": "code",
   "execution_count": 21,
   "id": "f0f87b95-38fa-438f-97fb-7be9ba66bc08",
   "metadata": {
    "tags": []
   },
   "outputs": [
    {
     "data": {
      "text/html": [
       "<div>\n",
       "<style scoped>\n",
       "    .dataframe tbody tr th:only-of-type {\n",
       "        vertical-align: middle;\n",
       "    }\n",
       "\n",
       "    .dataframe tbody tr th {\n",
       "        vertical-align: top;\n",
       "    }\n",
       "\n",
       "    .dataframe thead th {\n",
       "        text-align: right;\n",
       "    }\n",
       "</style>\n",
       "<table border=\"1\" class=\"dataframe\">\n",
       "  <thead>\n",
       "    <tr style=\"text-align: right;\">\n",
       "      <th></th>\n",
       "      <th>Nombre</th>\n",
       "      <th>Fecha_Nacimiento</th>\n",
       "      <th>Documento_id</th>\n",
       "      <th>Parentesco</th>\n",
       "    </tr>\n",
       "  </thead>\n",
       "  <tbody>\n",
       "    <tr>\n",
       "      <th>0</th>\n",
       "      <td>Angelica Vannessa Ramirez Rubio\\n\\n</td>\n",
       "      <td>11 | 12 | 92\\n</td>\n",
       "      <td>1072667399\\n</td>\n",
       "      <td>ESPOS@\\n</td>\n",
       "    </tr>\n",
       "    <tr>\n",
       "      <th>1</th>\n",
       "      <td>German Reina Bojaca\\n</td>\n",
       "      <td>11 | 03 |59\\n</td>\n",
       "      <td>2994376\\n</td>\n",
       "      <td>SUEGR@\\nO PADRE\\n</td>\n",
       "    </tr>\n",
       "  </tbody>\n",
       "</table>\n",
       "</div>"
      ],
      "text/plain": [
       "                                Nombre Fecha_Nacimiento  Documento_id  \\\n",
       "0  Angelica Vannessa Ramirez Rubio\\n\\n   11 | 12 | 92\\n  1072667399\\n   \n",
       "1                German Reina Bojaca\\n    11 | 03 |59\\n     2994376\\n   \n",
       "\n",
       "          Parentesco  \n",
       "0           ESPOS@\\n  \n",
       "1  SUEGR@\\nO PADRE\\n  "
      ]
     },
     "execution_count": 21,
     "metadata": {},
     "output_type": "execute_result"
    }
   ],
   "source": [
    "if (len(Beneficiarios)%4==0):\n",
    "    \n",
    "    chunks = [Beneficiarios[i:i+4] for i in range(0, len(Beneficiarios), 4)]\n",
    "    df = pd.DataFrame(chunks, columns=['Nombre', 'Fecha_Nacimiento', 'Documento_id', 'Parentesco'])\n",
    "else:\n",
    "    print(\"dimención incompleta\")\n",
    "    \n",
    "df"
   ]
  },
  {
   "cell_type": "code",
   "execution_count": 22,
   "id": "05549d27-89c1-434a-b9f4-81ac16a494c2",
   "metadata": {
    "tags": []
   },
   "outputs": [
    {
     "data": {
      "text/html": [
       "<div>\n",
       "<style scoped>\n",
       "    .dataframe tbody tr th:only-of-type {\n",
       "        vertical-align: middle;\n",
       "    }\n",
       "\n",
       "    .dataframe tbody tr th {\n",
       "        vertical-align: top;\n",
       "    }\n",
       "\n",
       "    .dataframe thead th {\n",
       "        text-align: right;\n",
       "    }\n",
       "</style>\n",
       "<table border=\"1\" class=\"dataframe\">\n",
       "  <thead>\n",
       "    <tr style=\"text-align: right;\">\n",
       "      <th></th>\n",
       "      <th>Nombre</th>\n",
       "      <th>Fecha_Nacimiento</th>\n",
       "      <th>Documento_id</th>\n",
       "      <th>Parentesco</th>\n",
       "    </tr>\n",
       "  </thead>\n",
       "  <tbody>\n",
       "    <tr>\n",
       "      <th>0</th>\n",
       "      <td>Angelica Vannessa Ramirez Rubio\\n\\n</td>\n",
       "      <td>1992-12-11</td>\n",
       "      <td>1072667399\\n</td>\n",
       "      <td>ESPOS@\\n</td>\n",
       "    </tr>\n",
       "    <tr>\n",
       "      <th>1</th>\n",
       "      <td>German Reina Bojaca\\n</td>\n",
       "      <td>1959-03-11</td>\n",
       "      <td>2994376\\n</td>\n",
       "      <td>SUEGR@\\nO PADRE\\n</td>\n",
       "    </tr>\n",
       "  </tbody>\n",
       "</table>\n",
       "</div>"
      ],
      "text/plain": [
       "                                Nombre Fecha_Nacimiento  Documento_id  \\\n",
       "0  Angelica Vannessa Ramirez Rubio\\n\\n       1992-12-11  1072667399\\n   \n",
       "1                German Reina Bojaca\\n       1959-03-11     2994376\\n   \n",
       "\n",
       "          Parentesco  \n",
       "0           ESPOS@\\n  \n",
       "1  SUEGR@\\nO PADRE\\n  "
      ]
     },
     "execution_count": 22,
     "metadata": {},
     "output_type": "execute_result"
    }
   ],
   "source": [
    "from datetime import datetime\n",
    "\n",
    "def convertir_fecha(fecha_str):\n",
    "    # Divide la cadena en función del carácter \"|\"\n",
    "    partes = fecha_str.split(\"|\")\n",
    "\n",
    "    # Elimina los espacios en blanco y el salto de línea de cada parte y convierte a enteros\n",
    "    dia = int(partes[0].strip())\n",
    "    mes = int(partes[1].strip())\n",
    "    ano = int(partes[2].strip())\n",
    "\n",
    "    # Ajusta el valor del año para que sea \"1992\" en lugar de \"92\"\n",
    "    if ano >= 0 and ano <= 99:\n",
    "        ano += 1900\n",
    "\n",
    "    # Crea un objeto de fecha\n",
    "    return datetime(year=ano, month=mes, day=dia)\n",
    "\n",
    "\n",
    "df['Fecha_Nacimiento'] = [convertir_fecha(fecha) for fecha in df['Fecha_Nacimiento']]\n",
    "df\n",
    "\n"
   ]
  },
  {
   "cell_type": "code",
   "execution_count": 23,
   "id": "00af1811-d1d0-4707-9bc4-ae0378b7a908",
   "metadata": {
    "tags": []
   },
   "outputs": [
    {
     "data": {
      "text/html": [
       "<div>\n",
       "<style scoped>\n",
       "    .dataframe tbody tr th:only-of-type {\n",
       "        vertical-align: middle;\n",
       "    }\n",
       "\n",
       "    .dataframe tbody tr th {\n",
       "        vertical-align: top;\n",
       "    }\n",
       "\n",
       "    .dataframe thead th {\n",
       "        text-align: right;\n",
       "    }\n",
       "</style>\n",
       "<table border=\"1\" class=\"dataframe\">\n",
       "  <thead>\n",
       "    <tr style=\"text-align: right;\">\n",
       "      <th></th>\n",
       "      <th>Nombre</th>\n",
       "      <th>Fecha_Nacimiento</th>\n",
       "      <th>Documento_id</th>\n",
       "      <th>Parentesco</th>\n",
       "    </tr>\n",
       "  </thead>\n",
       "  <tbody>\n",
       "    <tr>\n",
       "      <th>0</th>\n",
       "      <td>Angelica Vannessa Ramirez Rubio</td>\n",
       "      <td>1992-12-11</td>\n",
       "      <td>1072667399</td>\n",
       "      <td>ESPOS@</td>\n",
       "    </tr>\n",
       "    <tr>\n",
       "      <th>1</th>\n",
       "      <td>German Reina Bojaca</td>\n",
       "      <td>1959-03-11</td>\n",
       "      <td>2994376</td>\n",
       "      <td>SUEGR@O PADRE</td>\n",
       "    </tr>\n",
       "  </tbody>\n",
       "</table>\n",
       "</div>"
      ],
      "text/plain": [
       "                            Nombre Fecha_Nacimiento Documento_id  \\\n",
       "0  Angelica Vannessa Ramirez Rubio       1992-12-11   1072667399   \n",
       "1              German Reina Bojaca       1959-03-11      2994376   \n",
       "\n",
       "      Parentesco  \n",
       "0         ESPOS@  \n",
       "1  SUEGR@O PADRE  "
      ]
     },
     "execution_count": 23,
     "metadata": {},
     "output_type": "execute_result"
    }
   ],
   "source": [
    "import re\n",
    "\n",
    "# Lista de cadenas con el patrón \" | \"\n",
    "lista = df['Nombre']\n",
    "\n",
    "# Define el patrón a eliminar\n",
    "patron = r'\\n'  # El espacio y las barras verticales deben escaparse con \"\\\"\n",
    "\n",
    "# Utiliza re.sub() para eliminar el patrón en cada cadena de la lista\n",
    "df['Nombre']= [re.sub(patron, '', cadena) for cadena in df['Nombre']]\n",
    "df['Documento_id']= [re.sub(patron, '', cadena) for cadena in df['Documento_id']]\n",
    "df['Parentesco']= [re.sub(patron, '', cadena) for cadena in df['Parentesco']]\n",
    "# Imprime la lista resultante\n",
    "df\n"
   ]
  },
  {
   "cell_type": "code",
   "execution_count": null,
   "id": "7baf567a-d7e2-4b70-8c23-72656e6702a3",
   "metadata": {},
   "outputs": [],
   "source": []
  }
 ],
 "metadata": {
  "kernelspec": {
   "display_name": "Python 3 (ipykernel)",
   "language": "python",
   "name": "python3"
  },
  "language_info": {
   "codemirror_mode": {
    "name": "ipython",
    "version": 3
   },
   "file_extension": ".py",
   "mimetype": "text/x-python",
   "name": "python",
   "nbconvert_exporter": "python",
   "pygments_lexer": "ipython3",
   "version": "3.11.3"
  }
 },
 "nbformat": 4,
 "nbformat_minor": 5
}
