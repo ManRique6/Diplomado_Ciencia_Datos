{
 "cells": [
  {
   "cell_type": "code",
   "execution_count": 20,
   "id": "63703807-0954-4c07-bf30-fde1dcda08fe",
   "metadata": {},
   "outputs": [],
   "source": [
    "\n",
    "#pip install pytesseract\n",
    "#pip install PyPDF2\n",
    "#pip install pdfplumber\n",
    "#pip install ocrmypdf"
   ]
  },
  {
   "cell_type": "code",
   "execution_count": null,
   "id": "69e5f9eb-2316-4341-8c5a-5bdd5fe84f4c",
   "metadata": {},
   "outputs": [],
   "source": [
    "#para trabajar con ocrmypdf se debe intalar adicionalmente: Ghostscript y Tesseract OCR\n"
   ]
  },
  {
   "cell_type": "code",
   "execution_count": 32,
   "id": "f6964a65-97ae-4917-a379-3ec80d1e315d",
   "metadata": {
    "tags": []
   },
   "outputs": [],
   "source": [
    "import os\n",
    "import pytesseract\n",
    "from PIL import Image\n",
    "import PyPDF2\n",
    "import ocrmypdf"
   ]
  },
  {
   "cell_type": "code",
   "execution_count": null,
   "id": "bf6e99f3-b132-4be9-9e5f-afdf2d78b073",
   "metadata": {
    "tags": []
   },
   "outputs": [],
   "source": []
  }
 ],
 "metadata": {
  "kernelspec": {
   "display_name": "Python 3 (ipykernel)",
   "language": "python",
   "name": "python3"
  },
  "language_info": {
   "codemirror_mode": {
    "name": "ipython",
    "version": 3
   },
   "file_extension": ".py",
   "mimetype": "text/x-python",
   "name": "python",
   "nbconvert_exporter": "python",
   "pygments_lexer": "ipython3",
   "version": "3.11.3"
  }
 },
 "nbformat": 4,
 "nbformat_minor": 5
}
