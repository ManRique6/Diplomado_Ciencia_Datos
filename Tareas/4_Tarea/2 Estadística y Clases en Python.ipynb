{
 "cells": [
  {
   "cell_type": "markdown",
   "id": "a679b304-0cc2-4ebf-a5bd-3a348d43135b",
   "metadata": {},
   "source": [
    "# <span style=\"color:#3182bd\"><center>Estadística y Clases en Python</center></span>"
   ]
  },
  {
   "cell_type": "code",
   "execution_count": 16,
   "id": "783fb5b5-eb72-4f59-a78e-f7c80133eb3e",
   "metadata": {
    "tags": []
   },
   "outputs": [],
   "source": [
    "import matplotlib.pyplot as plot\n",
    "import pandas as pd"
   ]
  },
  {
   "cell_type": "code",
   "execution_count": 17,
   "id": "4a1fb44e-4e63-44aa-ad6a-3b61cd5ef517",
   "metadata": {
    "tags": []
   },
   "outputs": [],
   "source": [
    "url= ('https://raw.githubusercontent.com/AprendizajeProfundo/Diplomado-Avanzado/c01c908a0388a58b45cac707cb716438197a2d88/M%C3%B3dulo%2011%20-%20Mapas%20Auto%20Organizados/Datos/iris.csv')"
   ]
  },
  {
   "cell_type": "code",
   "execution_count": 82,
   "id": "7c6091a4-0c3d-4d56-9783-ed992418333a",
   "metadata": {
    "tags": []
   },
   "outputs": [],
   "source": [
    "class estadistica:\n",
    "    def __init__(self,url):\n",
    "        self.url = url\n",
    "        self.df = pd.read_csv(url)\n",
    "    def resumen(self):\n",
    "        return(self.df.describe())\n",
    "    def nombre(self):\n",
    "        return(self.df.columns.tolist())\n",
    "    def fila(self,variable):\n",
    "        fila = self.df[variable]\n",
    "        display(self.df[variable].plot.hist(bins= 24))\n",
    "        return(self.df[[variable]].describe().transpose())\n",
    "             \n",
    "a = estadistica(url)\n"
   ]
  },
  {
   "cell_type": "markdown",
   "id": "95d06406-5573-4ef6-8764-08ebbd8271e1",
   "metadata": {},
   "source": [
    "#### <span style=\"color:#3182bd\">Resumen</span>"
   ]
  },
  {
   "cell_type": "code",
   "execution_count": 75,
   "id": "2fef04f7-56b7-46b9-9856-e2139b526c02",
   "metadata": {
    "tags": []
   },
   "outputs": [
    {
     "data": {
      "text/html": [
       "<div>\n",
       "<style scoped>\n",
       "    .dataframe tbody tr th:only-of-type {\n",
       "        vertical-align: middle;\n",
       "    }\n",
       "\n",
       "    .dataframe tbody tr th {\n",
       "        vertical-align: top;\n",
       "    }\n",
       "\n",
       "    .dataframe thead th {\n",
       "        text-align: right;\n",
       "    }\n",
       "</style>\n",
       "<table border=\"1\" class=\"dataframe\">\n",
       "  <thead>\n",
       "    <tr style=\"text-align: right;\">\n",
       "      <th></th>\n",
       "      <th>sepal.length</th>\n",
       "      <th>sepal.width</th>\n",
       "      <th>petal.length</th>\n",
       "      <th>petal.width</th>\n",
       "    </tr>\n",
       "  </thead>\n",
       "  <tbody>\n",
       "    <tr>\n",
       "      <th>count</th>\n",
       "      <td>150.000000</td>\n",
       "      <td>150.000000</td>\n",
       "      <td>150.000000</td>\n",
       "      <td>150.000000</td>\n",
       "    </tr>\n",
       "    <tr>\n",
       "      <th>mean</th>\n",
       "      <td>5.843333</td>\n",
       "      <td>3.057333</td>\n",
       "      <td>3.758000</td>\n",
       "      <td>1.199333</td>\n",
       "    </tr>\n",
       "    <tr>\n",
       "      <th>std</th>\n",
       "      <td>0.828066</td>\n",
       "      <td>0.435866</td>\n",
       "      <td>1.765298</td>\n",
       "      <td>0.762238</td>\n",
       "    </tr>\n",
       "    <tr>\n",
       "      <th>min</th>\n",
       "      <td>4.300000</td>\n",
       "      <td>2.000000</td>\n",
       "      <td>1.000000</td>\n",
       "      <td>0.100000</td>\n",
       "    </tr>\n",
       "    <tr>\n",
       "      <th>25%</th>\n",
       "      <td>5.100000</td>\n",
       "      <td>2.800000</td>\n",
       "      <td>1.600000</td>\n",
       "      <td>0.300000</td>\n",
       "    </tr>\n",
       "    <tr>\n",
       "      <th>50%</th>\n",
       "      <td>5.800000</td>\n",
       "      <td>3.000000</td>\n",
       "      <td>4.350000</td>\n",
       "      <td>1.300000</td>\n",
       "    </tr>\n",
       "    <tr>\n",
       "      <th>75%</th>\n",
       "      <td>6.400000</td>\n",
       "      <td>3.300000</td>\n",
       "      <td>5.100000</td>\n",
       "      <td>1.800000</td>\n",
       "    </tr>\n",
       "    <tr>\n",
       "      <th>max</th>\n",
       "      <td>7.900000</td>\n",
       "      <td>4.400000</td>\n",
       "      <td>6.900000</td>\n",
       "      <td>2.500000</td>\n",
       "    </tr>\n",
       "  </tbody>\n",
       "</table>\n",
       "</div>"
      ],
      "text/plain": [
       "       sepal.length  sepal.width  petal.length  petal.width\n",
       "count    150.000000   150.000000    150.000000   150.000000\n",
       "mean       5.843333     3.057333      3.758000     1.199333\n",
       "std        0.828066     0.435866      1.765298     0.762238\n",
       "min        4.300000     2.000000      1.000000     0.100000\n",
       "25%        5.100000     2.800000      1.600000     0.300000\n",
       "50%        5.800000     3.000000      4.350000     1.300000\n",
       "75%        6.400000     3.300000      5.100000     1.800000\n",
       "max        7.900000     4.400000      6.900000     2.500000"
      ]
     },
     "metadata": {},
     "output_type": "display_data"
    }
   ],
   "source": [
    "\n",
    "display(a.resumen())"
   ]
  },
  {
   "cell_type": "markdown",
   "id": "9a4e3813-ce05-4a7c-b6d6-5a4fe7ff45c3",
   "metadata": {},
   "source": [
    "#### <span style=\"color:#3182bd\">Nombre de la variables</span>"
   ]
  },
  {
   "cell_type": "code",
   "execution_count": 88,
   "id": "d1ccdd6d-c80f-4446-ad6f-182c8559b069",
   "metadata": {
    "tags": []
   },
   "outputs": [
    {
     "data": {
      "text/plain": [
       "['sepal.length', 'sepal.width', 'petal.length', 'petal.width', 'variety']"
      ]
     },
     "metadata": {},
     "output_type": "display_data"
    }
   ],
   "source": [
    "display(a.nombre())"
   ]
  },
  {
   "cell_type": "markdown",
   "id": "f46c9537-08a8-45f6-ab2c-f1a7fb495656",
   "metadata": {},
   "source": [
    "#### <span style=\"color:#3182bd\">Fila</span>"
   ]
  },
  {
   "cell_type": "code",
   "execution_count": 87,
   "id": "258d8025-8f10-4c6a-82f9-c4104c592d68",
   "metadata": {
    "tags": []
   },
   "outputs": [
    {
     "data": {
      "text/plain": [
       "<Axes: ylabel='Frequency'>"
      ]
     },
     "metadata": {},
     "output_type": "display_data"
    },
    {
     "data": {
      "text/html": [
       "<div>\n",
       "<style scoped>\n",
       "    .dataframe tbody tr th:only-of-type {\n",
       "        vertical-align: middle;\n",
       "    }\n",
       "\n",
       "    .dataframe tbody tr th {\n",
       "        vertical-align: top;\n",
       "    }\n",
       "\n",
       "    .dataframe thead th {\n",
       "        text-align: right;\n",
       "    }\n",
       "</style>\n",
       "<table border=\"1\" class=\"dataframe\">\n",
       "  <thead>\n",
       "    <tr style=\"text-align: right;\">\n",
       "      <th></th>\n",
       "      <th>count</th>\n",
       "      <th>mean</th>\n",
       "      <th>std</th>\n",
       "      <th>min</th>\n",
       "      <th>25%</th>\n",
       "      <th>50%</th>\n",
       "      <th>75%</th>\n",
       "      <th>max</th>\n",
       "    </tr>\n",
       "  </thead>\n",
       "  <tbody>\n",
       "    <tr>\n",
       "      <th>petal.length</th>\n",
       "      <td>150.0</td>\n",
       "      <td>3.758</td>\n",
       "      <td>1.765298</td>\n",
       "      <td>1.0</td>\n",
       "      <td>1.6</td>\n",
       "      <td>4.35</td>\n",
       "      <td>5.1</td>\n",
       "      <td>6.9</td>\n",
       "    </tr>\n",
       "  </tbody>\n",
       "</table>\n",
       "</div>"
      ],
      "text/plain": [
       "              count   mean       std  min  25%   50%  75%  max\n",
       "petal.length  150.0  3.758  1.765298  1.0  1.6  4.35  5.1  6.9"
      ]
     },
     "execution_count": 87,
     "metadata": {},
     "output_type": "execute_result"
    },
    {
     "data": {
      "image/png": "[encoded data removed]",
      "text/plain": [
       "<Figure size 640x480 with 1 Axes>"
      ]
     },
     "metadata": {},
     "output_type": "display_data"
    }
   ],
   "source": [
    "a.fila(\"petal.length\")"
   ]
  },
  {
   "cell_type": "code",
   "execution_count": null,
   "id": "59b866f5-f456-40d0-80fe-90e856ac5338",
   "metadata": {
    "tags": []
   },
   "outputs": [],
   "source": []
  }
 ],
 "metadata": {
  "kernelspec": {
   "display_name": "Python 3 (ipykernel)",
   "language": "python",
   "name": "python3"
  },
  "language_info": {
   "codemirror_mode": {
    "name": "ipython",
    "version": 3
   },
   "file_extension": ".py",
   "mimetype": "text/x-python",
   "name": "python",
   "nbconvert_exporter": "python",
   "pygments_lexer": "ipython3",
   "version": "3.11.3"
  }
 },
 "nbformat": 4,
 "nbformat_minor": 5
}
