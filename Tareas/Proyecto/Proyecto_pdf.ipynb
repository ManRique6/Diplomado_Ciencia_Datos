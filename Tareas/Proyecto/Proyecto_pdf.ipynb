{
 "cells": [
  {
   "cell_type": "code",
   "execution_count": 1,
   "id": "63703807-0954-4c07-bf30-fde1dcda08fe",
   "metadata": {},
   "outputs": [
    {
     "name": "stdout",
     "output_type": "stream",
     "text": [
      "Collecting PyMuPDFNote: you may need to restart the kernel to use updated packages.\n",
      "\n",
      "  Obtaining dependency information for PyMuPDF from https://files.pythonhosted.org/packages/89/7c/e9d2259ec46547bfe4956fde5c4e42c1421acd20c4bcf2da772b4888bb6f/PyMuPDF-1.22.5-cp311-cp311-win_amd64.whl.metadata\n",
      "  Downloading PyMuPDF-1.22.5-cp311-cp311-win_amd64.whl.metadata (8.5 kB)\n",
      "Downloading PyMuPDF-1.22.5-cp311-cp311-win_amd64.whl (11.8 MB)\n",
      "   ---------------------------------------- 11.8/11.8 MB 28.4 MB/s eta 0:00:00\n",
      "Installing collected packages: PyMuPDF\n",
      "Successfully installed PyMuPDF-1.22.5\n"
     ]
    }
   ],
   "source": [
    "pip install PyMuPDF"
   ]
  },
  {
   "cell_type": "code",
   "execution_count": 14,
   "id": "73188fa7-fc18-47e7-b0a6-d270ca03e812",
   "metadata": {},
   "outputs": [
    {
     "name": "stdout",
     "output_type": "stream",
     "text": [
      "El archivo es: PDF Imagen\n"
     ]
    }
   ],
   "source": [
    "def es_pdf_editable(pdf_path):\n",
    "    try:\n",
    "        # Abre el archivo PDF\n",
    "        doc = fitz.open(pdf_path)\n",
    "        \n",
    "        # Variable para almacenar el texto del PDF\n",
    "        text = \"\"\n",
    "        \n",
    "        # Itera a través de las páginas del PDF y obtiene el texto\n",
    "        for page in doc:\n",
    "            text += page.getText()\n",
    "        \n",
    "        # Cierra el archivo PDF\n",
    "        doc.close()\n",
    "        \n",
    "        # Verifica si el PDF contiene texto seleccionable\n",
    "        return len(text.strip()) > 0\n",
    "    except:\n",
    "        # En caso de errores, asumimos que no es un PDF editable\n",
    "        return False\n",
    "\n",
    "def clasificar_pdf(pdf_path):\n",
    "    if es_pdf_editable(pdf_path):\n",
    "        return \"PDF Editable\"\n",
    "    else:\n",
    "        return \"PDF Imagen\"\n",
    "\n",
    "# Ruta al archivo PDF a clasificar\n",
    "archivo_pdf = \"Music\\Invoice_94202159.PDF\"\n",
    "\n",
    "# Clasifica el archivo PDF\n",
    "resultado = clasificar_pdf(archivo_pdf)\n",
    "\n",
    "# Imprime el resultado de la clasificación\n",
    "print(\"El archivo es:\", resultado)\n"
   ]
  },
  {
   "cell_type": "code",
   "execution_count": 30,
   "id": "82e7d842-1353-4ab1-b473-0a5c871c4250",
   "metadata": {},
   "outputs": [
    {
     "data": {
      "text/plain": [
       "1"
      ]
     },
     "execution_count": 30,
     "metadata": {},
     "output_type": "execute_result"
    }
   ],
   "source": [
    "import os\n",
    "path = \"pc\\Music\\hv Manrique andres.pdf\"\n",
    "os.system(path)"
   ]
  }
 ],
 "metadata": {
  "kernelspec": {
   "display_name": "Python 3 (ipykernel)",
   "language": "python",
   "name": "python3"
  },
  "language_info": {
   "codemirror_mode": {
    "name": "ipython",
    "version": 3
   },
   "file_extension": ".py",
   "mimetype": "text/x-python",
   "name": "python",
   "nbconvert_exporter": "python",
   "pygments_lexer": "ipython3",
   "version": "3.11.4"
  }
 },
 "nbformat": 4,
 "nbformat_minor": 5
}
