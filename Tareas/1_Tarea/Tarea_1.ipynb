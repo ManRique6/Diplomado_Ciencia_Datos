{
 "cells": [
  {
   "cell_type": "markdown",
   "id": "b7e79823-3bf1-46f4-90cf-35d073b958f4",
   "metadata": {},
   "source": [
    "[![Open In Colab](https://colab.research.google.com/assets/colab-badge.svg)](https://colab.research.google.com/github/ManRique6/Diplomado_Ciencia_Datos/blob/main/Tareas/Tarea%201/Tarea_1.ipynb#scrollTo=db6280ab)"
   ]
  },
  {
   "cell_type": "markdown",
   "id": "1f45cb5a-dd1d-4e19-94b3-008178e9bd1c",
   "metadata": {
    "tags": []
   },
   "source": [
    "# <span style=\"color:#3182bd\"><center>Varianza Estadística Poblacional</center></span>"
   ]
  },
  {
   "cell_type": "markdown",
   "id": "e0aded72-64fc-4afd-8f1f-4928c7444fb1",
   "metadata": {
    "tags": []
   },
   "source": [
    "<Right>\n",
    "<figure>\n",
    "<img src=\"OIP.jpg\"; width=\"300\" height=\"200\" align=\"Right\" /> \n",
    "<figure>\n",
    "<img src=\"Foto.jpeg\"; width=\"200\" height=\"200\"/> "
   ]
  },
  {
   "cell_type": "markdown",
   "id": "db6280ab",
   "metadata": {},
   "source": [
    "  ###                                                                                 presentacion\n",
    "\n",
    "\n",
    "Tecnólogo en Sistemas Integrados de Gestión, actualmente me encuentro en sexto semestre de Seguridad y salud en el Trabajo, con amplio conocimiento y experiencia en analítica de datos, con habilidades de depuración y manipulación de datos con herramientas como, Excel lenguaje Vba y programas de visualización como Power BI, Tableau Y QlikView. \n"
   ]
  },
  {
   "cell_type": "markdown",
   "id": "e41b4b2a",
   "metadata": {},
   "source": [
    "#### Varianza Estadística Poblacional\n",
    "\n",
    "Segun [Economipedia](https://economipedia.com/definiciones/varianza.html) la definición de Varianza es una medida de dispersión que representa la variabilidad de una serie de datos respecto a su **media.** Formalmente se calcula como la suma de los residuos al cuadrado divididos entre el total de observaciones.\n",
    "\n",
    "Para una población de tamaño $N$ la Varianza se define como sigue: \n",
    "\n",
    "$$\\sigma^{2}=\\frac{\\sum_{i=1}^{N}(x_i-\\mu)^2}{N}$$\n",
    "\n",
    "donde $$\\mu=\\frac{\\sum_{i=1}^{N}x_i}{N}$$ \n",
    "\n",
    "\n",
    "#### Ejemplo\n",
    "\n",
    "Calcular la varianza para la siguiente sucesión de una población de tamaño 4: 4,6,8,2\n",
    "\n",
    "la media poblacional calculada es:\n",
    "\n",
    "$$\\mu=\\frac{\\sum_{i=1}^{4}x_i}{4}=\\frac{4+6+8+2}{4}=\\frac{20}{4}=5$$ \n",
    "\n",
    "la Varianza poblacional es:\n",
    "\n",
    "$$\\sigma^{2}=\\frac{\\sum_{i=1}^{4}(x_i-5)^2}{4}=\\frac{(4-5)^2+(6-5)^2+(8-5)^2+(2-5)^2}{4}=\\frac{1+1+9+9}{4}=\\frac{20}{4}=5$$\n",
    "\n",
    "#### Conclusión\n",
    "La varianza para esta población es igual a 5\n",
    "\n",
    "\n",
    "\n",
    "#### Ejemplo con Python"
   ]
  },
  {
   "cell_type": "code",
   "execution_count": 22,
   "id": "c1a0fb9c",
   "metadata": {
    "tags": []
   },
   "outputs": [
    {
     "name": "stdout",
     "output_type": "stream",
     "text": [
      "Media: 5\n",
      "Varianza Poblacional: 5.0\n"
     ]
    }
   ],
   "source": [
    "import statistics\n",
    "\n",
    "valores = [ 4, 6, 8 , 2 ]\n",
    "N = len(valores)\n",
    "media = statistics.mean(valores) \n",
    "varianza = statistics.variance(valores)*(N-1)/N\n",
    "print(\"Media:\",media)\n",
    "print(\"Varianza Poblacional:\",varianza)"
   ]
  },
  {
   "cell_type": "markdown",
   "id": "057654d7",
   "metadata": {},
   "source": [
    "### referencias\n",
    "\n",
    "[Economipedia](https://economipedia.com/definiciones/varianza.html)\n",
    "\n",
    "[Varianza de la Población](https://statologos.com/varianza-de-la-poblacion/#:~:text=%281%20-9%29%202,id%C3%A9nticos%20es%200.)\n",
    "\n",
    "\n",
    "\n"
   ]
  }
 ],
 "metadata": {
  "kernelspec": {
   "display_name": "Python 3 (ipykernel)",
   "language": "python",
   "name": "python3"
  },
  "language_info": {
   "codemirror_mode": {
    "name": "ipython",
    "version": 3
   },
   "file_extension": ".py",
   "mimetype": "text/x-python",
   "name": "python",
   "nbconvert_exporter": "python",
   "pygments_lexer": "ipython3",
   "version": "3.11.3"
  }
 },
 "nbformat": 4,
 "nbformat_minor": 5
}
