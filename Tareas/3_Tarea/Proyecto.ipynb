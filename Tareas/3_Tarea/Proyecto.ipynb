{
 "cells": [
  {
   "cell_type": "markdown",
   "id": "cac1f5d1-3597-44bf-b866-76a9642da38a",
   "metadata": {},
   "source": [
    "\n",
    "# <span style=\"color:#3182bd\"><center>**OCR para leer formatos en pdf y convertirlos a texto**</center></span>"
   ]
  },
  {
   "cell_type": "markdown",
   "id": "f5e6df5c-792e-44b3-a421-a764ea495936",
   "metadata": {},
   "source": [
    "### **Reporte No. 1.**\n",
    "**propuesta del proyecto**: Crear un codigo que facilite la extracción de información de un pdf editable o en imagen.\n",
    "\n"
   ]
  },
  {
   "cell_type": "markdown",
   "id": "aa823533-b663-400a-955c-1f45eee47577",
   "metadata": {},
   "source": [
    "**Asesor principal:** Daniel Mauricio Montenegro Reyes\n"
   ]
  },
  {
   "cell_type": "markdown",
   "id": "5a83a8a2-195c-4d8c-ae8a-6f73a1ac66a1",
   "metadata": {},
   "source": [
    "**Autor:** Andres Felipe Manrique Vargas\n"
   ]
  },
  {
   "cell_type": "markdown",
   "id": "492f5976-7e6a-4493-8b7c-fdc4c9fcc381",
   "metadata": {},
   "source": [
    "#### <span style=\"color:blak\"><center>**Introducción**</center></span>\n",
    "En la empresa se realizan trabajos manuales y repetitivos en el proceso de afiliaciones, que consumen mucho tiempo y aumenta el riesgo de errores, es por esto que surge la necesidad de implementar un proceso que ayude a recopilar la información de los formularios de afiliación que llegan diligenciados por parte de los clientes.\n"
   ]
  },
  {
   "cell_type": "markdown",
   "id": "5a214f98-7926-4878-8fb1-eff17759f9f9",
   "metadata": {},
   "source": [
    "#### <span style=\"color:blak\"><center>**Descripción del problema**</center></span>\n",
    "A la hora de extraer información de los pdf se debe tener en cuenta que pueden llegar dos tipos de formato, unos que se pueden editar y facilitan la extracción de la información, y otros que hay que recopilarla con análisis de imagen.\n",
    "como primera medida se debe crear un código que nos permita separar los dos tipos de archivo, donde queden los editables en formato pdf y en formato imagen.   \n",
    "para la extracción de la información de los Pdf editables, se utilizará el paquete pdfminer.six\n",
    "para la extracción de la información de las imágenes se utilizará Aspose.cr\n",
    "  \n"
   ]
  },
  {
   "cell_type": "markdown",
   "id": "491a7ec7-8eea-4a2f-a621-efe0954a1748",
   "metadata": {},
   "source": [
    "**Fuentes de datos Procesamiento ETL**\n",
    "\n",
    "Se realizará extrayendo los datos con los paquetes de pdfminer.six y Aspose.Ocr. al extraer la información necesaria se pasarán a un archivo plano para poder usar y analizar la información."
   ]
  },
  {
   "cell_type": "markdown",
   "id": "bfa775a8-14f4-42ed-8c90-f397e77312db",
   "metadata": {},
   "source": [
    "**Conocimientos requeridos para el desarrollo del proyecto:**\n",
    "- Python\n",
    "- paquete python pdfminer.six\n",
    "- Aspose.Ocr\n",
    "- Modelos de lenguaje natural\n"
   ]
  },
  {
   "cell_type": "markdown",
   "id": "042dc80b-111f-4c52-8982-54b4c428e428",
   "metadata": {},
   "source": [
    "**Resultados esperados**\n",
    "\n",
    "El resultado que se espera el la extracción de información de un pdf, la cual quede almacenada en un achivo donde se pueda manipular la información."
   ]
  },
  {
   "cell_type": "markdown",
   "id": "3d5fd41b-7886-48f3-aaa5-589844fa16d7",
   "metadata": {},
   "source": [
    "**Tiempo de desarrollo esperado:** 6 semanas."
   ]
  }
 ],
 "metadata": {
  "kernelspec": {
   "display_name": "Python 3 (ipykernel)",
   "language": "python",
   "name": "python3"
  },
  "language_info": {
   "codemirror_mode": {
    "name": "ipython",
    "version": 3
   },
   "file_extension": ".py",
   "mimetype": "text/x-python",
   "name": "python",
   "nbconvert_exporter": "python",
   "pygments_lexer": "ipython3",
   "version": "3.11.3"
  }
 },
 "nbformat": 4,
 "nbformat_minor": 5
}
