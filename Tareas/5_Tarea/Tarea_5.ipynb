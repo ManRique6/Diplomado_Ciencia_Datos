{
 "cells": [
  {
   "cell_type": "markdown",
   "id": "f234127e-2c4d-4f9c-96cc-42dd18078d3e",
   "metadata": {},
   "source": [
    "# **Tarea 5: exploración de scikit-learn (sklearn) y statsmodels**"
   ]
  },
  {
   "cell_type": "markdown",
   "id": "da4fb4ee-c1c4-4ebe-b04e-badf06e7c8a5",
   "metadata": {
    "tags": []
   },
   "source": [
    "**scikit-learn (sklearn):**\n",
    "\n",
    "scikit-learn es una biblioteca de aprendizaje automático de código abierto para Python que se utiliza ampliamente en tareas de aprendizaje automático, minería de datos y análisis de datos. Ofrece herramientas eficientes y fáciles de usar para la clasificación, regresión, clustering, reducción de dimensionalidad y selección de modelos.\n",
    "\n",
    "**Principales Funciones**\n",
    "\n",
    "---\n",
    "\n",
    "**Aprendizaje Supervisado:** \n",
    "\n",
    "sklearn proporciona algoritmos para la clasificación y regresión como:\n",
    "\n",
    "Support Vector Machines (SVM). \n",
    "\n",
    "Random Forest.\n",
    "\n",
    "Regresión Logística.\n",
    "\n",
    "**Aprendizaje No Supervisado:** \n",
    "\n",
    "Incluye algoritmos de clustering como K-Means, y técnicas de reducción de dimensionalidad como PCA (Análisis de Componentes Principales).\n",
    "\n",
    "**Herramientas de Preprocesamiento:**\n",
    "\n",
    "Ofrece herramientas para el preprocesamiento de datos, como la normalización, estandarización, manejo de valores nulos, etc.\n",
    "\n",
    "**Validación de Modelos:**\n",
    "\n",
    "Incluye funciones para la evaluación y validación de modelos, como la validación cruzada.\n",
    "\n",
    "**Selección de Modelos:** \n",
    "\n",
    "Ayuda a seleccionar los mejores modelos y hiperparámetros a través de búsqueda grid y búsqueda aleatoria.\n",
    "\n",
    "**Interoperabilidad:** \n",
    "\n",
    "Compatible con otras bibliotecas populares como NumPy, pandas, y Matplotlib.\n",
    "\n",
    "# **statsmodels:**\n",
    "\n",
    "statsmodels es una biblioteca de Python que se enfoca en estadísticas y modelos estadísticos. Proporciona herramientas para realizar análisis de datos, estimar modelos estadísticos y realizar pruebas de hipótesis.\n",
    "\n",
    "**Funcionalidades Principales:**\n",
    "\n",
    "**Modelos Estadísticos:**\n",
    "\n",
    "Permite ajustar modelos estadísticos, como regresiones lineales, regresiones logísticas, modelos ARIMA, y más.\n",
    "\n",
    "**Pruebas de Hipótesis:**\n",
    "\n",
    "Proporciona funciones para realizar pruebas de hipótesis estadísticas y análisis de varianza.\n",
    "\n",
    "**Visualización de Datos:**\n",
    "\n",
    "Incluye capacidades de visualización para ayudar a interpretar los resultados de los modelos estadísticos.\n",
    "\n",
    "**Análisis de Series Temporales:**\n",
    "\n",
    "Ofrece herramientas para el análisis de series temporales y pronóstico.\n",
    "\n",
    "**Compatibilidad con Fórmulas:**\n",
    "\n",
    "Permite especificar modelos utilizando fórmulas similares a las utilizadas en R."
   ]
  },
  {
   "cell_type": "markdown",
   "id": "4028a397-af09-4125-b883-b9a7c307d66b",
   "metadata": {},
   "source": [
    "### 3. Exploración de scikit-learn (sklearn): "
   ]
  },
  {
   "cell_type": "code",
   "execution_count": 13,
   "id": "7827cecb-3009-490c-921c-fb519f0836ac",
   "metadata": {
    "tags": []
   },
   "outputs": [],
   "source": [
    "import pandas as pd"
   ]
  },
  {
   "cell_type": "code",
   "execution_count": 14,
   "id": "6c4704cd-cbdb-4c26-9741-d79f70aaca0e",
   "metadata": {
    "tags": []
   },
   "outputs": [
    {
     "data": {
      "text/html": [
       "<div>\n",
       "<style scoped>\n",
       "    .dataframe tbody tr th:only-of-type {\n",
       "        vertical-align: middle;\n",
       "    }\n",
       "\n",
       "    .dataframe tbody tr th {\n",
       "        vertical-align: top;\n",
       "    }\n",
       "\n",
       "    .dataframe thead th {\n",
       "        text-align: right;\n",
       "    }\n",
       "</style>\n",
       "<table border=\"1\" class=\"dataframe\">\n",
       "  <thead>\n",
       "    <tr style=\"text-align: right;\">\n",
       "      <th></th>\n",
       "      <th>Unnamed: 0</th>\n",
       "      <th>mpg</th>\n",
       "      <th>cyl</th>\n",
       "      <th>disp</th>\n",
       "      <th>hp</th>\n",
       "      <th>drat</th>\n",
       "      <th>wt</th>\n",
       "      <th>qsec</th>\n",
       "      <th>vs</th>\n",
       "      <th>am</th>\n",
       "      <th>gear</th>\n",
       "      <th>carb</th>\n",
       "    </tr>\n",
       "  </thead>\n",
       "  <tbody>\n",
       "    <tr>\n",
       "      <th>0</th>\n",
       "      <td>Mazda RX4</td>\n",
       "      <td>21.0</td>\n",
       "      <td>6</td>\n",
       "      <td>160.0</td>\n",
       "      <td>110</td>\n",
       "      <td>3.90</td>\n",
       "      <td>2.620</td>\n",
       "      <td>16.46</td>\n",
       "      <td>0</td>\n",
       "      <td>1</td>\n",
       "      <td>4</td>\n",
       "      <td>4</td>\n",
       "    </tr>\n",
       "    <tr>\n",
       "      <th>1</th>\n",
       "      <td>Mazda RX4 Wag</td>\n",
       "      <td>21.0</td>\n",
       "      <td>6</td>\n",
       "      <td>160.0</td>\n",
       "      <td>110</td>\n",
       "      <td>3.90</td>\n",
       "      <td>2.875</td>\n",
       "      <td>17.02</td>\n",
       "      <td>0</td>\n",
       "      <td>1</td>\n",
       "      <td>4</td>\n",
       "      <td>4</td>\n",
       "    </tr>\n",
       "    <tr>\n",
       "      <th>2</th>\n",
       "      <td>Datsun 710</td>\n",
       "      <td>22.8</td>\n",
       "      <td>4</td>\n",
       "      <td>108.0</td>\n",
       "      <td>93</td>\n",
       "      <td>3.85</td>\n",
       "      <td>2.320</td>\n",
       "      <td>18.61</td>\n",
       "      <td>1</td>\n",
       "      <td>1</td>\n",
       "      <td>4</td>\n",
       "      <td>1</td>\n",
       "    </tr>\n",
       "    <tr>\n",
       "      <th>3</th>\n",
       "      <td>Hornet 4 Drive</td>\n",
       "      <td>21.4</td>\n",
       "      <td>6</td>\n",
       "      <td>258.0</td>\n",
       "      <td>110</td>\n",
       "      <td>3.08</td>\n",
       "      <td>3.215</td>\n",
       "      <td>19.44</td>\n",
       "      <td>1</td>\n",
       "      <td>0</td>\n",
       "      <td>3</td>\n",
       "      <td>1</td>\n",
       "    </tr>\n",
       "    <tr>\n",
       "      <th>4</th>\n",
       "      <td>Hornet Sportabout</td>\n",
       "      <td>18.7</td>\n",
       "      <td>8</td>\n",
       "      <td>360.0</td>\n",
       "      <td>175</td>\n",
       "      <td>3.15</td>\n",
       "      <td>3.440</td>\n",
       "      <td>17.02</td>\n",
       "      <td>0</td>\n",
       "      <td>0</td>\n",
       "      <td>3</td>\n",
       "      <td>2</td>\n",
       "    </tr>\n",
       "  </tbody>\n",
       "</table>\n",
       "</div>"
      ],
      "text/plain": [
       "          Unnamed: 0   mpg  cyl   disp   hp  drat     wt   qsec  vs  am  gear  \\\n",
       "0          Mazda RX4  21.0    6  160.0  110  3.90  2.620  16.46   0   1     4   \n",
       "1      Mazda RX4 Wag  21.0    6  160.0  110  3.90  2.875  17.02   0   1     4   \n",
       "2         Datsun 710  22.8    4  108.0   93  3.85  2.320  18.61   1   1     4   \n",
       "3     Hornet 4 Drive  21.4    6  258.0  110  3.08  3.215  19.44   1   0     3   \n",
       "4  Hornet Sportabout  18.7    8  360.0  175  3.15  3.440  17.02   0   0     3   \n",
       "\n",
       "   carb  \n",
       "0     4  \n",
       "1     4  \n",
       "2     1  \n",
       "3     1  \n",
       "4     2  "
      ]
     },
     "execution_count": 14,
     "metadata": {},
     "output_type": "execute_result"
    }
   ],
   "source": [
    "df = pd.read_csv(\"cars.csv\")\n",
    "df.head()"
   ]
  },
  {
   "cell_type": "markdown",
   "id": "3500c12a-6958-414e-82be-8111fcb360aa",
   "metadata": {},
   "source": [
    "### **Preprocesamiento**\n",
    "\n",
    "#### Renombrar variables "
   ]
  },
  {
   "cell_type": "code",
   "execution_count": 15,
   "id": "6e423eec-ea17-4658-b3a7-71ac5d25eb28",
   "metadata": {
    "tags": []
   },
   "outputs": [
    {
     "data": {
      "text/html": [
       "<div>\n",
       "<style scoped>\n",
       "    .dataframe tbody tr th:only-of-type {\n",
       "        vertical-align: middle;\n",
       "    }\n",
       "\n",
       "    .dataframe tbody tr th {\n",
       "        vertical-align: top;\n",
       "    }\n",
       "\n",
       "    .dataframe thead th {\n",
       "        text-align: right;\n",
       "    }\n",
       "</style>\n",
       "<table border=\"1\" class=\"dataframe\">\n",
       "  <thead>\n",
       "    <tr style=\"text-align: right;\">\n",
       "      <th></th>\n",
       "      <th>marca</th>\n",
       "      <th>millas_galon</th>\n",
       "      <th>cyl</th>\n",
       "      <th>disp</th>\n",
       "      <th>hp</th>\n",
       "      <th>drat</th>\n",
       "      <th>wt</th>\n",
       "      <th>qsec</th>\n",
       "      <th>vs</th>\n",
       "      <th>am</th>\n",
       "      <th>gear</th>\n",
       "      <th>carb</th>\n",
       "    </tr>\n",
       "  </thead>\n",
       "  <tbody>\n",
       "    <tr>\n",
       "      <th>0</th>\n",
       "      <td>Mazda RX4</td>\n",
       "      <td>21.0</td>\n",
       "      <td>6</td>\n",
       "      <td>160.0</td>\n",
       "      <td>110</td>\n",
       "      <td>3.90</td>\n",
       "      <td>2.620</td>\n",
       "      <td>16.46</td>\n",
       "      <td>0</td>\n",
       "      <td>1</td>\n",
       "      <td>4</td>\n",
       "      <td>4</td>\n",
       "    </tr>\n",
       "    <tr>\n",
       "      <th>1</th>\n",
       "      <td>Mazda RX4 Wag</td>\n",
       "      <td>21.0</td>\n",
       "      <td>6</td>\n",
       "      <td>160.0</td>\n",
       "      <td>110</td>\n",
       "      <td>3.90</td>\n",
       "      <td>2.875</td>\n",
       "      <td>17.02</td>\n",
       "      <td>0</td>\n",
       "      <td>1</td>\n",
       "      <td>4</td>\n",
       "      <td>4</td>\n",
       "    </tr>\n",
       "    <tr>\n",
       "      <th>2</th>\n",
       "      <td>Datsun 710</td>\n",
       "      <td>22.8</td>\n",
       "      <td>4</td>\n",
       "      <td>108.0</td>\n",
       "      <td>93</td>\n",
       "      <td>3.85</td>\n",
       "      <td>2.320</td>\n",
       "      <td>18.61</td>\n",
       "      <td>1</td>\n",
       "      <td>1</td>\n",
       "      <td>4</td>\n",
       "      <td>1</td>\n",
       "    </tr>\n",
       "    <tr>\n",
       "      <th>3</th>\n",
       "      <td>Hornet 4 Drive</td>\n",
       "      <td>21.4</td>\n",
       "      <td>6</td>\n",
       "      <td>258.0</td>\n",
       "      <td>110</td>\n",
       "      <td>3.08</td>\n",
       "      <td>3.215</td>\n",
       "      <td>19.44</td>\n",
       "      <td>1</td>\n",
       "      <td>0</td>\n",
       "      <td>3</td>\n",
       "      <td>1</td>\n",
       "    </tr>\n",
       "    <tr>\n",
       "      <th>4</th>\n",
       "      <td>Hornet Sportabout</td>\n",
       "      <td>18.7</td>\n",
       "      <td>8</td>\n",
       "      <td>360.0</td>\n",
       "      <td>175</td>\n",
       "      <td>3.15</td>\n",
       "      <td>3.440</td>\n",
       "      <td>17.02</td>\n",
       "      <td>0</td>\n",
       "      <td>0</td>\n",
       "      <td>3</td>\n",
       "      <td>2</td>\n",
       "    </tr>\n",
       "  </tbody>\n",
       "</table>\n",
       "</div>"
      ],
      "text/plain": [
       "               marca  millas_galon  cyl   disp   hp  drat     wt   qsec  vs  \\\n",
       "0          Mazda RX4          21.0    6  160.0  110  3.90  2.620  16.46   0   \n",
       "1      Mazda RX4 Wag          21.0    6  160.0  110  3.90  2.875  17.02   0   \n",
       "2         Datsun 710          22.8    4  108.0   93  3.85  2.320  18.61   1   \n",
       "3     Hornet 4 Drive          21.4    6  258.0  110  3.08  3.215  19.44   1   \n",
       "4  Hornet Sportabout          18.7    8  360.0  175  3.15  3.440  17.02   0   \n",
       "\n",
       "   am  gear  carb  \n",
       "0   1     4     4  \n",
       "1   1     4     4  \n",
       "2   1     4     1  \n",
       "3   0     3     1  \n",
       "4   0     3     2  "
      ]
     },
     "execution_count": 15,
     "metadata": {},
     "output_type": "execute_result"
    }
   ],
   "source": [
    "df.rename(columns={'Unnamed: 0': 'marca','mpg': 'millas_galon'}, inplace=True)\n",
    "df.head()"
   ]
  },
  {
   "cell_type": "markdown",
   "id": "665fa787-c77d-4910-a9c3-0e47af59ab14",
   "metadata": {},
   "source": [
    "#### Recategorizar variables"
   ]
  },
  {
   "cell_type": "code",
   "execution_count": 16,
   "id": "e2448931-cde8-4b12-b072-783152453958",
   "metadata": {
    "tags": []
   },
   "outputs": [
    {
     "data": {
      "text/html": [
       "<div>\n",
       "<style scoped>\n",
       "    .dataframe tbody tr th:only-of-type {\n",
       "        vertical-align: middle;\n",
       "    }\n",
       "\n",
       "    .dataframe tbody tr th {\n",
       "        vertical-align: top;\n",
       "    }\n",
       "\n",
       "    .dataframe thead th {\n",
       "        text-align: right;\n",
       "    }\n",
       "</style>\n",
       "<table border=\"1\" class=\"dataframe\">\n",
       "  <thead>\n",
       "    <tr style=\"text-align: right;\">\n",
       "      <th></th>\n",
       "      <th>marca</th>\n",
       "      <th>millas_galon</th>\n",
       "      <th>cyl</th>\n",
       "      <th>disp</th>\n",
       "      <th>hp</th>\n",
       "      <th>drat</th>\n",
       "      <th>wt</th>\n",
       "      <th>qsec</th>\n",
       "      <th>vs</th>\n",
       "      <th>am</th>\n",
       "      <th>gear</th>\n",
       "      <th>carb</th>\n",
       "    </tr>\n",
       "  </thead>\n",
       "  <tbody>\n",
       "    <tr>\n",
       "      <th>0</th>\n",
       "      <td>Mazda RX4</td>\n",
       "      <td>21.0</td>\n",
       "      <td>Medio</td>\n",
       "      <td>160.0</td>\n",
       "      <td>110</td>\n",
       "      <td>3.90</td>\n",
       "      <td>2.620</td>\n",
       "      <td>16.46</td>\n",
       "      <td>0</td>\n",
       "      <td>1</td>\n",
       "      <td>4</td>\n",
       "      <td>4</td>\n",
       "    </tr>\n",
       "    <tr>\n",
       "      <th>1</th>\n",
       "      <td>Mazda RX4 Wag</td>\n",
       "      <td>21.0</td>\n",
       "      <td>Medio</td>\n",
       "      <td>160.0</td>\n",
       "      <td>110</td>\n",
       "      <td>3.90</td>\n",
       "      <td>2.875</td>\n",
       "      <td>17.02</td>\n",
       "      <td>0</td>\n",
       "      <td>1</td>\n",
       "      <td>4</td>\n",
       "      <td>4</td>\n",
       "    </tr>\n",
       "    <tr>\n",
       "      <th>2</th>\n",
       "      <td>Datsun 710</td>\n",
       "      <td>22.8</td>\n",
       "      <td>Bajo</td>\n",
       "      <td>108.0</td>\n",
       "      <td>93</td>\n",
       "      <td>3.85</td>\n",
       "      <td>2.320</td>\n",
       "      <td>18.61</td>\n",
       "      <td>1</td>\n",
       "      <td>1</td>\n",
       "      <td>4</td>\n",
       "      <td>1</td>\n",
       "    </tr>\n",
       "    <tr>\n",
       "      <th>3</th>\n",
       "      <td>Hornet 4 Drive</td>\n",
       "      <td>21.4</td>\n",
       "      <td>Medio</td>\n",
       "      <td>258.0</td>\n",
       "      <td>110</td>\n",
       "      <td>3.08</td>\n",
       "      <td>3.215</td>\n",
       "      <td>19.44</td>\n",
       "      <td>1</td>\n",
       "      <td>0</td>\n",
       "      <td>3</td>\n",
       "      <td>1</td>\n",
       "    </tr>\n",
       "    <tr>\n",
       "      <th>4</th>\n",
       "      <td>Hornet Sportabout</td>\n",
       "      <td>18.7</td>\n",
       "      <td>Alto</td>\n",
       "      <td>360.0</td>\n",
       "      <td>175</td>\n",
       "      <td>3.15</td>\n",
       "      <td>3.440</td>\n",
       "      <td>17.02</td>\n",
       "      <td>0</td>\n",
       "      <td>0</td>\n",
       "      <td>3</td>\n",
       "      <td>2</td>\n",
       "    </tr>\n",
       "  </tbody>\n",
       "</table>\n",
       "</div>"
      ],
      "text/plain": [
       "               marca  millas_galon    cyl   disp   hp  drat     wt   qsec  vs  \\\n",
       "0          Mazda RX4          21.0  Medio  160.0  110  3.90  2.620  16.46   0   \n",
       "1      Mazda RX4 Wag          21.0  Medio  160.0  110  3.90  2.875  17.02   0   \n",
       "2         Datsun 710          22.8   Bajo  108.0   93  3.85  2.320  18.61   1   \n",
       "3     Hornet 4 Drive          21.4  Medio  258.0  110  3.08  3.215  19.44   1   \n",
       "4  Hornet Sportabout          18.7   Alto  360.0  175  3.15  3.440  17.02   0   \n",
       "\n",
       "   am  gear  carb  \n",
       "0   1     4     4  \n",
       "1   1     4     4  \n",
       "2   1     4     1  \n",
       "3   0     3     1  \n",
       "4   0     3     2  "
      ]
     },
     "execution_count": 16,
     "metadata": {},
     "output_type": "execute_result"
    }
   ],
   "source": [
    "set(df[\"cyl\"])\n",
    "\n",
    "mapeo_categorias = {4: 'Bajo', 6: 'Medio', 8: 'Alto'}\n",
    "\n",
    "# Aplicar el mapeo utilizando map()\n",
    "df['cyl'] = df['cyl'].map(mapeo_categorias)\n",
    "df.head()"
   ]
  },
  {
   "cell_type": "markdown",
   "id": "8bd85182-06d6-4050-8dfa-e0417a628144",
   "metadata": {},
   "source": [
    "#### Algoritmo"
   ]
  },
  {
   "cell_type": "code",
   "execution_count": 17,
   "id": "30c35db4-c7dc-4300-b820-d0d1e4654711",
   "metadata": {
    "tags": []
   },
   "outputs": [
    {
     "data": {
      "text/html": [
       "<div>\n",
       "<style scoped>\n",
       "    .dataframe tbody tr th:only-of-type {\n",
       "        vertical-align: middle;\n",
       "    }\n",
       "\n",
       "    .dataframe tbody tr th {\n",
       "        vertical-align: top;\n",
       "    }\n",
       "\n",
       "    .dataframe thead th {\n",
       "        text-align: right;\n",
       "    }\n",
       "</style>\n",
       "<table border=\"1\" class=\"dataframe\">\n",
       "  <thead>\n",
       "    <tr style=\"text-align: right;\">\n",
       "      <th></th>\n",
       "      <th>Variable</th>\n",
       "      <th>Coeficiente</th>\n",
       "    </tr>\n",
       "  </thead>\n",
       "  <tbody>\n",
       "    <tr>\n",
       "      <th>0</th>\n",
       "      <td>disp</td>\n",
       "      <td>0.003213</td>\n",
       "    </tr>\n",
       "    <tr>\n",
       "      <th>1</th>\n",
       "      <td>hp</td>\n",
       "      <td>-0.031633</td>\n",
       "    </tr>\n",
       "    <tr>\n",
       "      <th>2</th>\n",
       "      <td>wt</td>\n",
       "      <td>-4.945615</td>\n",
       "    </tr>\n",
       "  </tbody>\n",
       "</table>\n",
       "</div>"
      ],
      "text/plain": [
       "  Variable  Coeficiente\n",
       "0     disp     0.003213\n",
       "1       hp    -0.031633\n",
       "2       wt    -4.945615"
      ]
     },
     "execution_count": 17,
     "metadata": {},
     "output_type": "execute_result"
    }
   ],
   "source": [
    "import pandas as pd\n",
    "from sklearn.model_selection import train_test_split\n",
    "from sklearn.linear_model import LinearRegression\n",
    "from sklearn.metrics import r2_score, mean_squared_error\n",
    "import numpy as np\n",
    "\n",
    "# Cargar los datos en un DataFrame de pandas (supongamos que se llama 'df')\n",
    "# Asegúrate de que df contiene todas las variables mencionadas anteriormente\n",
    "\n",
    "# Seleccionar las características y la variable objetivo\n",
    "X = df[['disp', 'hp', 'wt']]\n",
    "y = df['millas_galon']\n",
    "\n",
    "# Dividir los datos en conjuntos de entrenamiento y prueba (80% entrenamiento, 20% prueba)\n",
    "X_train, X_test, y_train, y_test = train_test_split(X, y, test_size=0.2, random_state=0)\n",
    "\n",
    "# Crear un modelo de regresión lineal\n",
    "model = LinearRegression()\n",
    "\n",
    "# Entrenar el modelo con los datos de entrenamiento\n",
    "model.fit(X_train, y_train)\n",
    "coefficients = pd.DataFrame({'Variable': X.columns, 'Coeficiente': model.coef_})\n",
    "coefficients"
   ]
  },
  {
   "cell_type": "code",
   "execution_count": 18,
   "id": "c61925da-18dd-48b8-bd38-418c11260b6f",
   "metadata": {
    "tags": []
   },
   "outputs": [],
   "source": [
    "# Realizar predicciones en el conjunto de prueba\n",
    "y_pred = model.predict(X_test)\n",
    "\n",
    "# Evaluar el rendimiento del modelo\n",
    "r_squared = r2_score(y_test, y_pred)\n",
    "mse = mean_squared_error(y_test, y_pred)"
   ]
  },
  {
   "cell_type": "markdown",
   "id": "8c2505de-a8ea-4bec-9269-f5f668ed5cb2",
   "metadata": {},
   "source": [
    "*error cuadrático*\n",
    "\n",
    "$ (R^2 = 1 - \\frac{SSR}{SST}) $"
   ]
  },
  {
   "cell_type": "code",
   "execution_count": 19,
   "id": "71547d82-1fd5-433f-a10a-7eb7e8868639",
   "metadata": {
    "tags": []
   },
   "outputs": [
    {
     "name": "stdout",
     "output_type": "stream",
     "text": [
      " (R²): -0.005568857619536072\n"
     ]
    }
   ],
   "source": [
    "print(f\" (R²): {r_squared}\")"
   ]
  },
  {
   "cell_type": "markdown",
   "id": "6cf0e3e3-bddc-4eb9-970e-cc1838592ab4",
   "metadata": {},
   "source": [
    "*Error cuadrático medio (MSE)*\n",
    "\n",
    "$ (MSE = \\frac{1}{n} \\sum_{i=1}^{n} (y_i - \\hat{y}_i)^2) $"
   ]
  },
  {
   "cell_type": "code",
   "execution_count": 20,
   "id": "7c807d4a-1b54-463d-b76b-76290cf5a64d",
   "metadata": {
    "tags": []
   },
   "outputs": [
    {
     "name": "stdout",
     "output_type": "stream",
     "text": [
      "(MSE): 11.951493700009499\n"
     ]
    }
   ],
   "source": [
    "print(f\"(MSE): {mse}\")"
   ]
  },
  {
   "cell_type": "code",
   "execution_count": 21,
   "id": "f1be7595-4eff-4f7e-9897-c1c6c278c255",
   "metadata": {
    "tags": []
   },
   "outputs": [
    {
     "name": "stdout",
     "output_type": "stream",
     "text": [
      "Predicción de millas por galón:\n"
     ]
    },
    {
     "data": {
      "text/plain": [
       "14.962259661686758"
      ]
     },
     "execution_count": 21,
     "metadata": {},
     "output_type": "execute_result"
    }
   ],
   "source": [
    "# Para realizar una predicción para un nuevo conjunto de características, puedes hacer lo siguiente:\n",
    "\n",
    "predicted_mpg = model.predict(X_test)\n",
    "\n",
    "print(f\"Predicción de millas por galón:\")\n",
    "\n",
    "predicted_mpg[0]"
   ]
  },
  {
   "cell_type": "markdown",
   "id": "aca3ad03-e491-4194-a7f7-a40565afd6ae",
   "metadata": {},
   "source": [
    "#### Grafico"
   ]
  },
  {
   "cell_type": "code",
   "execution_count": 22,
   "id": "4eec3faf-76bf-4da5-92c5-f3315566d810",
   "metadata": {
    "tags": []
   },
   "outputs": [
    {
     "data": {
      "image/png": "[encoded data removed]",
      "text/plain": [
       "<Figure size 640x480 with 1 Axes>"
      ]
     },
     "metadata": {},
     "output_type": "display_data"
    }
   ],
   "source": [
    "import matplotlib.pyplot as plt\n",
    "\n",
    "# Calcular los residuales (diferencia entre los valores reales y las predicciones)\n",
    "y_pred = model.predict(X_train)\n",
    "residuales = y_pred - y_train\n",
    "\n",
    "# Crear un gráfico de dispersión de los residuales\n",
    "plt.scatter(y_pred, residuales, alpha=0.5)\n",
    "plt.xlabel('Predicciones')\n",
    "plt.ylabel('Residuales')\n",
    "plt.title('Gráfico de Residuales')\n",
    "plt.grid(True)\n",
    "\n",
    "plt.axhline(y=0, color='red', linestyle='--', linewidth=2, label='Residuales Nulos')\n",
    "plt.show()\n"
   ]
  },
  {
   "cell_type": "markdown",
   "id": "73e3bae0-599d-4320-808d-4a64c89bcd11",
   "metadata": {},
   "source": [
    "#### **4. Exploración de statsmodels:**"
   ]
  },
  {
   "cell_type": "code",
   "execution_count": 23,
   "id": "caf6add0-4546-4d31-b5a3-bb73eeb9ccac",
   "metadata": {
    "tags": []
   },
   "outputs": [
    {
     "name": "stdout",
     "output_type": "stream",
     "text": [
      "                            OLS Regression Results                            \n",
      "==============================================================================\n",
      "Dep. Variable:           millas_galon   R-squared:                       0.827\n",
      "Model:                            OLS   Adj. R-squared:                  0.808\n",
      "Method:                 Least Squares   F-statistic:                     44.57\n",
      "Date:                Thu, 14 Sep 2023   Prob (F-statistic):           8.65e-11\n",
      "Time:                        20:46:21   Log-Likelihood:                -74.321\n",
      "No. Observations:                  32   AIC:                             156.6\n",
      "Df Residuals:                      28   BIC:                             162.5\n",
      "Df Model:                           3                                         \n",
      "Covariance Type:            nonrobust                                         \n",
      "==============================================================================\n",
      "                 coef    std err          t      P>|t|      [0.025      0.975]\n",
      "------------------------------------------------------------------------------\n",
      "const         37.1055      2.111     17.579      0.000      32.782      41.429\n",
      "disp          -0.0009      0.010     -0.091      0.929      -0.022       0.020\n",
      "hp            -0.0312      0.011     -2.724      0.011      -0.055      -0.008\n",
      "wt            -3.8009      1.066     -3.565      0.001      -5.985      -1.617\n",
      "==============================================================================\n",
      "Omnibus:                        5.269   Durbin-Watson:                   1.367\n",
      "Prob(Omnibus):                  0.072   Jarque-Bera (JB):                4.038\n",
      "Skew:                           0.856   Prob(JB):                        0.133\n",
      "Kurtosis:                       3.310   Cond. No.                     1.50e+03\n",
      "==============================================================================\n",
      "\n",
      "Notes:\n",
      "[1] Standard Errors assume that the covariance matrix of the errors is correctly specified.\n",
      "[2] The condition number is large, 1.5e+03. This might indicate that there are\n",
      "strong multicollinearity or other numerical problems.\n"
     ]
    }
   ],
   "source": [
    "import statsmodels.api as sm\n",
    "\n",
    "X = df[['disp', 'hp', 'wt']]\n",
    "y = df['millas_galon']\n",
    "X = sm.add_constant(X)\n",
    "\n",
    "model = sm.OLS(y, X).fit()\n",
    "\n",
    "print(model.summary())"
   ]
  },
  {
   "cell_type": "markdown",
   "id": "a3a6fb99-42c9-4fe4-a47c-b9f2d0e31420",
   "metadata": {},
   "source": [
    "Interpretción de resultados estadísticos\n",
    "\n",
    "$$millas_galon=37.1055-0.0009*disp-0.0312*hp-3.8009*wt$$\n",
    "\n",
    "### analísis sobre **disp**\n",
    "\n",
    "* interpretación del coeficiente\n",
    "\n",
    "$\\beta_1=-0.0009$, por cada centimetro cubico que aumente el vehiculo, la distancia en millas por galon disminulle en 0.0009.\n",
    "\n",
    "* prueba de hipótesis\n",
    "\n",
    "$H_0:\\beta_1=0$ vs $H_1:\\beta_1\\neq 0$\n",
    "\n",
    "para esta prueba de hipótesis el estadístico de prueba es $-0.091$ y su $p-valor=0.929>5\\%$, por tanto a un nivel de significancia del 95%, la variable disp no es significativa dentro del modelo. \n",
    "\n",
    "\n",
    "### analísis sobre **hp**\n",
    "\n",
    "* interpretación del coeficiente\n",
    "\n",
    "$\\beta_2=-0.0312$, por cada centimetro cubico que aumente el vehiculo, la distancia en millas por galon disminulle en 0.0312.\n",
    "\n",
    "* prueba de hipótesis\n",
    "\n",
    "$H_0:\\beta_2=0$ vs $H_1:\\beta_2\\neq 0$\n",
    "\n",
    "para esta prueba de hipótesis el estadístico de prueba es $-0.0312$ y su $p-valor=0.0312<5\\%$, por tanto a un nivel de significancia del 95%, la variable disp  es significativa dentro del modelo. \n",
    "\n",
    "### analísis sobre **wt**\n",
    "\n",
    "* interpretación del coeficiente\n",
    "\n",
    "$\\beta_3=-3.8009$, por cada centimetro cubico que aumente el vehiculo, la distancia en millas por galon disminulle en 3.8009.\n",
    "\n",
    "* prueba de hipótesis\n",
    "\n",
    "$H_0:\\beta_3=0$ vs $H_1:\\beta_3\\neq 0$\n",
    "\n",
    "para esta prueba de hipótesis el estadístico de prueba es $-3.8009$ y su $p-valor=3.8009<5\\%$, por tanto a un nivel de significancia del 95%, la variable disp  es significativa dentro del modelo. \n",
    "\n",
    "\n",
    "### análisis de $R^2$\n",
    "\n",
    "\n",
    "$R^2 = 1 - \\frac{\\sum_{i=1}^{n} (y_i - \\hat{y}_i)^2}{\\sum_{i=1}^{n} (y_i - \\bar{y})^2}= 0.827$\n",
    "\n",
    "el $R^2$ es 82.7% lo que significa que la variabilidad de millas por galón es explicada en un 82.7% por la variabilidad de las variables independientes "
   ]
  },
  {
   "cell_type": "code",
   "execution_count": 24,
   "id": "cda3353b-4104-4818-8b47-b4d2c2d19435",
   "metadata": {
    "tags": []
   },
   "outputs": [
    {
     "data": {
      "image/png": "[encoded data removed]",
      "text/plain": [
       "<Figure size 800x400 with 1 Axes>"
      ]
     },
     "metadata": {},
     "output_type": "display_data"
    },
    {
     "data": {
      "image/png": "[encoded data removed]",
      "text/plain": [
       "<Figure size 640x480 with 1 Axes>"
      ]
     },
     "metadata": {},
     "output_type": "display_data"
    }
   ],
   "source": [
    "\n",
    "residuales = model.resid\n",
    "\n",
    "# Gráfico de dispersión de residuales\n",
    "plt.figure(figsize=(8, 4))\n",
    "plt.scatter(model.fittedvalues, residuales, alpha=0.5)\n",
    "plt.xlabel('Valores Predichos')\n",
    "plt.ylabel('Residuales')\n",
    "plt.title('Gráfico de Residuales')\n",
    "plt.axhline(y=0, color='red', linestyle='--', linewidth=2)\n",
    "plt.grid(True)\n",
    "plt.show()\n",
    "\n",
    "# Gráfico QQ de residuales\n",
    "sm.qqplot(residuales, line='s')\n",
    "plt.title('Gráfico QQ de Residuales')\n",
    "plt.show()\n"
   ]
  },
  {
   "cell_type": "markdown",
   "id": "3c3c4379-da3a-4061-8564-61de6edbb8e0",
   "metadata": {
    "tags": []
   },
   "source": [
    "#### Logistica"
   ]
  },
  {
   "cell_type": "code",
   "execution_count": 25,
   "id": "f12b8a0f-acd2-4854-b7cb-58390198bb24",
   "metadata": {
    "tags": []
   },
   "outputs": [
    {
     "name": "stdout",
     "output_type": "stream",
     "text": [
      "Warning: Maximum number of iterations has been exceeded.\n",
      "         Current function value: 0.000000\n",
      "         Iterations: 35\n",
      "                           Logit Regression Results                           \n",
      "==============================================================================\n",
      "Dep. Variable:       alto_rendimiento   No. Observations:                   32\n",
      "Model:                          Logit   Df Residuals:                       28\n",
      "Method:                           MLE   Df Model:                            3\n",
      "Date:                Thu, 14 Sep 2023   Pseudo R-squ.:                   1.000\n",
      "Time:                        20:46:27   Log-Likelihood:            -1.4663e-06\n",
      "converged:                      False   LL-Null:                       -21.930\n",
      "Covariance Type:            nonrobust   LLR p-value:                 1.616e-09\n",
      "==============================================================================\n",
      "                 coef    std err          z      P>|z|      [0.025      0.975]\n",
      "------------------------------------------------------------------------------\n",
      "const        575.5240   3.32e+08   1.73e-06      1.000   -6.51e+08    6.51e+08\n",
      "disp           0.0594   2.69e+05   2.21e-07      1.000   -5.27e+05    5.27e+05\n",
      "hp            -1.3184   8.32e+05  -1.59e-06      1.000   -1.63e+06    1.63e+06\n",
      "wt          -134.3018   5.32e+07  -2.52e-06      1.000   -1.04e+08    1.04e+08\n",
      "==============================================================================\n",
      "\n",
      "Complete Separation: The results show that there iscomplete separation or perfect prediction.\n",
      "In this case the Maximum Likelihood Estimator does not exist and the parameters\n",
      "are not identified.\n"
     ]
    },
    {
     "name": "stderr",
     "output_type": "stream",
     "text": [
      "C:\\Users\\pc\\anaconda3\\envs\\marsh1\\lib\\site-packages\\statsmodels\\base\\model.py:607: ConvergenceWarning: Maximum Likelihood optimization failed to converge. Check mle_retvals\n",
      "  warnings.warn(\"Maximum Likelihood optimization failed to \"\n"
     ]
    }
   ],
   "source": [
    "import statsmodels.api as sm\n",
    "\n",
    "umbral = 20\n",
    "\n",
    "df['alto_rendimiento'] = (df['millas_galon'] > umbral).astype(int)\n",
    "\n",
    "X = df[['disp', 'hp', 'wt',]]\n",
    "y = df['alto_rendimiento']\n",
    "X = sm.add_constant(X)\n",
    "\n",
    "model = sm.Logit(y, X).fit()\n",
    "print(model.summary())"
   ]
  },
  {
   "cell_type": "code",
   "execution_count": 152,
   "id": "6e84bc14-8735-4de0-bc9b-c371e44b0c5f",
   "metadata": {
    "tags": []
   },
   "outputs": [
    {
     "data": {
      "text/plain": [
       "0.4375"
      ]
     },
     "execution_count": 152,
     "metadata": {},
     "output_type": "execute_result"
    }
   ],
   "source": []
  },
  {
   "cell_type": "markdown",
   "id": "0df25b8e-094b-480b-9da3-b3933a31a277",
   "metadata": {},
   "source": [
    "#### 5. Informe"
   ]
  },
  {
   "cell_type": "markdown",
   "id": "1246a085-969e-4b16-91d9-f588e65128bc",
   "metadata": {},
   "source": [
    "**Introducción a las bibliotecas scikit-learn (sklearn) y statsmodels.**\n",
    "\n",
    "utilizamos un conjunto de datos de automoviles para realizar un análisis exploratorio y modelos utilizando las bibliotecas scikit-learn (sklearn) y statsmodels. con el objetivo de comprender y tratar de predecir el rendimiento en  millas por galón (mpg) de los automóviles en función de diversas características, como la potencia del motor (hp), la capacidad del motor (disp) y el peso (wt)."
   ]
  },
  {
   "cell_type": "markdown",
   "id": "9c0e5479-5cd1-4bd3-9642-8c0687c48f18",
   "metadata": {},
   "source": [
    "**Descripción de los ejercicios prácticos realizados.**\n",
    "\n",
    "el ejercicio se realizó en varias etapas:\n",
    "en el procesamiento de datos se renombraron variables para mejorar la comprensión \n",
    "\n",
    "para el modelo y las metricas utilicé scikit-learn para realizar la regresión lineal para predecir las millas por galon.\n",
    "\n",
    "se realizó exploración de residuales realizando un análisis para evaluar una regresión lineal y creé un gráfico de dispersión residual para identificar posibles patrones de errores.\n",
    "\n",
    "Realicé una Regresión lineal con statsmodels, presentada en resumen detallada del modelo incluyendo estadísticas como R-squared, F-statistic y coeficientes de variables.\n",
    "\n",
    "Regresión logística con statsmodels: se aplicó una regresión logística para predecir si un automóvil tenía un alto rendimiento (mpg > 20)"
   ]
  },
  {
   "cell_type": "markdown",
   "id": "d04b4689-6f0c-4173-a57c-81605c5f65d0",
   "metadata": {},
   "source": [
    "**Resultados y conclusiones de los ejercicios.**\n",
    "\n",
    "La regresión lineal con scikit-learn arrojó un bajo coeficiente de determinación (R²) de aproximadamente -0.0056, lo que indica que el modelo no se ajustó bien a los datos y no pudo explicar la variabilidad en las millas por galón.\n",
    "\n",
    "El error cuadrático medio (MSE) fue alto, alrededor de 11.95, lo que sugiere que las predicciones del modelo tenían una gran discrepancia con los valores reales.\n",
    "\n",
    "El análisis de residuales reveló que los errores de predicción no seguían un patrón claro, lo que indica que la regresión lineal no era la mejor opción para este conjunto de datos.\n",
    "\n",
    "La regresión lineal con statsmodels mostró resultados similares a la de scikit-learn, con un R-squared de 0.827, pero aún así, el modelo tenía problemas de ajuste.\n",
    "\n",
    "El intento de aplicar una regresión logística para predecir el alto rendimiento no tuvo éxito debido a problemas de separación completa y falta de convergencia."
   ]
  }
 ],
 "metadata": {
  "kernelspec": {
   "display_name": "Python 3 (ipykernel)",
   "language": "python",
   "name": "python3"
  },
  "language_info": {
   "codemirror_mode": {
    "name": "ipython",
    "version": 3
   },
   "file_extension": ".py",
   "mimetype": "text/x-python",
   "name": "python",
   "nbconvert_exporter": "python",
   "pygments_lexer": "ipython3",
   "version": "3.8.18"
  }
 },
 "nbformat": 4,
 "nbformat_minor": 5
}
